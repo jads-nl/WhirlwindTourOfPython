{
  "nbformat": 4,
  "nbformat_minor": 0,
  "metadata": {
    "anaconda-cloud": {},
    "kernelspec": {
      "display_name": "Python 3",
      "language": "python",
      "name": "python3"
    },
    "language_info": {
      "codemirror_mode": {
        "name": "ipython",
        "version": 3
      },
      "file_extension": ".py",
      "mimetype": "text/x-python",
      "name": "python",
      "nbconvert_exporter": "python",
      "pygments_lexer": "ipython3",
      "version": "3.5.1"
    },
    "colab": {
      "name": "09-Errors-and-Exceptions.ipynb",
      "provenance": [],
      "include_colab_link": true
    }
  },
  "cells": [
    {
      "cell_type": "markdown",
      "metadata": {
        "id": "view-in-github",
        "colab_type": "text"
      },
      "source": [
        "<a href=\"https://colab.research.google.com/github/jads-nl/WhirlwindTourOfPython/blob/master/09-Errors-and-Exceptions.ipynb\" target=\"_parent\"><img src=\"https://colab.research.google.com/assets/colab-badge.svg\" alt=\"Open In Colab\"/></a>"
      ]
    },
    {
      "cell_type": "markdown",
      "metadata": {
        "id": "YGHyBMU-tkLM"
      },
      "source": [
        "<!--BOOK_INFORMATION-->\n",
        "<img align=\"left\" style=\"padding-right:10px;\" src=\"https://github.com/jads-nl/WhirlwindTourOfPython/blob/master/fig/cover-small.jpg?raw=1\">\n",
        "*This notebook contains an excerpt from the [Whirlwind Tour of Python](http://www.oreilly.com/programming/free/a-whirlwind-tour-of-python.csp) by Jake VanderPlas; the content is available [on GitHub](https://github.com/jakevdp/WhirlwindTourOfPython).*\n",
        "\n",
        "*The text and code are released under the [CC0](https://github.com/jakevdp/WhirlwindTourOfPython/blob/master/LICENSE) license; see also the companion project, the [Python Data Science Handbook](https://github.com/jakevdp/PythonDataScienceHandbook).*\n"
      ]
    },
    {
      "cell_type": "markdown",
      "metadata": {
        "id": "mOEvBYVOtkLX"
      },
      "source": [
        "<!--NAVIGATION-->\n",
        "< [Defining and Using Functions](08-Defining-Functions.ipynb) | [Contents](Index.ipynb) | [Iterators](10-Iterators.ipynb) >"
      ]
    },
    {
      "cell_type": "markdown",
      "metadata": {
        "id": "pfhG_3c7tkLd"
      },
      "source": [
        "# Errors and Exceptions"
      ]
    },
    {
      "cell_type": "markdown",
      "metadata": {
        "id": "iVH6zC64tkLu"
      },
      "source": [
        "No matter your skill as a programmer, you will eventually make a coding mistake.\n",
        "Such mistakes come in three basic flavors:\n",
        "\n",
        "- *Syntax errors:* Errors where the code is not valid Python (generally easy to fix)\n",
        "- *Runtime errors:* Errors where syntactically valid code fails to execute, perhaps due to invalid user input (sometimes easy to fix)\n",
        "- *Semantic errors:* Errors in logic: code executes without a problem, but the result is not what you expect (often very difficult to track-down and fix)\n",
        "\n",
        "Here we're going to focus on how to deal cleanly with *runtime errors*.\n",
        "As we'll see, Python handles runtime errors via its *exception handling* framework."
      ]
    },
    {
      "cell_type": "markdown",
      "metadata": {
        "id": "Vk-RmvdDtkLz"
      },
      "source": [
        "## Runtime Errors\n",
        "\n",
        "If you've done any coding in Python, you've likely come across runtime errors.\n",
        "They can happen in a lot of ways.\n",
        "\n",
        "For example, if you try to reference an undefined variable:"
      ]
    },
    {
      "cell_type": "code",
      "metadata": {
        "id": "DLDqpmPCtkL2",
        "outputId": "634ceb78-0e96-4909-e893-fd7f0928b782",
        "colab": {
          "base_uri": "https://localhost:8080/",
          "height": 165
        }
      },
      "source": [
        "print(Q)"
      ],
      "execution_count": 1,
      "outputs": [
        {
          "output_type": "error",
          "ename": "NameError",
          "evalue": "ignored",
          "traceback": [
            "\u001b[0;31m---------------------------------------------------------------------------\u001b[0m",
            "\u001b[0;31mNameError\u001b[0m                                 Traceback (most recent call last)",
            "\u001b[0;32m<ipython-input-1-cbf1bd89097d>\u001b[0m in \u001b[0;36m<module>\u001b[0;34m()\u001b[0m\n\u001b[0;32m----> 1\u001b[0;31m \u001b[0mprint\u001b[0m\u001b[0;34m(\u001b[0m\u001b[0mQ\u001b[0m\u001b[0;34m)\u001b[0m\u001b[0;34m\u001b[0m\u001b[0;34m\u001b[0m\u001b[0m\n\u001b[0m",
            "\u001b[0;31mNameError\u001b[0m: name 'Q' is not defined"
          ]
        }
      ]
    },
    {
      "cell_type": "markdown",
      "metadata": {
        "id": "frHzXEIntkMR"
      },
      "source": [
        "Or if you try an operation that's not defined:"
      ]
    },
    {
      "cell_type": "code",
      "metadata": {
        "id": "l7myOCtvtkMT",
        "outputId": "5aa6fc0b-1ed1-4741-e735-772eea3663d2",
        "colab": {
          "base_uri": "https://localhost:8080/",
          "height": 165
        }
      },
      "source": [
        "1 + 'abc'"
      ],
      "execution_count": 3,
      "outputs": [
        {
          "output_type": "error",
          "ename": "TypeError",
          "evalue": "ignored",
          "traceback": [
            "\u001b[0;31m---------------------------------------------------------------------------\u001b[0m",
            "\u001b[0;31mTypeError\u001b[0m                                 Traceback (most recent call last)",
            "\u001b[0;32m<ipython-input-3-a51a3635a212>\u001b[0m in \u001b[0;36m<module>\u001b[0;34m()\u001b[0m\n\u001b[0;32m----> 1\u001b[0;31m \u001b[0;36m1\u001b[0m \u001b[0;34m+\u001b[0m \u001b[0;34m'abc'\u001b[0m\u001b[0;34m\u001b[0m\u001b[0;34m\u001b[0m\u001b[0m\n\u001b[0m",
            "\u001b[0;31mTypeError\u001b[0m: unsupported operand type(s) for +: 'int' and 'str'"
          ]
        }
      ]
    },
    {
      "cell_type": "markdown",
      "metadata": {
        "id": "i4qeEuAPtkMc"
      },
      "source": [
        "Or you might be trying to compute a mathematically ill-defined result:"
      ]
    },
    {
      "cell_type": "code",
      "metadata": {
        "id": "Lei5EuD3tkMd",
        "outputId": "13928ba0-4cb3-4017-b63d-6842a78cfd73",
        "colab": {
          "base_uri": "https://localhost:8080/",
          "height": 165
        }
      },
      "source": [
        "2 / 0"
      ],
      "execution_count": 4,
      "outputs": [
        {
          "output_type": "error",
          "ename": "ZeroDivisionError",
          "evalue": "ignored",
          "traceback": [
            "\u001b[0;31m---------------------------------------------------------------------------\u001b[0m",
            "\u001b[0;31mZeroDivisionError\u001b[0m                         Traceback (most recent call last)",
            "\u001b[0;32m<ipython-input-4-8b4ac6d3a3e1>\u001b[0m in \u001b[0;36m<module>\u001b[0;34m()\u001b[0m\n\u001b[0;32m----> 1\u001b[0;31m \u001b[0;36m2\u001b[0m \u001b[0;34m/\u001b[0m \u001b[0;36m0\u001b[0m\u001b[0;34m\u001b[0m\u001b[0;34m\u001b[0m\u001b[0m\n\u001b[0m",
            "\u001b[0;31mZeroDivisionError\u001b[0m: division by zero"
          ]
        }
      ]
    },
    {
      "cell_type": "markdown",
      "metadata": {
        "id": "5T6WiUwOtkMm"
      },
      "source": [
        "Or maybe you're trying to access a sequence element that doesn't exist:"
      ]
    },
    {
      "cell_type": "code",
      "metadata": {
        "id": "UgZHB2i6tkMn",
        "outputId": "2fcdd2c1-7538-4286-f419-1a8724144f35",
        "colab": {
          "base_uri": "https://localhost:8080/",
          "height": 182
        }
      },
      "source": [
        "L = [1, 2, 3]\n",
        "L[1000]"
      ],
      "execution_count": 5,
      "outputs": [
        {
          "output_type": "error",
          "ename": "IndexError",
          "evalue": "ignored",
          "traceback": [
            "\u001b[0;31m---------------------------------------------------------------------------\u001b[0m",
            "\u001b[0;31mIndexError\u001b[0m                                Traceback (most recent call last)",
            "\u001b[0;32m<ipython-input-5-354067ebdc84>\u001b[0m in \u001b[0;36m<module>\u001b[0;34m()\u001b[0m\n\u001b[1;32m      1\u001b[0m \u001b[0mL\u001b[0m \u001b[0;34m=\u001b[0m \u001b[0;34m[\u001b[0m\u001b[0;36m1\u001b[0m\u001b[0;34m,\u001b[0m \u001b[0;36m2\u001b[0m\u001b[0;34m,\u001b[0m \u001b[0;36m3\u001b[0m\u001b[0;34m]\u001b[0m\u001b[0;34m\u001b[0m\u001b[0;34m\u001b[0m\u001b[0m\n\u001b[0;32m----> 2\u001b[0;31m \u001b[0mL\u001b[0m\u001b[0;34m[\u001b[0m\u001b[0;36m1000\u001b[0m\u001b[0;34m]\u001b[0m\u001b[0;34m\u001b[0m\u001b[0;34m\u001b[0m\u001b[0m\n\u001b[0m",
            "\u001b[0;31mIndexError\u001b[0m: list index out of range"
          ]
        }
      ]
    },
    {
      "cell_type": "markdown",
      "metadata": {
        "id": "oubsocRatkMu"
      },
      "source": [
        "Note that in each case, Python is kind enough to not simply indicate that an error happened, but to spit out a *meaningful* exception that includes information about what exactly went wrong, along with the exact line of code where the error happened.\n",
        "Having access to meaningful errors like this is immensely useful when trying to trace the root of problems in your code."
      ]
    },
    {
      "cell_type": "markdown",
      "metadata": {
        "id": "YWCvYAk2tkMv"
      },
      "source": [
        "## Catching Exceptions: ``try`` and ``except``\n",
        "The main tool Python gives you for handling runtime exceptions is the ``try``...``except`` clause.\n",
        "Its basic structure is this:"
      ]
    },
    {
      "cell_type": "code",
      "metadata": {
        "id": "om7BXkVFtkMx",
        "outputId": "1547f686-edc6-4387-cd17-5781f884f1e0",
        "colab": {
          "base_uri": "https://localhost:8080/"
        }
      },
      "source": [
        "try:\n",
        "    print(\"this gets executed first\")\n",
        "except:\n",
        "    print(\"this gets executed only if there is an error\")"
      ],
      "execution_count": 6,
      "outputs": [
        {
          "output_type": "stream",
          "text": [
            "this gets executed first\n"
          ],
          "name": "stdout"
        }
      ]
    },
    {
      "cell_type": "markdown",
      "metadata": {
        "id": "eEXZY8_NtkM3"
      },
      "source": [
        "Note that the second block here did not get executed: this is because the first block did not return an error.\n",
        "Let's put a problematic statement in the ``try`` block and see what happens:"
      ]
    },
    {
      "cell_type": "code",
      "metadata": {
        "id": "IhKGAwXztkM5",
        "outputId": "0e15ad85-0eeb-4d77-8a59-7b4c87f97ea4",
        "colab": {
          "base_uri": "https://localhost:8080/"
        }
      },
      "source": [
        "try:\n",
        "    print(\"let's try something:\")\n",
        "    x = 1 / 0 # ZeroDivisionError\n",
        "except:\n",
        "    print(\"something bad happened!\")"
      ],
      "execution_count": 7,
      "outputs": [
        {
          "output_type": "stream",
          "text": [
            "let's try something:\n",
            "something bad happened!\n"
          ],
          "name": "stdout"
        }
      ]
    },
    {
      "cell_type": "markdown",
      "metadata": {
        "id": "GBpI5PZKtkM_"
      },
      "source": [
        "Here we see that when the error was raised in the ``try`` statement (in this case, a ``ZeroDivisionError``), the error was caught, and the ``except`` statement was executed.\n",
        "\n",
        "One way this is often used is to check user input within a function or another piece of code.\n",
        "For example, we might wish to have a function that catches zero-division and returns some other value, perhaps a suitably large number like $10^{100}$:"
      ]
    },
    {
      "cell_type": "code",
      "metadata": {
        "id": "T0g4IT_etkM_"
      },
      "source": [
        "def safe_divide(a, b):\n",
        "    try:\n",
        "        return a / b\n",
        "    except:\n",
        "        return 1E100"
      ],
      "execution_count": 8,
      "outputs": []
    },
    {
      "cell_type": "code",
      "metadata": {
        "id": "MVfVths-tkNF",
        "outputId": "16b4d9da-6972-4f22-b747-2d5b791b8ac0",
        "colab": {
          "base_uri": "https://localhost:8080/"
        }
      },
      "source": [
        "safe_divide(1, 2)"
      ],
      "execution_count": 9,
      "outputs": [
        {
          "output_type": "execute_result",
          "data": {
            "text/plain": [
              "0.5"
            ]
          },
          "metadata": {
            "tags": []
          },
          "execution_count": 9
        }
      ]
    },
    {
      "cell_type": "code",
      "metadata": {
        "id": "O4IbJetftkNK",
        "outputId": "2e9d65be-9b66-4d6a-8187-d7f87043266c",
        "colab": {
          "base_uri": "https://localhost:8080/"
        }
      },
      "source": [
        "safe_divide(2, 0)"
      ],
      "execution_count": 10,
      "outputs": [
        {
          "output_type": "execute_result",
          "data": {
            "text/plain": [
              "1e+100"
            ]
          },
          "metadata": {
            "tags": []
          },
          "execution_count": 10
        }
      ]
    },
    {
      "cell_type": "markdown",
      "metadata": {
        "id": "uNzVuNkDtkNP"
      },
      "source": [
        "There is a subtle problem with this code, though: what happens when another type of exception comes up? For example, this is probably not what we intended:"
      ]
    },
    {
      "cell_type": "code",
      "metadata": {
        "id": "jGu3Bh7ntkNQ",
        "outputId": "aac672b1-9d29-41f4-9e70-c407788413f0",
        "colab": {
          "base_uri": "https://localhost:8080/"
        }
      },
      "source": [
        "safe_divide (1, '2')"
      ],
      "execution_count": 11,
      "outputs": [
        {
          "output_type": "execute_result",
          "data": {
            "text/plain": [
              "1e+100"
            ]
          },
          "metadata": {
            "tags": []
          },
          "execution_count": 11
        }
      ]
    },
    {
      "cell_type": "markdown",
      "metadata": {
        "id": "K_S88ICutkNV"
      },
      "source": [
        "Dividing an integer and a string raises a ``TypeError``, which our over-zealous code caught and assumed was a ``ZeroDivisionError``!\n",
        "For this reason, it's nearly always a better idea to catch exceptions *explicitly*:"
      ]
    },
    {
      "cell_type": "code",
      "metadata": {
        "id": "4AqiX92ptkNW"
      },
      "source": [
        "def safe_divide(a, b):\n",
        "    try:\n",
        "        return a / b\n",
        "    except ZeroDivisionError:\n",
        "        return 1E100"
      ],
      "execution_count": 12,
      "outputs": []
    },
    {
      "cell_type": "code",
      "metadata": {
        "id": "hAZOiNLutkNc",
        "outputId": "6e51533c-d89f-40b6-9822-03b8b9130cdf",
        "colab": {
          "base_uri": "https://localhost:8080/"
        }
      },
      "source": [
        "safe_divide(1, 0)"
      ],
      "execution_count": 13,
      "outputs": [
        {
          "output_type": "execute_result",
          "data": {
            "text/plain": [
              "1e+100"
            ]
          },
          "metadata": {
            "tags": []
          },
          "execution_count": 13
        }
      ]
    },
    {
      "cell_type": "code",
      "metadata": {
        "id": "Fy7NJqBMtkNf",
        "outputId": "ee9cdbbf-929c-464a-c4f2-dfffc577bd51",
        "colab": {
          "base_uri": "https://localhost:8080/",
          "height": 286
        }
      },
      "source": [
        "safe_divide(1, '2')"
      ],
      "execution_count": 14,
      "outputs": [
        {
          "output_type": "error",
          "ename": "TypeError",
          "evalue": "ignored",
          "traceback": [
            "\u001b[0;31m---------------------------------------------------------------------------\u001b[0m",
            "\u001b[0;31mTypeError\u001b[0m                                 Traceback (most recent call last)",
            "\u001b[0;32m<ipython-input-14-cbb3eb91a66d>\u001b[0m in \u001b[0;36m<module>\u001b[0;34m()\u001b[0m\n\u001b[0;32m----> 1\u001b[0;31m \u001b[0msafe_divide\u001b[0m\u001b[0;34m(\u001b[0m\u001b[0;36m1\u001b[0m\u001b[0;34m,\u001b[0m \u001b[0;34m'2'\u001b[0m\u001b[0;34m)\u001b[0m\u001b[0;34m\u001b[0m\u001b[0;34m\u001b[0m\u001b[0m\n\u001b[0m",
            "\u001b[0;32m<ipython-input-12-57f0d324952e>\u001b[0m in \u001b[0;36msafe_divide\u001b[0;34m(a, b)\u001b[0m\n\u001b[1;32m      1\u001b[0m \u001b[0;32mdef\u001b[0m \u001b[0msafe_divide\u001b[0m\u001b[0;34m(\u001b[0m\u001b[0ma\u001b[0m\u001b[0;34m,\u001b[0m \u001b[0mb\u001b[0m\u001b[0;34m)\u001b[0m\u001b[0;34m:\u001b[0m\u001b[0;34m\u001b[0m\u001b[0;34m\u001b[0m\u001b[0m\n\u001b[1;32m      2\u001b[0m     \u001b[0;32mtry\u001b[0m\u001b[0;34m:\u001b[0m\u001b[0;34m\u001b[0m\u001b[0;34m\u001b[0m\u001b[0m\n\u001b[0;32m----> 3\u001b[0;31m         \u001b[0;32mreturn\u001b[0m \u001b[0ma\u001b[0m \u001b[0;34m/\u001b[0m \u001b[0mb\u001b[0m\u001b[0;34m\u001b[0m\u001b[0;34m\u001b[0m\u001b[0m\n\u001b[0m\u001b[1;32m      4\u001b[0m     \u001b[0;32mexcept\u001b[0m \u001b[0mZeroDivisionError\u001b[0m\u001b[0;34m:\u001b[0m\u001b[0;34m\u001b[0m\u001b[0;34m\u001b[0m\u001b[0m\n\u001b[1;32m      5\u001b[0m         \u001b[0;32mreturn\u001b[0m \u001b[0;36m1E100\u001b[0m\u001b[0;34m\u001b[0m\u001b[0;34m\u001b[0m\u001b[0m\n",
            "\u001b[0;31mTypeError\u001b[0m: unsupported operand type(s) for /: 'int' and 'str'"
          ]
        }
      ]
    },
    {
      "cell_type": "markdown",
      "metadata": {
        "id": "irWITc5YtkNl"
      },
      "source": [
        "We're now catching zero-division errors only, and letting all other errors pass through un-modified."
      ]
    },
    {
      "cell_type": "markdown",
      "metadata": {
        "id": "hDhRrPmLtkNl"
      },
      "source": [
        "## Raising Exceptions: ``raise``\n",
        "We've seen how valuable it is to have informative exceptions when using parts of the Python language.\n",
        "It's equally valuable to make use of informative exceptions within the code you write, so that users of your code (foremost yourself!) can figure out what caused their errors.\n",
        "\n",
        "The way you raise your own exceptions is with the ``raise`` statement. For example:"
      ]
    },
    {
      "cell_type": "code",
      "metadata": {
        "id": "vRn4gBcLtkNm",
        "outputId": "012a4538-95b0-4c9d-9e8e-2e1aed3c467a",
        "colab": {
          "base_uri": "https://localhost:8080/",
          "height": 165
        }
      },
      "source": [
        "raise RuntimeError(\"my error message\")"
      ],
      "execution_count": 15,
      "outputs": [
        {
          "output_type": "error",
          "ename": "RuntimeError",
          "evalue": "ignored",
          "traceback": [
            "\u001b[0;31m---------------------------------------------------------------------------\u001b[0m",
            "\u001b[0;31mRuntimeError\u001b[0m                              Traceback (most recent call last)",
            "\u001b[0;32m<ipython-input-15-b1834d213d3b>\u001b[0m in \u001b[0;36m<module>\u001b[0;34m()\u001b[0m\n\u001b[0;32m----> 1\u001b[0;31m \u001b[0;32mraise\u001b[0m \u001b[0mRuntimeError\u001b[0m\u001b[0;34m(\u001b[0m\u001b[0;34m\"my error message\"\u001b[0m\u001b[0;34m)\u001b[0m\u001b[0;34m\u001b[0m\u001b[0;34m\u001b[0m\u001b[0m\n\u001b[0m",
            "\u001b[0;31mRuntimeError\u001b[0m: my error message"
          ]
        }
      ]
    },
    {
      "cell_type": "markdown",
      "metadata": {
        "id": "wQpJS-1ntkNq"
      },
      "source": [
        "As an example of where this might be useful, let's return to our ``fibonacci`` function that we defined previously:"
      ]
    },
    {
      "cell_type": "code",
      "metadata": {
        "id": "PnFSn7q6tkNr"
      },
      "source": [
        "def fibonacci(N):\n",
        "    L = []\n",
        "    a, b = 0, 1\n",
        "    while len(L) < N:\n",
        "        a, b = b, a + b\n",
        "        L.append(a)\n",
        "    return L"
      ],
      "execution_count": 16,
      "outputs": []
    },
    {
      "cell_type": "markdown",
      "metadata": {
        "id": "hNvDDvM-tkNv"
      },
      "source": [
        "One potential problem here is that the input value could be negative.\n",
        "This will not currently cause any error in our function, but we might want to let the user know that a negative ``N`` is not supported.\n",
        "Errors stemming from invalid parameter values, by convention, lead to a ``ValueError`` being raised:"
      ]
    },
    {
      "cell_type": "code",
      "metadata": {
        "id": "hxBMflzvtkNx"
      },
      "source": [
        "def fibonacci(N):\n",
        "    if N < 0:\n",
        "        raise ValueError(\"N must be non-negative\")\n",
        "    L = []\n",
        "    a, b = 0, 1\n",
        "    while len(L) < N:\n",
        "        a, b = b, a + b\n",
        "        L.append(a)\n",
        "    return L"
      ],
      "execution_count": 17,
      "outputs": []
    },
    {
      "cell_type": "code",
      "metadata": {
        "id": "VztCD-PqtkN1",
        "outputId": "23a2d163-d4b4-4753-bda3-59a593cea3ac",
        "colab": {
          "base_uri": "https://localhost:8080/"
        }
      },
      "source": [
        "fibonacci(10)"
      ],
      "execution_count": 18,
      "outputs": [
        {
          "output_type": "execute_result",
          "data": {
            "text/plain": [
              "[1, 1, 2, 3, 5, 8, 13, 21, 34, 55]"
            ]
          },
          "metadata": {
            "tags": []
          },
          "execution_count": 18
        }
      ]
    },
    {
      "cell_type": "code",
      "metadata": {
        "id": "T3qCexvEtkN5",
        "outputId": "b24b0824-33f3-426f-89c5-082a8d59b1f5",
        "colab": {
          "base_uri": "https://localhost:8080/",
          "height": 286
        }
      },
      "source": [
        "fibonacci(-10)"
      ],
      "execution_count": 19,
      "outputs": [
        {
          "output_type": "error",
          "ename": "ValueError",
          "evalue": "ignored",
          "traceback": [
            "\u001b[0;31m---------------------------------------------------------------------------\u001b[0m",
            "\u001b[0;31mValueError\u001b[0m                                Traceback (most recent call last)",
            "\u001b[0;32m<ipython-input-19-f1ae0a8066f0>\u001b[0m in \u001b[0;36m<module>\u001b[0;34m()\u001b[0m\n\u001b[0;32m----> 1\u001b[0;31m \u001b[0mfibonacci\u001b[0m\u001b[0;34m(\u001b[0m\u001b[0;34m-\u001b[0m\u001b[0;36m10\u001b[0m\u001b[0;34m)\u001b[0m\u001b[0;34m\u001b[0m\u001b[0;34m\u001b[0m\u001b[0m\n\u001b[0m",
            "\u001b[0;32m<ipython-input-17-721cefef37c2>\u001b[0m in \u001b[0;36mfibonacci\u001b[0;34m(N)\u001b[0m\n\u001b[1;32m      1\u001b[0m \u001b[0;32mdef\u001b[0m \u001b[0mfibonacci\u001b[0m\u001b[0;34m(\u001b[0m\u001b[0mN\u001b[0m\u001b[0;34m)\u001b[0m\u001b[0;34m:\u001b[0m\u001b[0;34m\u001b[0m\u001b[0;34m\u001b[0m\u001b[0m\n\u001b[1;32m      2\u001b[0m     \u001b[0;32mif\u001b[0m \u001b[0mN\u001b[0m \u001b[0;34m<\u001b[0m \u001b[0;36m0\u001b[0m\u001b[0;34m:\u001b[0m\u001b[0;34m\u001b[0m\u001b[0;34m\u001b[0m\u001b[0m\n\u001b[0;32m----> 3\u001b[0;31m         \u001b[0;32mraise\u001b[0m \u001b[0mValueError\u001b[0m\u001b[0;34m(\u001b[0m\u001b[0;34m\"N must be non-negative\"\u001b[0m\u001b[0;34m)\u001b[0m\u001b[0;34m\u001b[0m\u001b[0;34m\u001b[0m\u001b[0m\n\u001b[0m\u001b[1;32m      4\u001b[0m     \u001b[0mL\u001b[0m \u001b[0;34m=\u001b[0m \u001b[0;34m[\u001b[0m\u001b[0;34m]\u001b[0m\u001b[0;34m\u001b[0m\u001b[0;34m\u001b[0m\u001b[0m\n\u001b[1;32m      5\u001b[0m     \u001b[0ma\u001b[0m\u001b[0;34m,\u001b[0m \u001b[0mb\u001b[0m \u001b[0;34m=\u001b[0m \u001b[0;36m0\u001b[0m\u001b[0;34m,\u001b[0m \u001b[0;36m1\u001b[0m\u001b[0;34m\u001b[0m\u001b[0;34m\u001b[0m\u001b[0m\n",
            "\u001b[0;31mValueError\u001b[0m: N must be non-negative"
          ]
        }
      ]
    },
    {
      "cell_type": "markdown",
      "metadata": {
        "id": "kL8Gr1cvtkN9"
      },
      "source": [
        "Now the user knows exactly why the input is invalid, and could even use a ``try``...``except`` block to handle it!"
      ]
    },
    {
      "cell_type": "code",
      "metadata": {
        "id": "1-DYDYGEtkN-",
        "outputId": "12d027cb-4614-49ff-b397-84c499869677",
        "colab": {
          "base_uri": "https://localhost:8080/"
        }
      },
      "source": [
        "N = -10\n",
        "try:\n",
        "    print(\"trying this...\")\n",
        "    print(fibonacci(N))\n",
        "except ValueError:\n",
        "    print(\"Bad value: need to do something else\")"
      ],
      "execution_count": 20,
      "outputs": [
        {
          "output_type": "stream",
          "text": [
            "trying this...\n",
            "Bad value: need to do something else\n"
          ],
          "name": "stdout"
        }
      ]
    },
    {
      "cell_type": "markdown",
      "metadata": {
        "id": "ZJ-u_kCutkOA"
      },
      "source": [
        "## Diving Deeper into Exceptions\n",
        "\n",
        "Briefly, I want to mention here some other concepts you might run into.\n",
        "I'll not go into detail on these concepts and how and why to use them, but instead simply show you the syntax so you can explore more on your own."
      ]
    },
    {
      "cell_type": "markdown",
      "metadata": {
        "id": "carxGuaVtkOC"
      },
      "source": [
        "### Accessing the error message\n",
        "\n",
        "Sometimes in a ``try``...``except`` statement, you would like to be able to work with the error message itself.\n",
        "This can be done with the ``as`` keyword:"
      ]
    },
    {
      "cell_type": "code",
      "metadata": {
        "id": "QcrZW5djtkOE",
        "outputId": "05907202-27ea-4e91-f54d-b246251ccac3",
        "colab": {
          "base_uri": "https://localhost:8080/"
        }
      },
      "source": [
        "try:\n",
        "    x = 1 / 0\n",
        "except ZeroDivisionError as err:\n",
        "    print(\"Error class is:  \", type(err))\n",
        "    print(\"Error message is:\", err)"
      ],
      "execution_count": 21,
      "outputs": [
        {
          "output_type": "stream",
          "text": [
            "Error class is:   <class 'ZeroDivisionError'>\n",
            "Error message is: division by zero\n"
          ],
          "name": "stdout"
        }
      ]
    },
    {
      "cell_type": "markdown",
      "metadata": {
        "id": "2-tCX-GXtkOI"
      },
      "source": [
        "With this pattern, you can further customize the exception handling of your function."
      ]
    },
    {
      "cell_type": "markdown",
      "metadata": {
        "id": "j6ZL1d2ZtkOJ"
      },
      "source": [
        "### Defining custom exceptions\n",
        "In addition to built-in exceptions, it is possible to define custom exceptions through *class inheritance*.\n",
        "For instance, if you want a special kind of ``ValueError``, you can do this:"
      ]
    },
    {
      "cell_type": "code",
      "metadata": {
        "id": "01dUdnyBtkOJ",
        "outputId": "effa78e1-a498-48c3-a658-ca3f6276dfa6",
        "colab": {
          "base_uri": "https://localhost:8080/",
          "height": 199
        }
      },
      "source": [
        "class MySpecialError(ValueError):\n",
        "    pass\n",
        "\n",
        "raise MySpecialError(\"here's the message\")"
      ],
      "execution_count": 22,
      "outputs": [
        {
          "output_type": "error",
          "ename": "MySpecialError",
          "evalue": "ignored",
          "traceback": [
            "\u001b[0;31m---------------------------------------------------------------------------\u001b[0m",
            "\u001b[0;31mMySpecialError\u001b[0m                            Traceback (most recent call last)",
            "\u001b[0;32m<ipython-input-22-1c1bb7b055e0>\u001b[0m in \u001b[0;36m<module>\u001b[0;34m()\u001b[0m\n\u001b[1;32m      2\u001b[0m     \u001b[0;32mpass\u001b[0m\u001b[0;34m\u001b[0m\u001b[0;34m\u001b[0m\u001b[0m\n\u001b[1;32m      3\u001b[0m \u001b[0;34m\u001b[0m\u001b[0m\n\u001b[0;32m----> 4\u001b[0;31m \u001b[0;32mraise\u001b[0m \u001b[0mMySpecialError\u001b[0m\u001b[0;34m(\u001b[0m\u001b[0;34m\"here's the message\"\u001b[0m\u001b[0;34m)\u001b[0m\u001b[0;34m\u001b[0m\u001b[0;34m\u001b[0m\u001b[0m\n\u001b[0m",
            "\u001b[0;31mMySpecialError\u001b[0m: here's the message"
          ]
        }
      ]
    },
    {
      "cell_type": "markdown",
      "metadata": {
        "id": "khHHAdh5tkOP"
      },
      "source": [
        "This would allow you to use a ``try``...``except`` block that only catches this type of error:"
      ]
    },
    {
      "cell_type": "code",
      "metadata": {
        "id": "EgefPe5itkOP",
        "outputId": "8f421232-4d4e-46da-fc66-e6faec488724",
        "colab": {
          "base_uri": "https://localhost:8080/"
        }
      },
      "source": [
        "try:\n",
        "    print(\"do something\")\n",
        "    raise MySpecialError(\"[informative error message here]\")\n",
        "except MySpecialError:\n",
        "    print(\"do something else\")"
      ],
      "execution_count": 23,
      "outputs": [
        {
          "output_type": "stream",
          "text": [
            "do something\n",
            "do something else\n"
          ],
          "name": "stdout"
        }
      ]
    },
    {
      "cell_type": "markdown",
      "metadata": {
        "id": "W4vhSmKLtkOY"
      },
      "source": [
        "You might find this useful as you develop more customized code."
      ]
    },
    {
      "cell_type": "markdown",
      "metadata": {
        "id": "sHwMqJQetkOY"
      },
      "source": [
        "## ``try``...``except``...``else``...``finally``\n",
        "In addition to ``try`` and ``except``, you can use the ``else`` and ``finally`` keywords to further tune your code's handling of exceptions.\n",
        "The basic structure is this:"
      ]
    },
    {
      "cell_type": "code",
      "metadata": {
        "id": "ucxVfQGYtkOZ",
        "outputId": "d58568d5-8daf-4cb0-a1f1-290d5594efe3",
        "colab": {
          "base_uri": "https://localhost:8080/"
        }
      },
      "source": [
        "try:\n",
        "    print(\"try something here\")\n",
        "except:\n",
        "    print(\"this happens only if it fails\")\n",
        "else:\n",
        "    print(\"this happens only if it succeeds\")\n",
        "finally:\n",
        "    print(\"this happens no matter what\")"
      ],
      "execution_count": 24,
      "outputs": [
        {
          "output_type": "stream",
          "text": [
            "try something here\n",
            "this happens only if it succeeds\n",
            "this happens no matter what\n"
          ],
          "name": "stdout"
        }
      ]
    },
    {
      "cell_type": "markdown",
      "metadata": {
        "id": "TnbsyLYStkOb"
      },
      "source": [
        "The utility of ``else`` here is clear, but what's the point of ``finally``?\n",
        "Well, the ``finally`` clause really is executed *no matter what*: I usually see it used to do some sort of cleanup after an operation completes."
      ]
    },
    {
      "cell_type": "markdown",
      "metadata": {
        "id": "Z4R4KeRYtkOc"
      },
      "source": [
        "<!--NAVIGATION-->\n",
        "< [Defining and Using Functions](08-Defining-Functions.ipynb) | [Contents](Index.ipynb) | [Iterators](10-Iterators.ipynb) >"
      ]
    }
  ]
}
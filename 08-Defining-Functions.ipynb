{
  "nbformat": 4,
  "nbformat_minor": 0,
  "metadata": {
    "anaconda-cloud": {},
    "kernelspec": {
      "display_name": "Python 3",
      "language": "python",
      "name": "python3"
    },
    "language_info": {
      "codemirror_mode": {
        "name": "ipython",
        "version": 3
      },
      "file_extension": ".py",
      "mimetype": "text/x-python",
      "name": "python",
      "nbconvert_exporter": "python",
      "pygments_lexer": "ipython3",
      "version": "3.5.1"
    },
    "colab": {
      "name": "08-Defining-Functions.ipynb",
      "provenance": [],
      "include_colab_link": true
    }
  },
  "cells": [
    {
      "cell_type": "markdown",
      "metadata": {
        "id": "view-in-github",
        "colab_type": "text"
      },
      "source": [
        "<a href=\"https://colab.research.google.com/github/jads-nl/WhirlwindTourOfPython/blob/master/08-Defining-Functions.ipynb\" target=\"_parent\"><img src=\"https://colab.research.google.com/assets/colab-badge.svg\" alt=\"Open In Colab\"/></a>"
      ]
    },
    {
      "cell_type": "markdown",
      "metadata": {
        "id": "Z0Pu342Ctim9"
      },
      "source": [
        "<!--BOOK_INFORMATION-->\n",
        "<img align=\"left\" style=\"padding-right:10px;\" src=\"https://github.com/jads-nl/WhirlwindTourOfPython/blob/master/fig/cover-small.jpg?raw=1\">\n",
        "*This notebook contains an excerpt from the [Whirlwind Tour of Python](http://www.oreilly.com/programming/free/a-whirlwind-tour-of-python.csp) by Jake VanderPlas; the content is available [on GitHub](https://github.com/jakevdp/WhirlwindTourOfPython).*\n",
        "\n",
        "*The text and code are released under the [CC0](https://github.com/jakevdp/WhirlwindTourOfPython/blob/master/LICENSE) license; see also the companion project, the [Python Data Science Handbook](https://github.com/jakevdp/PythonDataScienceHandbook).*\n"
      ]
    },
    {
      "cell_type": "markdown",
      "metadata": {
        "id": "k2SthWlktinF"
      },
      "source": [
        "<!--NAVIGATION-->\n",
        "< [Control Flow](07-Control-Flow-Statements.ipynb) | [Contents](Index.ipynb) | [Errors and Exceptions](09-Errors-and-Exceptions.ipynb) >"
      ]
    },
    {
      "cell_type": "markdown",
      "metadata": {
        "id": "FmeDWq9btinH"
      },
      "source": [
        "# Defining and Using Functions"
      ]
    },
    {
      "cell_type": "markdown",
      "metadata": {
        "id": "lONhj93ztinM"
      },
      "source": [
        "So far, our scripts have been simple, single-use code blocks.\n",
        "One way to organize our Python code and to make it more readable and reusable is to factor-out useful pieces into reusable *functions*.\n",
        "Here we'll cover two ways of creating functions: the ``def`` statement, useful for any type of function, and the ``lambda`` statement, useful for creating short anonymous functions."
      ]
    },
    {
      "cell_type": "markdown",
      "metadata": {
        "id": "hFdMjWzvtinP"
      },
      "source": [
        "## Using Functions\n",
        "\n",
        "Functions are groups of code that have a name, and can be called using parentheses.\n",
        "We've seen functions before. For example, ``print`` in Python 3 is a function:"
      ]
    },
    {
      "cell_type": "code",
      "metadata": {
        "id": "GeXcRcbttinR",
        "outputId": "d0c9d26a-1593-490d-a24d-c64ed0b19dd3",
        "colab": {
          "base_uri": "https://localhost:8080/"
        }
      },
      "source": [
        "print('abc')"
      ],
      "execution_count": 1,
      "outputs": [
        {
          "output_type": "stream",
          "text": [
            "abc\n"
          ],
          "name": "stdout"
        }
      ]
    },
    {
      "cell_type": "markdown",
      "metadata": {
        "id": "ykMEKiZRtind"
      },
      "source": [
        "Here ``print`` is the function name, and ``'abc'`` is the function's *argument*.\n",
        "\n",
        "In addition to arguments, there are *keyword arguments* that are specified by name.\n",
        "One available keyword argument for the ``print()`` function (in Python 3) is ``sep``, which tells what character or characters should be used to separate multiple items:"
      ]
    },
    {
      "cell_type": "code",
      "metadata": {
        "id": "sYfPXauGtine",
        "outputId": "fc30fd22-8f36-47ab-850d-27bf667a6a2e",
        "colab": {
          "base_uri": "https://localhost:8080/"
        }
      },
      "source": [
        "print(1, 2, 3)"
      ],
      "execution_count": 2,
      "outputs": [
        {
          "output_type": "stream",
          "text": [
            "1 2 3\n"
          ],
          "name": "stdout"
        }
      ]
    },
    {
      "cell_type": "code",
      "metadata": {
        "id": "bEDpF4H2tinn",
        "outputId": "8ee9b393-1f05-4d3b-dae9-c944eaa06109",
        "colab": {
          "base_uri": "https://localhost:8080/"
        }
      },
      "source": [
        "print(1, 2, 3, sep='--')"
      ],
      "execution_count": 3,
      "outputs": [
        {
          "output_type": "stream",
          "text": [
            "1--2--3\n"
          ],
          "name": "stdout"
        }
      ]
    },
    {
      "cell_type": "markdown",
      "metadata": {
        "id": "E3oIkkKptint"
      },
      "source": [
        "When non-keyword arguments are used together with keyword arguments, the keyword arguments must come at the end."
      ]
    },
    {
      "cell_type": "markdown",
      "metadata": {
        "id": "K7f-o36itinv"
      },
      "source": [
        "## Defining Functions\n",
        "Functions become even more useful when we begin to define our own, organizing functionality to be used in multiple places.\n",
        "In Python, functions are defined with the ``def`` statement.\n",
        "For example, we can encapsulate a version of our Fibonacci sequence code from the previous section as follows:"
      ]
    },
    {
      "cell_type": "code",
      "metadata": {
        "id": "Et1_kYJBtinw"
      },
      "source": [
        "def fibonacci(N):\n",
        "    L = []\n",
        "    a, b = 0, 1\n",
        "    while len(L) < N:\n",
        "        a, b = b, a + b\n",
        "        L.append(a)\n",
        "    return L"
      ],
      "execution_count": 4,
      "outputs": []
    },
    {
      "cell_type": "markdown",
      "metadata": {
        "id": "TwPfQrqQtin2"
      },
      "source": [
        "Now we have a function named ``fibonacci`` which takes a single argument ``N``, does something with this argument, and ``return``s a value; in this case, a list of the first ``N`` Fibonacci numbers:"
      ]
    },
    {
      "cell_type": "code",
      "metadata": {
        "id": "acUCVMletin4",
        "outputId": "6d20c17e-95a2-45e4-b8ac-992dceedff8f",
        "colab": {
          "base_uri": "https://localhost:8080/"
        }
      },
      "source": [
        "fibonacci(10)"
      ],
      "execution_count": 5,
      "outputs": [
        {
          "output_type": "execute_result",
          "data": {
            "text/plain": [
              "[1, 1, 2, 3, 5, 8, 13, 21, 34, 55]"
            ]
          },
          "metadata": {
            "tags": []
          },
          "execution_count": 5
        }
      ]
    },
    {
      "cell_type": "markdown",
      "metadata": {
        "id": "EJdPW5tPtin-"
      },
      "source": [
        "If you're familiar with strongly-typed languages like ``C``, you'll immediately notice that there is no type information associated with the function inputs or outputs.\n",
        "Python functions can return any Python object, simple or compound, which means constructs that may be difficult in other languages are straightforward in Python.\n",
        "\n",
        "For example, multiple return values are simply put in a tuple, which is indicated by commas:"
      ]
    },
    {
      "cell_type": "code",
      "metadata": {
        "id": "I5ylm53ytin-",
        "outputId": "6e61d85c-6941-4e1a-f759-df59adf3a05d",
        "colab": {
          "base_uri": "https://localhost:8080/"
        }
      },
      "source": [
        "def real_imag_conj(val):\n",
        "    return val.real, val.imag, val.conjugate()\n",
        "\n",
        "r, i, c = real_imag_conj(3 + 4j)\n",
        "print(r, i, c)"
      ],
      "execution_count": 6,
      "outputs": [
        {
          "output_type": "stream",
          "text": [
            "3.0 4.0 (3-4j)\n"
          ],
          "name": "stdout"
        }
      ]
    },
    {
      "cell_type": "markdown",
      "metadata": {
        "id": "RzixvWIYtioD"
      },
      "source": [
        "## Default Argument Values\n",
        "\n",
        "Often when defining a function, there are certain values that we want the function to use *most* of the time, but we'd also like to give the user some flexibility.\n",
        "In this case, we can use *default values* for arguments.\n",
        "Consider the ``fibonacci`` function from before.\n",
        "What if we would like the user to be able to play with the starting values?\n",
        "We could do that as follows:"
      ]
    },
    {
      "cell_type": "code",
      "metadata": {
        "id": "NhocwIpCtioF"
      },
      "source": [
        "def fibonacci(N, a=0, b=1):\n",
        "    L = []\n",
        "    while len(L) < N:\n",
        "        a, b = b, a + b\n",
        "        L.append(a)\n",
        "    return L"
      ],
      "execution_count": 7,
      "outputs": []
    },
    {
      "cell_type": "markdown",
      "metadata": {
        "id": "pLJpS_zktioK"
      },
      "source": [
        "With a single argument, the result of the function call is identical to before:"
      ]
    },
    {
      "cell_type": "code",
      "metadata": {
        "id": "WP83Y1AHtioN",
        "outputId": "7800ceda-0084-4b88-d663-e2591aed5e5d",
        "colab": {
          "base_uri": "https://localhost:8080/"
        }
      },
      "source": [
        "fibonacci(10)"
      ],
      "execution_count": 8,
      "outputs": [
        {
          "output_type": "execute_result",
          "data": {
            "text/plain": [
              "[1, 1, 2, 3, 5, 8, 13, 21, 34, 55]"
            ]
          },
          "metadata": {
            "tags": []
          },
          "execution_count": 8
        }
      ]
    },
    {
      "cell_type": "markdown",
      "metadata": {
        "id": "rQT-ZF-xtioZ"
      },
      "source": [
        "But now we can use the function to explore new things, such as the effect of new starting values:"
      ]
    },
    {
      "cell_type": "code",
      "metadata": {
        "id": "y-CHRNTdtiod",
        "outputId": "43ecabc3-87f6-45c7-b00d-f188d3cbf22f",
        "colab": {
          "base_uri": "https://localhost:8080/"
        }
      },
      "source": [
        "fibonacci(10, 0, 2)"
      ],
      "execution_count": 9,
      "outputs": [
        {
          "output_type": "execute_result",
          "data": {
            "text/plain": [
              "[2, 2, 4, 6, 10, 16, 26, 42, 68, 110]"
            ]
          },
          "metadata": {
            "tags": []
          },
          "execution_count": 9
        }
      ]
    },
    {
      "cell_type": "markdown",
      "metadata": {
        "id": "r2BmAJwZtiop"
      },
      "source": [
        "The values can also be specified by name if desired, in which case the order of the named values does not matter:"
      ]
    },
    {
      "cell_type": "code",
      "metadata": {
        "id": "LGzGPt13tioq",
        "outputId": "0b060d9b-1143-49e9-e6e7-1ea27bddd185",
        "colab": {
          "base_uri": "https://localhost:8080/"
        }
      },
      "source": [
        "fibonacci(10, b=3, a=1)"
      ],
      "execution_count": 10,
      "outputs": [
        {
          "output_type": "execute_result",
          "data": {
            "text/plain": [
              "[3, 4, 7, 11, 18, 29, 47, 76, 123, 199]"
            ]
          },
          "metadata": {
            "tags": []
          },
          "execution_count": 10
        }
      ]
    },
    {
      "cell_type": "markdown",
      "metadata": {
        "id": "kA96__vRtioy"
      },
      "source": [
        "## ``*args`` and ``**kwargs``: Flexible Arguments\n",
        "Sometimes you might wish to write a function in which you don't initially know how many arguments the user will pass.\n",
        "In this case, you can use the special form ``*args`` and ``**kwargs`` to catch all arguments that are passed.\n",
        "Here is an example:"
      ]
    },
    {
      "cell_type": "code",
      "metadata": {
        "id": "MJ5uxkZttio0"
      },
      "source": [
        "def catch_all(*args, **kwargs):\n",
        "    print(\"args =\", args)\n",
        "    print(\"kwargs = \", kwargs)"
      ],
      "execution_count": 11,
      "outputs": []
    },
    {
      "cell_type": "code",
      "metadata": {
        "id": "UlfsAniZtio_",
        "outputId": "319b3fd8-b653-4bc0-a12c-9554e8fb2cf7",
        "colab": {
          "base_uri": "https://localhost:8080/"
        }
      },
      "source": [
        "catch_all(1, 2, 3, a=4, b=5)"
      ],
      "execution_count": 12,
      "outputs": [
        {
          "output_type": "stream",
          "text": [
            "args = (1, 2, 3)\n",
            "kwargs =  {'a': 4, 'b': 5}\n"
          ],
          "name": "stdout"
        }
      ]
    },
    {
      "cell_type": "code",
      "metadata": {
        "id": "cBbM4seXtipE",
        "outputId": "8916af23-f52e-4690-b258-3c7a9d3589c4",
        "colab": {
          "base_uri": "https://localhost:8080/"
        }
      },
      "source": [
        "catch_all('a', keyword=2)"
      ],
      "execution_count": 13,
      "outputs": [
        {
          "output_type": "stream",
          "text": [
            "args = ('a',)\n",
            "kwargs =  {'keyword': 2}\n"
          ],
          "name": "stdout"
        }
      ]
    },
    {
      "cell_type": "markdown",
      "metadata": {
        "id": "vmDIqtBRtipN"
      },
      "source": [
        "Here it is not the names ``args`` and ``kwargs`` that are important, but the ``*`` characters preceding them.\n",
        "``args`` and ``kwargs`` are just the variable names often used by convention, short for \"arguments\" and \"keyword arguments\".\n",
        "The operative difference is the asterisk characters: a single ``*`` before a variable means \"expand this as a sequence\", while a double ``**`` before a variable means \"expand this as a dictionary\".\n",
        "In fact, this syntax can be used not only with the function definition, but with the function call as well!"
      ]
    },
    {
      "cell_type": "code",
      "metadata": {
        "id": "A1QiBkTrtipO",
        "outputId": "1d34df54-ea27-4217-9db3-4fa79755e116",
        "colab": {
          "base_uri": "https://localhost:8080/"
        }
      },
      "source": [
        "inputs = (1, 2, 3)\n",
        "keywords = {'pi': 3.14}\n",
        "\n",
        "catch_all(*inputs, **keywords)"
      ],
      "execution_count": 14,
      "outputs": [
        {
          "output_type": "stream",
          "text": [
            "args = (1, 2, 3)\n",
            "kwargs =  {'pi': 3.14}\n"
          ],
          "name": "stdout"
        }
      ]
    },
    {
      "cell_type": "markdown",
      "metadata": {
        "id": "3pyrDEtdtipc"
      },
      "source": [
        "## Anonymous (``lambda``) Functions\n",
        "Earlier we quickly covered the most common way of defining functions, the ``def`` statement.\n",
        "You'll likely come across another way of defining short, one-off functions with the ``lambda`` statement.\n",
        "It looks something like this:"
      ]
    },
    {
      "cell_type": "code",
      "metadata": {
        "id": "C21rsbQPtipd",
        "outputId": "c6bef35b-3ed5-428d-adad-90b343bda300",
        "colab": {
          "base_uri": "https://localhost:8080/"
        }
      },
      "source": [
        "add = lambda x, y: x + y\n",
        "add(1, 2)"
      ],
      "execution_count": 15,
      "outputs": [
        {
          "output_type": "execute_result",
          "data": {
            "text/plain": [
              "3"
            ]
          },
          "metadata": {
            "tags": []
          },
          "execution_count": 15
        }
      ]
    },
    {
      "cell_type": "markdown",
      "metadata": {
        "id": "v7zqWGL2tipi"
      },
      "source": [
        "This lambda function is roughly equivalent to"
      ]
    },
    {
      "cell_type": "code",
      "metadata": {
        "id": "Y5B5cYb7tipj"
      },
      "source": [
        "def add(x, y):\n",
        "    return x + y"
      ],
      "execution_count": 16,
      "outputs": []
    },
    {
      "cell_type": "markdown",
      "metadata": {
        "id": "PHubYM2Wtipn"
      },
      "source": [
        "So why would you ever want to use such a thing?\n",
        "Primarily, it comes down to the fact that *everything is an object* in Python, even functions themselves!\n",
        "That means that functions can be passed as arguments to functions.\n",
        "\n",
        "As an example of this, suppose we have some data stored in a list of dictionaries:"
      ]
    },
    {
      "cell_type": "code",
      "metadata": {
        "id": "H-kwYhqhtipo"
      },
      "source": [
        "data = [{'first':'Guido', 'last':'Van Rossum', 'YOB':1956},\n",
        "        {'first':'Grace', 'last':'Hopper',     'YOB':1906},\n",
        "        {'first':'Alan',  'last':'Turing',     'YOB':1912}]"
      ],
      "execution_count": 17,
      "outputs": []
    },
    {
      "cell_type": "markdown",
      "metadata": {
        "id": "m4iBKN_Htips"
      },
      "source": [
        "Now suppose we want to sort this data.\n",
        "Python has a ``sorted`` function that does this:"
      ]
    },
    {
      "cell_type": "code",
      "metadata": {
        "id": "kJYeR8SXtips",
        "outputId": "99618ed3-a010-44fc-ccef-2993fd709a8b",
        "colab": {
          "base_uri": "https://localhost:8080/"
        }
      },
      "source": [
        "sorted([2,4,3,5,1,6])"
      ],
      "execution_count": 18,
      "outputs": [
        {
          "output_type": "execute_result",
          "data": {
            "text/plain": [
              "[1, 2, 3, 4, 5, 6]"
            ]
          },
          "metadata": {
            "tags": []
          },
          "execution_count": 18
        }
      ]
    },
    {
      "cell_type": "markdown",
      "metadata": {
        "id": "gi3k2F2gtipx"
      },
      "source": [
        "But dictionaries are not orderable: we need a way to tell the function *how* to sort our data.\n",
        "We can do this by specifying the ``key`` function, a function which given an item returns the sorting key for that item:"
      ]
    },
    {
      "cell_type": "code",
      "metadata": {
        "id": "8m6QE5jMtipz",
        "outputId": "004b91ad-0bca-4a91-ec7c-6786b811ea93",
        "colab": {
          "base_uri": "https://localhost:8080/"
        }
      },
      "source": [
        "# sort alphabetically by first name\n",
        "sorted(data, key=lambda item: item['first'])"
      ],
      "execution_count": 19,
      "outputs": [
        {
          "output_type": "execute_result",
          "data": {
            "text/plain": [
              "[{'YOB': 1912, 'first': 'Alan', 'last': 'Turing'},\n",
              " {'YOB': 1906, 'first': 'Grace', 'last': 'Hopper'},\n",
              " {'YOB': 1956, 'first': 'Guido', 'last': 'Van Rossum'}]"
            ]
          },
          "metadata": {
            "tags": []
          },
          "execution_count": 19
        }
      ]
    },
    {
      "cell_type": "code",
      "metadata": {
        "id": "xe1t3rcEtip4",
        "outputId": "b2704e63-b083-4707-e2fc-9501dd109658",
        "colab": {
          "base_uri": "https://localhost:8080/"
        }
      },
      "source": [
        "# sort by year of birth\n",
        "sorted(data, key=lambda item: item['YOB'])"
      ],
      "execution_count": 20,
      "outputs": [
        {
          "output_type": "execute_result",
          "data": {
            "text/plain": [
              "[{'YOB': 1906, 'first': 'Grace', 'last': 'Hopper'},\n",
              " {'YOB': 1912, 'first': 'Alan', 'last': 'Turing'},\n",
              " {'YOB': 1956, 'first': 'Guido', 'last': 'Van Rossum'}]"
            ]
          },
          "metadata": {
            "tags": []
          },
          "execution_count": 20
        }
      ]
    },
    {
      "cell_type": "markdown",
      "metadata": {
        "id": "9iuZp_uVtip7"
      },
      "source": [
        "While these key functions could certainly be created by the normal, ``def`` syntax, the ``lambda`` syntax is convenient for such short one-off functions like these."
      ]
    },
    {
      "cell_type": "markdown",
      "metadata": {
        "id": "bvaneCautip8"
      },
      "source": [
        "<!--NAVIGATION-->\n",
        "< [Control Flow](07-Control-Flow-Statements.ipynb) | [Contents](Index.ipynb) | [Errors and Exceptions](09-Errors-and-Exceptions.ipynb) >"
      ]
    }
  ]
}
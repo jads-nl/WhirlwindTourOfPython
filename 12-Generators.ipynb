{
  "nbformat": 4,
  "nbformat_minor": 0,
  "metadata": {
    "anaconda-cloud": {},
    "kernelspec": {
      "display_name": "Python 3",
      "language": "python",
      "name": "python3"
    },
    "language_info": {
      "codemirror_mode": {
        "name": "ipython",
        "version": 3
      },
      "file_extension": ".py",
      "mimetype": "text/x-python",
      "name": "python",
      "nbconvert_exporter": "python",
      "pygments_lexer": "ipython3",
      "version": "3.5.1"
    },
    "colab": {
      "name": "12-Generators.ipynb",
      "provenance": [],
      "include_colab_link": true
    }
  },
  "cells": [
    {
      "cell_type": "markdown",
      "metadata": {
        "id": "view-in-github",
        "colab_type": "text"
      },
      "source": [
        "<a href=\"https://colab.research.google.com/github/jads-nl/WhirlwindTourOfPython/blob/master/12-Generators.ipynb\" target=\"_parent\"><img src=\"https://colab.research.google.com/assets/colab-badge.svg\" alt=\"Open In Colab\"/></a>"
      ]
    },
    {
      "cell_type": "markdown",
      "metadata": {
        "id": "-UzzviowuLEa"
      },
      "source": [
        "<!--BOOK_INFORMATION-->\n",
        "<img align=\"left\" style=\"padding-right:10px;\" src=\"https://github.com/jads-nl/WhirlwindTourOfPython/blob/master/fig/cover-small.jpg?raw=1\">\n",
        "*This notebook contains an excerpt from the [Whirlwind Tour of Python](http://www.oreilly.com/programming/free/a-whirlwind-tour-of-python.csp) by Jake VanderPlas; the content is available [on GitHub](https://github.com/jakevdp/WhirlwindTourOfPython).*\n",
        "\n",
        "*The text and code are released under the [CC0](https://github.com/jakevdp/WhirlwindTourOfPython/blob/master/LICENSE) license; see also the companion project, the [Python Data Science Handbook](https://github.com/jakevdp/PythonDataScienceHandbook).*\n"
      ]
    },
    {
      "cell_type": "markdown",
      "metadata": {
        "id": "2rpQWbSluLEi"
      },
      "source": [
        "<!--NAVIGATION-->\n",
        "< [List Comprehensions](11-List-Comprehensions.ipynb) | [Contents](Index.ipynb) | [Modules and Packages](13-Modules-and-Packages.ipynb) >"
      ]
    },
    {
      "cell_type": "markdown",
      "metadata": {
        "id": "cAhlhDMfuLEk"
      },
      "source": [
        "# Generators"
      ]
    },
    {
      "cell_type": "markdown",
      "metadata": {
        "id": "C9MEnJOQuLEs"
      },
      "source": [
        "Here we'll take a deeper dive into Python generators, including *generator expressions* and *generator functions*."
      ]
    },
    {
      "cell_type": "markdown",
      "metadata": {
        "id": "JiL9ESD-uLEv"
      },
      "source": [
        "## Generator Expressions"
      ]
    },
    {
      "cell_type": "markdown",
      "metadata": {
        "id": "4fwfQxmfuLEx"
      },
      "source": [
        "The difference between list comprehensions and generator expressions is sometimes confusing; here we'll quickly outline the differences between them:"
      ]
    },
    {
      "cell_type": "markdown",
      "metadata": {
        "id": "3HKC4d9CuLEz"
      },
      "source": [
        "### List comprehensions use square brackets, while generator expressions use parentheses\n",
        "This is a representative list comprehension:"
      ]
    },
    {
      "cell_type": "code",
      "metadata": {
        "id": "AnRpWmJauLE1",
        "outputId": "97c1e992-96d7-4b12-dc46-ce5b70d2fdbb",
        "colab": {
          "base_uri": "https://localhost:8080/"
        }
      },
      "source": [
        "[n ** 2 for n in range(12)]"
      ],
      "execution_count": 1,
      "outputs": [
        {
          "output_type": "execute_result",
          "data": {
            "text/plain": [
              "[0, 1, 4, 9, 16, 25, 36, 49, 64, 81, 100, 121]"
            ]
          },
          "metadata": {
            "tags": []
          },
          "execution_count": 1
        }
      ]
    },
    {
      "cell_type": "markdown",
      "metadata": {
        "id": "zIqmYK-uuLFF"
      },
      "source": [
        "While this is a representative generator expression:"
      ]
    },
    {
      "cell_type": "code",
      "metadata": {
        "id": "ro9BrsNPuLFJ",
        "outputId": "eb39519f-1f94-4b9d-bda0-12ee6fd982f9",
        "colab": {
          "base_uri": "https://localhost:8080/"
        }
      },
      "source": [
        "(n ** 2 for n in range(12))"
      ],
      "execution_count": 2,
      "outputs": [
        {
          "output_type": "execute_result",
          "data": {
            "text/plain": [
              "<generator object <genexpr> at 0x7fcac55cce08>"
            ]
          },
          "metadata": {
            "tags": []
          },
          "execution_count": 2
        }
      ]
    },
    {
      "cell_type": "markdown",
      "metadata": {
        "id": "_vxsMliguLFS"
      },
      "source": [
        "Notice that printing the generator expression does not print the contents; one way to print the contents of a generator expression is to pass it to the ``list`` constructor:"
      ]
    },
    {
      "cell_type": "code",
      "metadata": {
        "id": "BejRh3S7uLFV",
        "outputId": "9035c968-ee35-488f-a6ee-928ed29fbf09",
        "colab": {
          "base_uri": "https://localhost:8080/"
        }
      },
      "source": [
        "G = (n ** 2 for n in range(12))\n",
        "list(G)"
      ],
      "execution_count": 3,
      "outputs": [
        {
          "output_type": "execute_result",
          "data": {
            "text/plain": [
              "[0, 1, 4, 9, 16, 25, 36, 49, 64, 81, 100, 121]"
            ]
          },
          "metadata": {
            "tags": []
          },
          "execution_count": 3
        }
      ]
    },
    {
      "cell_type": "markdown",
      "metadata": {
        "id": "zro0iinquLFd"
      },
      "source": [
        "### A list is a collection of values, while a generator is a recipe for producing values\n",
        "When you create a list, you are actually building a collection of values, and there is some memory cost associated with that.\n",
        "When you create a generator, you are not building a collection of values, but a recipe for producing those values.\n",
        "Both expose the same iterator interface, as we can see here:"
      ]
    },
    {
      "cell_type": "code",
      "metadata": {
        "id": "7D5W7YlsuLFe",
        "outputId": "88f4a268-db32-4efb-9e47-5a2d5db3ba9b",
        "colab": {
          "base_uri": "https://localhost:8080/"
        }
      },
      "source": [
        "L = [n ** 2 for n in range(12)]\n",
        "for val in L:\n",
        "    print(val, end=' ')"
      ],
      "execution_count": 4,
      "outputs": [
        {
          "output_type": "stream",
          "text": [
            "0 1 4 9 16 25 36 49 64 81 100 121 "
          ],
          "name": "stdout"
        }
      ]
    },
    {
      "cell_type": "code",
      "metadata": {
        "id": "-bI7wrrLuLFm",
        "outputId": "c65bf36b-f396-43de-b145-5c070d879c4c",
        "colab": {
          "base_uri": "https://localhost:8080/"
        }
      },
      "source": [
        "G = (n ** 2 for n in range(12))\n",
        "for val in G:\n",
        "    print(val, end=' ')"
      ],
      "execution_count": 5,
      "outputs": [
        {
          "output_type": "stream",
          "text": [
            "0 1 4 9 16 25 36 49 64 81 100 121 "
          ],
          "name": "stdout"
        }
      ]
    },
    {
      "cell_type": "markdown",
      "metadata": {
        "id": "UsrosEeluLFu"
      },
      "source": [
        "The difference is that a generator expression does not actually compute the values until they are needed.\n",
        "This not only leads to memory efficiency, but to computational efficiency as well!\n",
        "This also means that while the size of a list is limited by available memory, the size of a generator expression is unlimited!\n",
        "\n",
        "An example of an infinite generator expression can be created using the ``count`` iterator defined in ``itertools``:"
      ]
    },
    {
      "cell_type": "code",
      "metadata": {
        "id": "51YXsqAnuLFv",
        "outputId": "b08e0c75-bca2-4b43-d737-e0f3cd753b1e",
        "colab": {
          "base_uri": "https://localhost:8080/"
        }
      },
      "source": [
        "from itertools import count\n",
        "count()"
      ],
      "execution_count": 6,
      "outputs": [
        {
          "output_type": "execute_result",
          "data": {
            "text/plain": [
              "count(0)"
            ]
          },
          "metadata": {
            "tags": []
          },
          "execution_count": 6
        }
      ]
    },
    {
      "cell_type": "code",
      "metadata": {
        "id": "W2AAyPPkuLF1",
        "outputId": "57451a4d-aaae-4ced-fbc1-e43251425526",
        "colab": {
          "base_uri": "https://localhost:8080/"
        }
      },
      "source": [
        "for i in count():\n",
        "    print(i, end=' ')\n",
        "    if i >= 10: break"
      ],
      "execution_count": 7,
      "outputs": [
        {
          "output_type": "stream",
          "text": [
            "0 1 2 3 4 5 6 7 8 9 10 "
          ],
          "name": "stdout"
        }
      ]
    },
    {
      "cell_type": "markdown",
      "metadata": {
        "id": "sns9lvcKuLF7"
      },
      "source": [
        "The ``count`` iterator will go on happily counting forever until you tell it to stop; this makes it convenient to create generators that will also go on forever:"
      ]
    },
    {
      "cell_type": "code",
      "metadata": {
        "id": "Nt_qiZuWuLF8",
        "outputId": "25bc760a-9a28-49a1-9010-55b06dcbdc65",
        "colab": {
          "base_uri": "https://localhost:8080/"
        }
      },
      "source": [
        "factors = [2, 3, 5, 7]\n",
        "G = (i for i in count() if all(i % n > 0 for n in factors))\n",
        "for val in G:\n",
        "    print(val, end=' ')\n",
        "    if val > 40: break"
      ],
      "execution_count": 8,
      "outputs": [
        {
          "output_type": "stream",
          "text": [
            "1 11 13 17 19 23 29 31 37 41 "
          ],
          "name": "stdout"
        }
      ]
    },
    {
      "cell_type": "markdown",
      "metadata": {
        "id": "84q_biKFuLGD"
      },
      "source": [
        "You might see what we're getting at here: if we were to expand the list of factors appropriately, what we would have the beginnings of is a prime number generator, using the Sieve of Eratosthenes algorithm. We'll explore this more momentarily."
      ]
    },
    {
      "cell_type": "markdown",
      "metadata": {
        "id": "wKTFQFZauLGE"
      },
      "source": [
        "### A list can be iterated multiple times; a generator expression is single-use\n",
        "This is one of those potential gotchas of generator expressions.\n",
        "With a list, we can straightforwardly do this:"
      ]
    },
    {
      "cell_type": "code",
      "metadata": {
        "id": "rc1rRd7duLGF",
        "outputId": "5066e272-849c-46f7-f3d6-4cd5028c4a91",
        "colab": {
          "base_uri": "https://localhost:8080/"
        }
      },
      "source": [
        "L = [n ** 2 for n in range(12)]\n",
        "for val in L:\n",
        "    print(val, end=' ')\n",
        "print()\n",
        "\n",
        "for val in L:\n",
        "    print(val, end=' ')"
      ],
      "execution_count": 9,
      "outputs": [
        {
          "output_type": "stream",
          "text": [
            "0 1 4 9 16 25 36 49 64 81 100 121 \n",
            "0 1 4 9 16 25 36 49 64 81 100 121 "
          ],
          "name": "stdout"
        }
      ]
    },
    {
      "cell_type": "markdown",
      "metadata": {
        "id": "kBfVqlDhuLGL"
      },
      "source": [
        "A generator expression, on the other hand, is used-up after one iteration:"
      ]
    },
    {
      "cell_type": "code",
      "metadata": {
        "id": "6fSvD-BUuLGM",
        "outputId": "80314a4c-f22c-40ef-baad-b1102b4b8d4c",
        "colab": {
          "base_uri": "https://localhost:8080/"
        }
      },
      "source": [
        "G = (n ** 2 for n in range(12))\n",
        "list(G)"
      ],
      "execution_count": 10,
      "outputs": [
        {
          "output_type": "execute_result",
          "data": {
            "text/plain": [
              "[0, 1, 4, 9, 16, 25, 36, 49, 64, 81, 100, 121]"
            ]
          },
          "metadata": {
            "tags": []
          },
          "execution_count": 10
        }
      ]
    },
    {
      "cell_type": "code",
      "metadata": {
        "id": "vdlkTk3YuLGS",
        "outputId": "eeb7a001-fc96-4ce0-bfb9-95075926060e",
        "colab": {
          "base_uri": "https://localhost:8080/"
        }
      },
      "source": [
        "list(G)"
      ],
      "execution_count": 11,
      "outputs": [
        {
          "output_type": "execute_result",
          "data": {
            "text/plain": [
              "[]"
            ]
          },
          "metadata": {
            "tags": []
          },
          "execution_count": 11
        }
      ]
    },
    {
      "cell_type": "markdown",
      "metadata": {
        "id": "PdeYbtNHuLGY"
      },
      "source": [
        "This can be very useful because it means iteration can be stopped and started:"
      ]
    },
    {
      "cell_type": "code",
      "metadata": {
        "id": "4_QoGmUFuLGZ",
        "outputId": "45cf2dca-c8cf-45cf-cea8-960013a47d6e",
        "colab": {
          "base_uri": "https://localhost:8080/"
        }
      },
      "source": [
        "G = (n**2 for n in range(12))\n",
        "for n in G:\n",
        "    print(n, end=' ')\n",
        "    if n > 30: break\n",
        "\n",
        "print(\"\\ndoing something in between\")\n",
        "\n",
        "for n in G:\n",
        "    print(n, end=' ')"
      ],
      "execution_count": 12,
      "outputs": [
        {
          "output_type": "stream",
          "text": [
            "0 1 4 9 16 25 36 \n",
            "doing something in between\n",
            "49 64 81 100 121 "
          ],
          "name": "stdout"
        }
      ]
    },
    {
      "cell_type": "markdown",
      "metadata": {
        "id": "n31V1gnVuLGn"
      },
      "source": [
        "One place I've found this useful is when working with collections of data files on disk; it means that you can quite easily analyze them in batches, letting the generator keep track of which ones you have yet to see."
      ]
    },
    {
      "cell_type": "markdown",
      "metadata": {
        "id": "uhwXWWWquLGo"
      },
      "source": [
        "## Generator Functions: Using ``yield``\n",
        "We saw in the previous section that list comprehensions are best used to create relatively simple lists, while using a normal ``for`` loop can be better in more complicated situations.\n",
        "The same is true of generator expressions: we can make more complicated generators using *generator functions*, which make use of the ``yield`` statement.\n",
        "\n",
        "Here we have two ways of constructing the same list:"
      ]
    },
    {
      "cell_type": "code",
      "metadata": {
        "id": "FkAJn3aCuLGp",
        "outputId": "f8d7ec5c-39f5-4800-fd8c-5d5ba41af784",
        "colab": {
          "base_uri": "https://localhost:8080/"
        }
      },
      "source": [
        "L1 = [n ** 2 for n in range(12)]\n",
        "\n",
        "L2 = []\n",
        "for n in range(12):\n",
        "    L2.append(n ** 2)\n",
        "\n",
        "print(L1)\n",
        "print(L2)"
      ],
      "execution_count": 13,
      "outputs": [
        {
          "output_type": "stream",
          "text": [
            "[0, 1, 4, 9, 16, 25, 36, 49, 64, 81, 100, 121]\n",
            "[0, 1, 4, 9, 16, 25, 36, 49, 64, 81, 100, 121]\n"
          ],
          "name": "stdout"
        }
      ]
    },
    {
      "cell_type": "markdown",
      "metadata": {
        "id": "m1RTIYtZuLGu"
      },
      "source": [
        "Similarly, here we have two ways of constructing equivalent generators:"
      ]
    },
    {
      "cell_type": "code",
      "metadata": {
        "id": "DyUCkWcIuLGv",
        "outputId": "747711f4-efe1-41e4-9d92-30e817aa60f0",
        "colab": {
          "base_uri": "https://localhost:8080/"
        }
      },
      "source": [
        "G1 = (n ** 2 for n in range(12))\n",
        "\n",
        "def gen():\n",
        "    for n in range(12):\n",
        "        yield n ** 2\n",
        "\n",
        "G2 = gen()\n",
        "print(*G1)\n",
        "print(*G2)"
      ],
      "execution_count": 14,
      "outputs": [
        {
          "output_type": "stream",
          "text": [
            "0 1 4 9 16 25 36 49 64 81 100 121\n",
            "0 1 4 9 16 25 36 49 64 81 100 121\n"
          ],
          "name": "stdout"
        }
      ]
    },
    {
      "cell_type": "markdown",
      "metadata": {
        "id": "tT7haoGWuLGy"
      },
      "source": [
        "A generator function is a function that, rather than using ``return`` to return a value once, uses ``yield`` to yield a (potentially infinite) sequence of values.\n",
        "Just as in generator expressions, the state of the generator is preserved between partial iterations, but if we want a fresh copy of the generator we can simply call the function again."
      ]
    },
    {
      "cell_type": "markdown",
      "metadata": {
        "id": "ki-tDJ6xuLGz"
      },
      "source": [
        "## Example: Prime Number Generator\n",
        "Here I'll show my favorite example of a generator function: a function to generate an unbounded series of prime numbers.\n",
        "A classic algorithm for this is the *Sieve of Eratosthenes*, which works something like this:"
      ]
    },
    {
      "cell_type": "code",
      "metadata": {
        "id": "wY6ta3XIuLG3",
        "outputId": "fb2f6234-c7c8-48d3-832b-104ec7f46de5",
        "colab": {
          "base_uri": "https://localhost:8080/"
        }
      },
      "source": [
        "# Generate a list of candidates\n",
        "L = [n for n in range(2, 40)]\n",
        "print(L)"
      ],
      "execution_count": 15,
      "outputs": [
        {
          "output_type": "stream",
          "text": [
            "[2, 3, 4, 5, 6, 7, 8, 9, 10, 11, 12, 13, 14, 15, 16, 17, 18, 19, 20, 21, 22, 23, 24, 25, 26, 27, 28, 29, 30, 31, 32, 33, 34, 35, 36, 37, 38, 39]\n"
          ],
          "name": "stdout"
        }
      ]
    },
    {
      "cell_type": "code",
      "metadata": {
        "id": "TiNolm-buLG8",
        "outputId": "b1a114a7-dcd8-4b70-b3df-b6c32f9a3191",
        "colab": {
          "base_uri": "https://localhost:8080/"
        }
      },
      "source": [
        "# Remove all multiples of the first value\n",
        "L = [n for n in L if n == L[0] or n % L[0] > 0]\n",
        "print(L)"
      ],
      "execution_count": 16,
      "outputs": [
        {
          "output_type": "stream",
          "text": [
            "[2, 3, 5, 7, 9, 11, 13, 15, 17, 19, 21, 23, 25, 27, 29, 31, 33, 35, 37, 39]\n"
          ],
          "name": "stdout"
        }
      ]
    },
    {
      "cell_type": "code",
      "metadata": {
        "id": "1N8JSuq0uLG_",
        "outputId": "90cfaf9d-100d-41d1-8c41-9487fe7c702e",
        "colab": {
          "base_uri": "https://localhost:8080/"
        }
      },
      "source": [
        "# Remove all multiples of the second value\n",
        "L = [n for n in L if n == L[1] or n % L[1] > 0]\n",
        "print(L)"
      ],
      "execution_count": 17,
      "outputs": [
        {
          "output_type": "stream",
          "text": [
            "[2, 3, 5, 7, 11, 13, 17, 19, 23, 25, 29, 31, 35, 37]\n"
          ],
          "name": "stdout"
        }
      ]
    },
    {
      "cell_type": "code",
      "metadata": {
        "id": "Yvn9o44DuLHD",
        "outputId": "6a1b4cb3-d2ec-45aa-df6e-f508b1a3272c",
        "colab": {
          "base_uri": "https://localhost:8080/"
        }
      },
      "source": [
        "# Remove all multiples of the third value\n",
        "L = [n for n in L if n == L[2] or n % L[2] > 0]\n",
        "print(L)"
      ],
      "execution_count": 18,
      "outputs": [
        {
          "output_type": "stream",
          "text": [
            "[2, 3, 5, 7, 11, 13, 17, 19, 23, 29, 31, 37]\n"
          ],
          "name": "stdout"
        }
      ]
    },
    {
      "cell_type": "markdown",
      "metadata": {
        "id": "wDo4cQxZuLHH"
      },
      "source": [
        "If we repeat this procedure enough times on a large enough list, we can generate as many primes as we wish.\n",
        "\n",
        "Let's encapsulate this logic in a generator function:"
      ]
    },
    {
      "cell_type": "code",
      "metadata": {
        "id": "pCDDp515uLHJ",
        "outputId": "22c02204-5abd-4661-c0fe-c9a1c4aa61ce",
        "colab": {
          "base_uri": "https://localhost:8080/"
        }
      },
      "source": [
        "def gen_primes(N):\n",
        "    \"\"\"Generate primes up to N\"\"\"\n",
        "    primes = set()\n",
        "    for n in range(2, N):\n",
        "        if all(n % p > 0 for p in primes):\n",
        "            primes.add(n)\n",
        "            yield n\n",
        "\n",
        "print(*gen_primes(100))"
      ],
      "execution_count": 19,
      "outputs": [
        {
          "output_type": "stream",
          "text": [
            "2 3 5 7 11 13 17 19 23 29 31 37 41 43 47 53 59 61 67 71 73 79 83 89 97\n"
          ],
          "name": "stdout"
        }
      ]
    },
    {
      "cell_type": "markdown",
      "metadata": {
        "id": "p2VeV0nHuLHN"
      },
      "source": [
        "That's all there is to it!\n",
        "While this is certainly not the most computationally efficient implementation of the Sieve of Eratosthenes, it illustrates how convenient the generator function syntax can be for building more complicated sequences."
      ]
    },
    {
      "cell_type": "markdown",
      "metadata": {
        "id": "4JKdzKKJuLHO"
      },
      "source": [
        "<!--NAVIGATION-->\n",
        "< [List Comprehensions](11-List-Comprehensions.ipynb) | [Contents](Index.ipynb) | [Modules and Packages](13-Modules-and-Packages.ipynb) >"
      ]
    }
  ]
}
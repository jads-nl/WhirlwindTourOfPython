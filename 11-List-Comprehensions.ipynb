{
  "nbformat": 4,
  "nbformat_minor": 0,
  "metadata": {
    "anaconda-cloud": {},
    "kernelspec": {
      "display_name": "Python 3",
      "language": "python",
      "name": "python3"
    },
    "language_info": {
      "codemirror_mode": {
        "name": "ipython",
        "version": 3
      },
      "file_extension": ".py",
      "mimetype": "text/x-python",
      "name": "python",
      "nbconvert_exporter": "python",
      "pygments_lexer": "ipython3",
      "version": "3.5.1"
    },
    "colab": {
      "name": "11-List-Comprehensions.ipynb",
      "provenance": [],
      "include_colab_link": true
    }
  },
  "cells": [
    {
      "cell_type": "markdown",
      "metadata": {
        "id": "view-in-github",
        "colab_type": "text"
      },
      "source": [
        "<a href=\"https://colab.research.google.com/github/jads-nl/WhirlwindTourOfPython/blob/master/11-List-Comprehensions.ipynb\" target=\"_parent\"><img src=\"https://colab.research.google.com/assets/colab-badge.svg\" alt=\"Open In Colab\"/></a>"
      ]
    },
    {
      "cell_type": "markdown",
      "metadata": {
        "id": "sl4vNIFPt8km"
      },
      "source": [
        "<!--BOOK_INFORMATION-->\n",
        "<img align=\"left\" style=\"padding-right:10px;\" src=\"https://github.com/jads-nl/WhirlwindTourOfPython/blob/master/fig/cover-small.jpg?raw=1\">\n",
        "*This notebook contains an excerpt from the [Whirlwind Tour of Python](http://www.oreilly.com/programming/free/a-whirlwind-tour-of-python.csp) by Jake VanderPlas; the content is available [on GitHub](https://github.com/jakevdp/WhirlwindTourOfPython).*\n",
        "\n",
        "*The text and code are released under the [CC0](https://github.com/jakevdp/WhirlwindTourOfPython/blob/master/LICENSE) license; see also the companion project, the [Python Data Science Handbook](https://github.com/jakevdp/PythonDataScienceHandbook).*\n"
      ]
    },
    {
      "cell_type": "markdown",
      "metadata": {
        "id": "JnN73KQZt8ks"
      },
      "source": [
        "<!--NAVIGATION-->\n",
        "< [Iterators](10-Iterators.ipynb) | [Contents](Index.ipynb) | [Generators](12-Generators.ipynb) >"
      ]
    },
    {
      "cell_type": "markdown",
      "metadata": {
        "id": "lokx4kzwt8kv"
      },
      "source": [
        "# List Comprehensions"
      ]
    },
    {
      "cell_type": "markdown",
      "metadata": {
        "id": "UjsqAUq9t8k2"
      },
      "source": [
        "If you read enough Python code, you'll eventually come across the terse and efficient construction known as a *list comprehension*.\n",
        "This is one feature of Python I expect you will fall in love with if you've not used it before; it looks something like this:"
      ]
    },
    {
      "cell_type": "code",
      "metadata": {
        "id": "-otWJy4tt8k5",
        "outputId": "fa7e7047-2701-4f99-a8a5-639ca82d2073",
        "colab": {
          "base_uri": "https://localhost:8080/"
        }
      },
      "source": [
        "[i for i in range(20) if i % 3 > 0]"
      ],
      "execution_count": 1,
      "outputs": [
        {
          "output_type": "execute_result",
          "data": {
            "text/plain": [
              "[1, 2, 4, 5, 7, 8, 10, 11, 13, 14, 16, 17, 19]"
            ]
          },
          "metadata": {
            "tags": []
          },
          "execution_count": 1
        }
      ]
    },
    {
      "cell_type": "markdown",
      "metadata": {
        "id": "honcuoiWt8lF"
      },
      "source": [
        "The result of this is a list of numbers which excludes multiples of 3.\n",
        "While this example may seem a bit confusing at first, as familiarity with Python grows, reading and writing list comprehensions will become second nature."
      ]
    },
    {
      "cell_type": "markdown",
      "metadata": {
        "id": "K7j9rXa0t8lJ"
      },
      "source": [
        "## Basic List Comprehensions\n",
        "List comprehensions are simply a way to compress a list-building for-loop into a single short, readable line.\n",
        "For example, here is a loop that constructs a list of the first 12 square integers:"
      ]
    },
    {
      "cell_type": "code",
      "metadata": {
        "id": "ll3Fnrcvt8lK",
        "outputId": "67397312-7e42-44ca-c9c2-a351f90f7c4a",
        "colab": {
          "base_uri": "https://localhost:8080/"
        }
      },
      "source": [
        "L = []\n",
        "for n in range(12):\n",
        "    L.append(n ** 2)\n",
        "L"
      ],
      "execution_count": 2,
      "outputs": [
        {
          "output_type": "execute_result",
          "data": {
            "text/plain": [
              "[0, 1, 4, 9, 16, 25, 36, 49, 64, 81, 100, 121]"
            ]
          },
          "metadata": {
            "tags": []
          },
          "execution_count": 2
        }
      ]
    },
    {
      "cell_type": "markdown",
      "metadata": {
        "id": "ewy5XcmOt8lS"
      },
      "source": [
        "The list comprehension equivalent of this is the following:"
      ]
    },
    {
      "cell_type": "code",
      "metadata": {
        "id": "miWrMrTet8lU",
        "outputId": "3893852d-c769-4d0e-be53-92d06589ef2b",
        "colab": {
          "base_uri": "https://localhost:8080/"
        }
      },
      "source": [
        "[n ** 2 for n in range(12)]"
      ],
      "execution_count": 3,
      "outputs": [
        {
          "output_type": "execute_result",
          "data": {
            "text/plain": [
              "[0, 1, 4, 9, 16, 25, 36, 49, 64, 81, 100, 121]"
            ]
          },
          "metadata": {
            "tags": []
          },
          "execution_count": 3
        }
      ]
    },
    {
      "cell_type": "markdown",
      "metadata": {
        "id": "t80yxMIRt8lb"
      },
      "source": [
        "As with many Python statements, you can almost read-off the meaning of this statement in plain English: \"construct a list consisting of the square of ``n`` for each ``n`` up to 12\".\n",
        "\n",
        "This basic syntax, then, is ``[``*``expr``* ``for`` *``var``* ``in`` *``iterable``*``]``, where *``expr``* is any valid expression, *``var``* is a variable name, and *``iterable``* is any iterable Python object."
      ]
    },
    {
      "cell_type": "markdown",
      "metadata": {
        "id": "FUcQcf23t8ld"
      },
      "source": [
        "## Multiple Iteration\n",
        "Sometimes you want to build a list not just from one value, but from two. To do this, simply add another ``for`` expression in the comprehension:"
      ]
    },
    {
      "cell_type": "code",
      "metadata": {
        "id": "VgDuwlhPt8le",
        "outputId": "badd9570-d6cc-4e22-fd51-3e7de2eac3da",
        "colab": {
          "base_uri": "https://localhost:8080/"
        }
      },
      "source": [
        "[(i, j) for i in range(2) for j in range(3)]"
      ],
      "execution_count": 4,
      "outputs": [
        {
          "output_type": "execute_result",
          "data": {
            "text/plain": [
              "[(0, 0), (0, 1), (0, 2), (1, 0), (1, 1), (1, 2)]"
            ]
          },
          "metadata": {
            "tags": []
          },
          "execution_count": 4
        }
      ]
    },
    {
      "cell_type": "markdown",
      "metadata": {
        "id": "e2VCNRHTt8ll"
      },
      "source": [
        "Notice that the second ``for`` expression acts as the interior index, varying the fastest in the resulting list.\n",
        "This type of construction can be extended to three, four, or more iterators within the comprehension, though at some point code readibility will suffer!"
      ]
    },
    {
      "cell_type": "markdown",
      "metadata": {
        "id": "DH7weqyMt8lm"
      },
      "source": [
        "## Conditionals on the Iterator\n",
        "You can further control the iteration by adding a conditional to the end of the expression.\n",
        "In the first example of the section, we iterated over all numbers from 1 to 20, but left-out multiples of 3.\n",
        "Look at this again, and notice the construction:"
      ]
    },
    {
      "cell_type": "code",
      "metadata": {
        "id": "Vmqx-x_gt8ln",
        "outputId": "940f2174-677e-492c-f602-38193163da4d",
        "colab": {
          "base_uri": "https://localhost:8080/"
        }
      },
      "source": [
        "[val for val in range(20) if val % 3 > 0]"
      ],
      "execution_count": 5,
      "outputs": [
        {
          "output_type": "execute_result",
          "data": {
            "text/plain": [
              "[1, 2, 4, 5, 7, 8, 10, 11, 13, 14, 16, 17, 19]"
            ]
          },
          "metadata": {
            "tags": []
          },
          "execution_count": 5
        }
      ]
    },
    {
      "cell_type": "markdown",
      "metadata": {
        "id": "JDQAqr-Pt8lu"
      },
      "source": [
        "The expression ``(i % 3 > 0)`` evaluates to ``True`` unless ``val`` is divisible by 3.\n",
        "Again, the English language meaning can be immediately read off: \"Construct a list of values for each value up to 20, but only if the value is not divisible by 3\".\n",
        "Once you are comfortable with it, this is much easier to write – and to understand at a glance – than the equivalent loop syntax:"
      ]
    },
    {
      "cell_type": "code",
      "metadata": {
        "id": "NRBXwfNtt8lv",
        "outputId": "8c8e2b7d-47e1-4b3b-8cb5-a28d723abe4f",
        "colab": {
          "base_uri": "https://localhost:8080/"
        }
      },
      "source": [
        "L = []\n",
        "for val in range(20):\n",
        "    if val % 3:\n",
        "        L.append(val)\n",
        "L"
      ],
      "execution_count": 6,
      "outputs": [
        {
          "output_type": "execute_result",
          "data": {
            "text/plain": [
              "[1, 2, 4, 5, 7, 8, 10, 11, 13, 14, 16, 17, 19]"
            ]
          },
          "metadata": {
            "tags": []
          },
          "execution_count": 6
        }
      ]
    },
    {
      "cell_type": "markdown",
      "metadata": {
        "id": "yWe0ac1vt8l0"
      },
      "source": [
        "## Conditionals on the Value\n",
        "If you've programmed in C, you might be familiar with the single-line conditional enabled by the ``?`` operator:\n",
        "``` C\n",
        "int absval = (val < 0) ? -val : val\n",
        "```\n",
        "Python has something very similar to this, which is most often used within list comprehensions, ``lambda`` functions, and other places where a simple expression is desired:"
      ]
    },
    {
      "cell_type": "code",
      "metadata": {
        "id": "F8sDvPC_t8l1",
        "outputId": "bff20302-a1cb-4421-acc8-4e997db6615e",
        "colab": {
          "base_uri": "https://localhost:8080/"
        }
      },
      "source": [
        "val = -10\n",
        "val if val >= 0 else -val"
      ],
      "execution_count": 7,
      "outputs": [
        {
          "output_type": "execute_result",
          "data": {
            "text/plain": [
              "10"
            ]
          },
          "metadata": {
            "tags": []
          },
          "execution_count": 7
        }
      ]
    },
    {
      "cell_type": "markdown",
      "metadata": {
        "id": "IoCF4BeSt8l7"
      },
      "source": [
        "We see that this simply duplicates the functionality of the built-in ``abs()`` function, but the construction lets you do some really interesting things within list comprehensions.\n",
        "This is getting pretty complicated now, but you could do something like this:"
      ]
    },
    {
      "cell_type": "code",
      "metadata": {
        "id": "K8he3gWut8l9",
        "outputId": "ff1a6084-413f-4ebf-8908-cdd6fc99d1e9",
        "colab": {
          "base_uri": "https://localhost:8080/"
        }
      },
      "source": [
        "[val if val % 2 else -val\n",
        " for val in range(20) if val % 3]"
      ],
      "execution_count": 8,
      "outputs": [
        {
          "output_type": "execute_result",
          "data": {
            "text/plain": [
              "[1, -2, -4, 5, 7, -8, -10, 11, 13, -14, -16, 17, 19]"
            ]
          },
          "metadata": {
            "tags": []
          },
          "execution_count": 8
        }
      ]
    },
    {
      "cell_type": "markdown",
      "metadata": {
        "id": "x5nonLXNt8mE"
      },
      "source": [
        "Note the line break within the list comprehension before the ``for`` expression: this is valid in Python, and is often a nice way to break-up long list comprehensions for greater readibility.\n",
        "Look this over: what we're doing is constructing a list, leaving out multiples of 3, and negating all mutliples of 2."
      ]
    },
    {
      "cell_type": "markdown",
      "metadata": {
        "id": "F6roxSx5t8mF"
      },
      "source": [
        "Once you understand the dynamics of list comprehensions, it's straightforward to move on to other types of comprehensions. The syntax is largely the same; the only difference is the type of bracket you use.\n",
        "\n",
        "For example, with curly braces you can create a ``set`` with a *set comprehension*:"
      ]
    },
    {
      "cell_type": "code",
      "metadata": {
        "id": "RT2dPdrSt8mG",
        "outputId": "18fc71b0-5091-4c96-953c-6379906bbbe3",
        "colab": {
          "base_uri": "https://localhost:8080/"
        }
      },
      "source": [
        "{n**2 for n in range(12)}"
      ],
      "execution_count": 9,
      "outputs": [
        {
          "output_type": "execute_result",
          "data": {
            "text/plain": [
              "{0, 1, 4, 9, 16, 25, 36, 49, 64, 81, 100, 121}"
            ]
          },
          "metadata": {
            "tags": []
          },
          "execution_count": 9
        }
      ]
    },
    {
      "cell_type": "markdown",
      "metadata": {
        "id": "4S0Dee-xt8mN"
      },
      "source": [
        "Recall that a ``set`` is a collection that contains no duplicates.\n",
        "The set comprehension respects this rule, and eliminates any duplicate entries:"
      ]
    },
    {
      "cell_type": "code",
      "metadata": {
        "id": "46Kb_snOt8mP",
        "outputId": "5fcb9d91-4225-4f5c-b2d9-94e7f34c49b4",
        "colab": {
          "base_uri": "https://localhost:8080/"
        }
      },
      "source": [
        "{a % 3 for a in range(1000)}"
      ],
      "execution_count": 10,
      "outputs": [
        {
          "output_type": "execute_result",
          "data": {
            "text/plain": [
              "{0, 1, 2}"
            ]
          },
          "metadata": {
            "tags": []
          },
          "execution_count": 10
        }
      ]
    },
    {
      "cell_type": "markdown",
      "metadata": {
        "id": "yGbPpOm5t8mW"
      },
      "source": [
        "With a slight tweak, you can add a colon (``:``) to create a *dict comprehension*:"
      ]
    },
    {
      "cell_type": "code",
      "metadata": {
        "id": "oweZv3VIt8mX",
        "outputId": "66741371-70f1-4638-d73a-36d3b83a884c",
        "colab": {
          "base_uri": "https://localhost:8080/"
        }
      },
      "source": [
        "{n:n**2 for n in range(6)}"
      ],
      "execution_count": 11,
      "outputs": [
        {
          "output_type": "execute_result",
          "data": {
            "text/plain": [
              "{0: 0, 1: 1, 2: 4, 3: 9, 4: 16, 5: 25}"
            ]
          },
          "metadata": {
            "tags": []
          },
          "execution_count": 11
        }
      ]
    },
    {
      "cell_type": "markdown",
      "metadata": {
        "id": "RayLcuUat8md"
      },
      "source": [
        "Finally, if you use parentheses rather than square brackets, you get what's called a *generator expression*:"
      ]
    },
    {
      "cell_type": "code",
      "metadata": {
        "id": "B8mdkHnnt8me",
        "outputId": "247b74d2-23f6-44e2-cde2-071f3018ee81",
        "colab": {
          "base_uri": "https://localhost:8080/"
        }
      },
      "source": [
        "(n**2 for n in range(12))"
      ],
      "execution_count": 12,
      "outputs": [
        {
          "output_type": "execute_result",
          "data": {
            "text/plain": [
              "<generator object <genexpr> at 0x7f8ec1991360>"
            ]
          },
          "metadata": {
            "tags": []
          },
          "execution_count": 12
        }
      ]
    },
    {
      "cell_type": "markdown",
      "metadata": {
        "id": "NpGj0Cp6t8mu"
      },
      "source": [
        "A generator expression is essentially a list comprehension in which elements are generated as-needed rather than all at-once, and the simplicity here belies the power of this language feature: we'll explore this more next."
      ]
    },
    {
      "cell_type": "markdown",
      "metadata": {
        "id": "idNpBIjot8mv"
      },
      "source": [
        "   "
      ]
    },
    {
      "cell_type": "markdown",
      "metadata": {
        "id": "D0V-ajMgt8my"
      },
      "source": [
        "<!--NAVIGATION-->\n",
        "< [Iterators](10-Iterators.ipynb) | [Contents](Index.ipynb) | [Generators](12-Generators.ipynb) >"
      ]
    }
  ]
}
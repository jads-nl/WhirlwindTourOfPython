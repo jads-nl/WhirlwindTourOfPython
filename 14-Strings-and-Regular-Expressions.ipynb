{
  "nbformat": 4,
  "nbformat_minor": 0,
  "metadata": {
    "anaconda-cloud": {},
    "kernelspec": {
      "display_name": "Python 3",
      "language": "python",
      "name": "python3"
    },
    "language_info": {
      "codemirror_mode": {
        "name": "ipython",
        "version": 3
      },
      "file_extension": ".py",
      "mimetype": "text/x-python",
      "name": "python",
      "nbconvert_exporter": "python",
      "pygments_lexer": "ipython3",
      "version": "3.5.1"
    },
    "colab": {
      "name": "14-Strings-and-Regular-Expressions.ipynb",
      "provenance": [],
      "include_colab_link": true
    }
  },
  "cells": [
    {
      "cell_type": "markdown",
      "metadata": {
        "id": "view-in-github",
        "colab_type": "text"
      },
      "source": [
        "<a href=\"https://colab.research.google.com/github/jads-nl/WhirlwindTourOfPython/blob/master/14-Strings-and-Regular-Expressions.ipynb\" target=\"_parent\"><img src=\"https://colab.research.google.com/assets/colab-badge.svg\" alt=\"Open In Colab\"/></a>"
      ]
    },
    {
      "cell_type": "markdown",
      "metadata": {
        "id": "OdD-PLunup2H"
      },
      "source": [
        "<!--BOOK_INFORMATION-->\n",
        "<img align=\"left\" style=\"padding-right:10px;\" src=\"https://github.com/jads-nl/WhirlwindTourOfPython/blob/master/fig/cover-small.jpg?raw=1\">\n",
        "*This notebook contains an excerpt from the [Whirlwind Tour of Python](http://www.oreilly.com/programming/free/a-whirlwind-tour-of-python.csp) by Jake VanderPlas; the content is available [on GitHub](https://github.com/jakevdp/WhirlwindTourOfPython).*\n",
        "\n",
        "*The text and code are released under the [CC0](https://github.com/jakevdp/WhirlwindTourOfPython/blob/master/LICENSE) license; see also the companion project, the [Python Data Science Handbook](https://github.com/jakevdp/PythonDataScienceHandbook).*\n"
      ]
    },
    {
      "cell_type": "markdown",
      "metadata": {
        "id": "Te0NHbEOup2O"
      },
      "source": [
        "<!--NAVIGATION-->\n",
        "< [Modules and Packages](13-Modules-and-Packages.ipynb) | [Contents](Index.ipynb) | [A Preview of Data Science Tools](15-Preview-of-Data-Science-Tools.ipynb) >"
      ]
    },
    {
      "cell_type": "markdown",
      "metadata": {
        "id": "E-RVpQaEup2R"
      },
      "source": [
        "# String Manipulation and Regular Expressions"
      ]
    },
    {
      "cell_type": "markdown",
      "metadata": {
        "id": "dTLUMwj_up2W"
      },
      "source": [
        "One place where the Python language really shines is in the manipulation of strings.\n",
        "This section will cover some of Python's built-in string methods and formatting operations, before moving on to a quick guide to the extremely useful subject of *regular expressions*.\n",
        "Such string manipulation patterns come up often in the context of data science work, and is one big perk of Python in this context.\n",
        "\n",
        "Strings in Python can be defined using either single or double quotations (they are functionally equivalent):"
      ]
    },
    {
      "cell_type": "code",
      "metadata": {
        "id": "2zTeecGiup2Z",
        "outputId": "3a56bdf4-f815-4fd8-e882-b265d51f48c0",
        "colab": {
          "base_uri": "https://localhost:8080/"
        }
      },
      "source": [
        "x = 'a string'\n",
        "y = \"a string\"\n",
        "x == y"
      ],
      "execution_count": 1,
      "outputs": [
        {
          "output_type": "execute_result",
          "data": {
            "text/plain": [
              "True"
            ]
          },
          "metadata": {
            "tags": []
          },
          "execution_count": 1
        }
      ]
    },
    {
      "cell_type": "markdown",
      "metadata": {
        "id": "PsWMDcrZup2k"
      },
      "source": [
        "In addition, it is possible to define multi-line strings using a triple-quote syntax:"
      ]
    },
    {
      "cell_type": "code",
      "metadata": {
        "id": "yhyOwIoMup2n"
      },
      "source": [
        "multiline = \"\"\"\n",
        "one\n",
        "two\n",
        "three\n",
        "\"\"\""
      ],
      "execution_count": 2,
      "outputs": []
    },
    {
      "cell_type": "markdown",
      "metadata": {
        "id": "FkKvHO3wup2v"
      },
      "source": [
        "With this, let's take a quick tour of some of Python's string manipulation tools."
      ]
    },
    {
      "cell_type": "markdown",
      "metadata": {
        "id": "u46XTzOlup2w"
      },
      "source": [
        "## Simple String Manipulation in Python\n",
        "\n",
        "For basic manipulation of strings, Python's built-in string methods can be extremely convenient.\n",
        "If you have a background working in C or another low-level language, you will likely find the simplicity of Python's methods extremely refreshing.\n",
        "We introduced Python's string type and a few of these methods earlier; here we'll dive a bit deeper"
      ]
    },
    {
      "cell_type": "markdown",
      "metadata": {
        "id": "u4YNwAWvup2y"
      },
      "source": [
        "### Formatting strings: Adjusting case\n",
        "\n",
        "Python makes it quite easy to adjust the case of a string.\n",
        "Here we'll look at the ``upper()``, ``lower()``, ``capitalize()``, ``title()``, and ``swapcase()`` methods, using the following messy string as an example:"
      ]
    },
    {
      "cell_type": "code",
      "metadata": {
        "id": "d0jw6Vilup2z"
      },
      "source": [
        "fox = \"tHe qUICk bROWn fOx.\""
      ],
      "execution_count": 3,
      "outputs": []
    },
    {
      "cell_type": "markdown",
      "metadata": {
        "id": "1NYEzUucup26"
      },
      "source": [
        "To convert the entire string into upper-case or lower-case, you can use the ``upper()`` or ``lower()`` methods respectively:"
      ]
    },
    {
      "cell_type": "code",
      "metadata": {
        "id": "oLvCHFCSup27",
        "outputId": "539f1ecd-4cf5-4053-f4bc-633fb4569cfc",
        "colab": {
          "base_uri": "https://localhost:8080/",
          "height": 36
        }
      },
      "source": [
        "fox.upper()"
      ],
      "execution_count": 4,
      "outputs": [
        {
          "output_type": "execute_result",
          "data": {
            "application/vnd.google.colaboratory.intrinsic+json": {
              "type": "string"
            },
            "text/plain": [
              "'THE QUICK BROWN FOX.'"
            ]
          },
          "metadata": {
            "tags": []
          },
          "execution_count": 4
        }
      ]
    },
    {
      "cell_type": "code",
      "metadata": {
        "id": "BFnw82Aaup3B",
        "outputId": "892b8459-4ffe-4734-baa2-dde89a595bb9",
        "colab": {
          "base_uri": "https://localhost:8080/",
          "height": 36
        }
      },
      "source": [
        "fox.lower()"
      ],
      "execution_count": 5,
      "outputs": [
        {
          "output_type": "execute_result",
          "data": {
            "application/vnd.google.colaboratory.intrinsic+json": {
              "type": "string"
            },
            "text/plain": [
              "'the quick brown fox.'"
            ]
          },
          "metadata": {
            "tags": []
          },
          "execution_count": 5
        }
      ]
    },
    {
      "cell_type": "markdown",
      "metadata": {
        "id": "-cnG4YG1up3H"
      },
      "source": [
        "A common formatting need is to capitalize just the first letter of each word, or perhaps the first letter of each sentence.\n",
        "This can be done with the ``title()`` and ``capitalize()`` methods:"
      ]
    },
    {
      "cell_type": "code",
      "metadata": {
        "id": "8l8ej97Pup3I",
        "outputId": "b3cd26eb-fa07-42c6-bedb-423c338099ad",
        "colab": {
          "base_uri": "https://localhost:8080/",
          "height": 36
        }
      },
      "source": [
        "fox.title()"
      ],
      "execution_count": 6,
      "outputs": [
        {
          "output_type": "execute_result",
          "data": {
            "application/vnd.google.colaboratory.intrinsic+json": {
              "type": "string"
            },
            "text/plain": [
              "'The Quick Brown Fox.'"
            ]
          },
          "metadata": {
            "tags": []
          },
          "execution_count": 6
        }
      ]
    },
    {
      "cell_type": "code",
      "metadata": {
        "id": "1MFkIeygup3L",
        "outputId": "6a54532d-ff93-469c-d8db-114301866c1a",
        "colab": {
          "base_uri": "https://localhost:8080/",
          "height": 36
        }
      },
      "source": [
        "fox.capitalize()"
      ],
      "execution_count": 7,
      "outputs": [
        {
          "output_type": "execute_result",
          "data": {
            "application/vnd.google.colaboratory.intrinsic+json": {
              "type": "string"
            },
            "text/plain": [
              "'The quick brown fox.'"
            ]
          },
          "metadata": {
            "tags": []
          },
          "execution_count": 7
        }
      ]
    },
    {
      "cell_type": "markdown",
      "metadata": {
        "id": "tGgCNFYOup3Q"
      },
      "source": [
        "The cases can be swapped using the ``swapcase()`` method:"
      ]
    },
    {
      "cell_type": "code",
      "metadata": {
        "id": "25XKY8jeup3R",
        "outputId": "6f81a11d-b562-453a-9c86-b8a2275cbdca",
        "colab": {
          "base_uri": "https://localhost:8080/",
          "height": 36
        }
      },
      "source": [
        "fox.swapcase()"
      ],
      "execution_count": 8,
      "outputs": [
        {
          "output_type": "execute_result",
          "data": {
            "application/vnd.google.colaboratory.intrinsic+json": {
              "type": "string"
            },
            "text/plain": [
              "'ThE QuicK BrowN FoX.'"
            ]
          },
          "metadata": {
            "tags": []
          },
          "execution_count": 8
        }
      ]
    },
    {
      "cell_type": "markdown",
      "metadata": {
        "id": "Hy3Oa8yZup3W"
      },
      "source": [
        "### Formatting strings: Adding and removing spaces\n",
        "\n",
        "Another common need is to remove spaces (or other characters) from the beginning or end of the string.\n",
        "The basic method of removing characters is the ``strip()`` method, which strips whitespace from the beginning and end of the line:"
      ]
    },
    {
      "cell_type": "code",
      "metadata": {
        "id": "Yr2Zjuywup3X",
        "outputId": "1518988f-ebd0-462d-e758-e928723eca26",
        "colab": {
          "base_uri": "https://localhost:8080/",
          "height": 0
        }
      },
      "source": [
        "line = '         this is the content         '\n",
        "line.strip()"
      ],
      "execution_count": 9,
      "outputs": [
        {
          "output_type": "execute_result",
          "data": {
            "application/vnd.google.colaboratory.intrinsic+json": {
              "type": "string"
            },
            "text/plain": [
              "'this is the content'"
            ]
          },
          "metadata": {
            "tags": []
          },
          "execution_count": 9
        }
      ]
    },
    {
      "cell_type": "markdown",
      "metadata": {
        "id": "XI54PHhCup3d"
      },
      "source": [
        "To remove just space to the right or left, use ``rstrip()`` or ``lstrip()`` respectively:"
      ]
    },
    {
      "cell_type": "code",
      "metadata": {
        "id": "BdD6PKgyup3e",
        "outputId": "540240cf-2d27-4cbc-b1b1-64a74c9aa988",
        "colab": {
          "base_uri": "https://localhost:8080/",
          "height": 0
        }
      },
      "source": [
        "line.rstrip()"
      ],
      "execution_count": 10,
      "outputs": [
        {
          "output_type": "execute_result",
          "data": {
            "application/vnd.google.colaboratory.intrinsic+json": {
              "type": "string"
            },
            "text/plain": [
              "'         this is the content'"
            ]
          },
          "metadata": {
            "tags": []
          },
          "execution_count": 10
        }
      ]
    },
    {
      "cell_type": "code",
      "metadata": {
        "id": "0IQUePHSup3h",
        "outputId": "8a006c08-6ea5-4a95-aa19-d1b68bdccfbc",
        "colab": {
          "base_uri": "https://localhost:8080/",
          "height": 0
        }
      },
      "source": [
        "line.lstrip()"
      ],
      "execution_count": 11,
      "outputs": [
        {
          "output_type": "execute_result",
          "data": {
            "application/vnd.google.colaboratory.intrinsic+json": {
              "type": "string"
            },
            "text/plain": [
              "'this is the content         '"
            ]
          },
          "metadata": {
            "tags": []
          },
          "execution_count": 11
        }
      ]
    },
    {
      "cell_type": "markdown",
      "metadata": {
        "id": "-Qh7PIvmup3n"
      },
      "source": [
        "To remove characters other than spaces, you can pass the desired character to the ``strip()`` method:"
      ]
    },
    {
      "cell_type": "code",
      "metadata": {
        "id": "RdOBxNBtup3n",
        "outputId": "6112fd36-63d3-4aca-9b73-fca7d6b28160",
        "colab": {
          "base_uri": "https://localhost:8080/",
          "height": 0
        }
      },
      "source": [
        "num = \"000000000000435\"\n",
        "num.strip('0')"
      ],
      "execution_count": 12,
      "outputs": [
        {
          "output_type": "execute_result",
          "data": {
            "application/vnd.google.colaboratory.intrinsic+json": {
              "type": "string"
            },
            "text/plain": [
              "'435'"
            ]
          },
          "metadata": {
            "tags": []
          },
          "execution_count": 12
        }
      ]
    },
    {
      "cell_type": "markdown",
      "metadata": {
        "id": "MJtnCHcVup3r"
      },
      "source": [
        "The opposite of this operation, adding spaces or other characters, can be accomplished using the ``center()``, ``ljust()``, and ``rjust()`` methods.\n",
        "\n",
        "For example, we can use the ``center()`` method to center a given string within a given number of spaces:"
      ]
    },
    {
      "cell_type": "code",
      "metadata": {
        "id": "cnQYCLrVup3s",
        "outputId": "3e70c5b5-9269-4bbb-96de-9cfa3e3fdc75",
        "colab": {
          "base_uri": "https://localhost:8080/",
          "height": 0
        }
      },
      "source": [
        "line = \"this is the content\"\n",
        "line.center(30)"
      ],
      "execution_count": 13,
      "outputs": [
        {
          "output_type": "execute_result",
          "data": {
            "application/vnd.google.colaboratory.intrinsic+json": {
              "type": "string"
            },
            "text/plain": [
              "'     this is the content      '"
            ]
          },
          "metadata": {
            "tags": []
          },
          "execution_count": 13
        }
      ]
    },
    {
      "cell_type": "markdown",
      "metadata": {
        "id": "vkjD2UlIup33"
      },
      "source": [
        "Similarly, ``ljust()`` and ``rjust()`` will left-justify or right-justify the string within spaces of a given length:"
      ]
    },
    {
      "cell_type": "code",
      "metadata": {
        "id": "UnFdNjG1up34",
        "outputId": "bdc03a08-cc14-47c7-9875-d657497bbd53",
        "colab": {
          "base_uri": "https://localhost:8080/",
          "height": 0
        }
      },
      "source": [
        "line.ljust(30)"
      ],
      "execution_count": 14,
      "outputs": [
        {
          "output_type": "execute_result",
          "data": {
            "application/vnd.google.colaboratory.intrinsic+json": {
              "type": "string"
            },
            "text/plain": [
              "'this is the content           '"
            ]
          },
          "metadata": {
            "tags": []
          },
          "execution_count": 14
        }
      ]
    },
    {
      "cell_type": "code",
      "metadata": {
        "id": "k4BzH1s1up38",
        "outputId": "61de5de3-c9fb-4297-f3bd-b478b1ce9e7b",
        "colab": {
          "base_uri": "https://localhost:8080/",
          "height": 0
        }
      },
      "source": [
        "line.rjust(30)"
      ],
      "execution_count": 15,
      "outputs": [
        {
          "output_type": "execute_result",
          "data": {
            "application/vnd.google.colaboratory.intrinsic+json": {
              "type": "string"
            },
            "text/plain": [
              "'           this is the content'"
            ]
          },
          "metadata": {
            "tags": []
          },
          "execution_count": 15
        }
      ]
    },
    {
      "cell_type": "markdown",
      "metadata": {
        "id": "wj5Z-Yn0up4A"
      },
      "source": [
        "All these methods additionally accept any character which will be used to fill the space.\n",
        "For example:"
      ]
    },
    {
      "cell_type": "code",
      "metadata": {
        "id": "7Nn4xx4Fup4B",
        "outputId": "207d5feb-9a61-4142-84d2-261ee7e2ca6f",
        "colab": {
          "base_uri": "https://localhost:8080/",
          "height": 0
        }
      },
      "source": [
        "'435'.rjust(10, '0')"
      ],
      "execution_count": 16,
      "outputs": [
        {
          "output_type": "execute_result",
          "data": {
            "application/vnd.google.colaboratory.intrinsic+json": {
              "type": "string"
            },
            "text/plain": [
              "'0000000435'"
            ]
          },
          "metadata": {
            "tags": []
          },
          "execution_count": 16
        }
      ]
    },
    {
      "cell_type": "markdown",
      "metadata": {
        "id": "PsX_1tlXup4E"
      },
      "source": [
        "Because zero-filling is such a common need, Python also provides ``zfill()``, which is a special method to right-pad a string with zeros:"
      ]
    },
    {
      "cell_type": "code",
      "metadata": {
        "id": "B_pwWN-qup4G",
        "outputId": "4c65ebbf-a5d4-40a1-d066-c34a28f5f0aa",
        "colab": {
          "base_uri": "https://localhost:8080/",
          "height": 0
        }
      },
      "source": [
        "'435'.zfill(10)"
      ],
      "execution_count": 17,
      "outputs": [
        {
          "output_type": "execute_result",
          "data": {
            "application/vnd.google.colaboratory.intrinsic+json": {
              "type": "string"
            },
            "text/plain": [
              "'0000000435'"
            ]
          },
          "metadata": {
            "tags": []
          },
          "execution_count": 17
        }
      ]
    },
    {
      "cell_type": "markdown",
      "metadata": {
        "id": "MGZp4RC1up4I"
      },
      "source": [
        "### Finding and replacing substrings\n",
        "\n",
        "If you want to find occurrences of a certain character in a string, the ``find()``/``rfind()``, ``index()``/``rindex()``, and ``replace()`` methods are the best built-in methods.\n",
        "\n",
        "``find()`` and ``index()`` are very similar, in that they search for the first occurrence of a character or substring within a string, and return the index of the substring:"
      ]
    },
    {
      "cell_type": "code",
      "metadata": {
        "id": "cm8pJASBup4J",
        "outputId": "0804561b-7d9b-4d56-e9b3-7c5b57761f3c",
        "colab": {
          "base_uri": "https://localhost:8080/"
        }
      },
      "source": [
        "line = 'the quick brown fox jumped over a lazy dog'\n",
        "line.find('fox')"
      ],
      "execution_count": 18,
      "outputs": [
        {
          "output_type": "execute_result",
          "data": {
            "text/plain": [
              "16"
            ]
          },
          "metadata": {
            "tags": []
          },
          "execution_count": 18
        }
      ]
    },
    {
      "cell_type": "code",
      "metadata": {
        "id": "58nSzO47up4N",
        "outputId": "5ae0e6ee-ddad-48be-e3ec-7b8318f47829",
        "colab": {
          "base_uri": "https://localhost:8080/"
        }
      },
      "source": [
        "line.index('fox')"
      ],
      "execution_count": 19,
      "outputs": [
        {
          "output_type": "execute_result",
          "data": {
            "text/plain": [
              "16"
            ]
          },
          "metadata": {
            "tags": []
          },
          "execution_count": 19
        }
      ]
    },
    {
      "cell_type": "markdown",
      "metadata": {
        "id": "3wnLETqZup4P"
      },
      "source": [
        "The only difference between ``find()`` and ``index()`` is their behavior when the search string is not found; ``find()`` returns ``-1``, while ``index()`` raises a ``ValueError``:"
      ]
    },
    {
      "cell_type": "code",
      "metadata": {
        "id": "ODgaTBB1up4Q",
        "outputId": "77eb7f38-e3a2-4dec-e223-5350e465cfc8",
        "colab": {
          "base_uri": "https://localhost:8080/"
        }
      },
      "source": [
        "line.find('bear')"
      ],
      "execution_count": 20,
      "outputs": [
        {
          "output_type": "execute_result",
          "data": {
            "text/plain": [
              "-1"
            ]
          },
          "metadata": {
            "tags": []
          },
          "execution_count": 20
        }
      ]
    },
    {
      "cell_type": "code",
      "metadata": {
        "id": "oYjdjCmPup4T",
        "outputId": "7c45ff12-e593-4768-9d41-bf0e49f0049b",
        "colab": {
          "base_uri": "https://localhost:8080/",
          "height": 165
        }
      },
      "source": [
        "line.index('bear')"
      ],
      "execution_count": 22,
      "outputs": [
        {
          "output_type": "error",
          "ename": "ValueError",
          "evalue": "ignored",
          "traceback": [
            "\u001b[0;31m---------------------------------------------------------------------------\u001b[0m",
            "\u001b[0;31mValueError\u001b[0m                                Traceback (most recent call last)",
            "\u001b[0;32m<ipython-input-22-adf599eb4c79>\u001b[0m in \u001b[0;36m<module>\u001b[0;34m()\u001b[0m\n\u001b[0;32m----> 1\u001b[0;31m \u001b[0mline\u001b[0m\u001b[0;34m.\u001b[0m\u001b[0mindex\u001b[0m\u001b[0;34m(\u001b[0m\u001b[0;34m'bear'\u001b[0m\u001b[0;34m)\u001b[0m\u001b[0;34m\u001b[0m\u001b[0;34m\u001b[0m\u001b[0m\n\u001b[0m",
            "\u001b[0;31mValueError\u001b[0m: substring not found"
          ]
        }
      ]
    },
    {
      "cell_type": "markdown",
      "metadata": {
        "id": "WBSb2Eofup4Z"
      },
      "source": [
        "The related ``rfind()`` and ``rindex()`` work similarly, except they search for the first occurrence from the end rather than the beginning of the string:"
      ]
    },
    {
      "cell_type": "code",
      "metadata": {
        "id": "AYng0IzGup4a",
        "outputId": "e5141772-691e-49e7-8c63-ec1385ee9cfd",
        "colab": {
          "base_uri": "https://localhost:8080/"
        }
      },
      "source": [
        "line.rfind('a')"
      ],
      "execution_count": 23,
      "outputs": [
        {
          "output_type": "execute_result",
          "data": {
            "text/plain": [
              "35"
            ]
          },
          "metadata": {
            "tags": []
          },
          "execution_count": 23
        }
      ]
    },
    {
      "cell_type": "markdown",
      "metadata": {
        "id": "0n7982owup4e"
      },
      "source": [
        "For the special case of checking for a substring at the beginning or end of a string, Python provides the ``startswith()`` and ``endswith()`` methods:"
      ]
    },
    {
      "cell_type": "code",
      "metadata": {
        "id": "gvwCxGPaup4e",
        "outputId": "47d8c3b1-b8ce-45f8-84cb-3fd5039d2b51",
        "colab": {
          "base_uri": "https://localhost:8080/"
        }
      },
      "source": [
        "line.endswith('dog')"
      ],
      "execution_count": 24,
      "outputs": [
        {
          "output_type": "execute_result",
          "data": {
            "text/plain": [
              "True"
            ]
          },
          "metadata": {
            "tags": []
          },
          "execution_count": 24
        }
      ]
    },
    {
      "cell_type": "code",
      "metadata": {
        "id": "4NwZqOGKup4i",
        "outputId": "842e6dd9-2f5a-44bc-973a-4df7cb076b5b",
        "colab": {
          "base_uri": "https://localhost:8080/"
        }
      },
      "source": [
        "line.startswith('fox')"
      ],
      "execution_count": 25,
      "outputs": [
        {
          "output_type": "execute_result",
          "data": {
            "text/plain": [
              "False"
            ]
          },
          "metadata": {
            "tags": []
          },
          "execution_count": 25
        }
      ]
    },
    {
      "cell_type": "markdown",
      "metadata": {
        "id": "_G21LMN4up4l"
      },
      "source": [
        "To go one step further and replace a given substring with a new string, you can use the ``replace()`` method.\n",
        "Here, let's replace ``'brown'`` with ``'red'``:"
      ]
    },
    {
      "cell_type": "code",
      "metadata": {
        "id": "OWopX5Dwup4l",
        "outputId": "8a4bbc7e-c5e5-4fbc-dbcb-7168c864d606",
        "colab": {
          "base_uri": "https://localhost:8080/",
          "height": 36
        }
      },
      "source": [
        "line.replace('brown', 'red')"
      ],
      "execution_count": 26,
      "outputs": [
        {
          "output_type": "execute_result",
          "data": {
            "application/vnd.google.colaboratory.intrinsic+json": {
              "type": "string"
            },
            "text/plain": [
              "'the quick red fox jumped over a lazy dog'"
            ]
          },
          "metadata": {
            "tags": []
          },
          "execution_count": 26
        }
      ]
    },
    {
      "cell_type": "markdown",
      "metadata": {
        "id": "b9FZv1Iyup4o"
      },
      "source": [
        "The ``replace()`` function returns a new string, and will replace all occurrences of the input:"
      ]
    },
    {
      "cell_type": "code",
      "metadata": {
        "id": "EMjtdHz2up4p",
        "outputId": "7b0c9983-2cc3-487a-c982-fd4c3a207223",
        "colab": {
          "base_uri": "https://localhost:8080/",
          "height": 36
        }
      },
      "source": [
        "line.replace('o', '--')"
      ],
      "execution_count": 27,
      "outputs": [
        {
          "output_type": "execute_result",
          "data": {
            "application/vnd.google.colaboratory.intrinsic+json": {
              "type": "string"
            },
            "text/plain": [
              "'the quick br--wn f--x jumped --ver a lazy d--g'"
            ]
          },
          "metadata": {
            "tags": []
          },
          "execution_count": 27
        }
      ]
    },
    {
      "cell_type": "markdown",
      "metadata": {
        "id": "YpNFMoNpup4r"
      },
      "source": [
        "For a more flexible approach to this ``replace()`` functionality, see the discussion of regular expressions in [Flexible Pattern Matching with Regular Expressions](#Flexible-Pattern-Matching-with-Regular-Expressions)."
      ]
    },
    {
      "cell_type": "markdown",
      "metadata": {
        "id": "R0HuGVxcup4r"
      },
      "source": [
        "### Splitting and partitioning strings\n",
        "\n",
        "If you would like to find a substring *and then* split the string based on its location, the ``partition()`` and/or ``split()`` methods are what you're looking for.\n",
        "Both will return a sequence of substrings.\n",
        "\n",
        "The ``partition()`` method returns a tuple with three elements: the substring before the first instance of the split-point, the split-point itself, and the substring after:"
      ]
    },
    {
      "cell_type": "code",
      "metadata": {
        "id": "LDwOOUDhup4s",
        "outputId": "a81aa2d9-f981-4e5e-a156-4123e1e437de",
        "colab": {
          "base_uri": "https://localhost:8080/"
        }
      },
      "source": [
        "line.partition('fox')"
      ],
      "execution_count": 28,
      "outputs": [
        {
          "output_type": "execute_result",
          "data": {
            "text/plain": [
              "('the quick brown ', 'fox', ' jumped over a lazy dog')"
            ]
          },
          "metadata": {
            "tags": []
          },
          "execution_count": 28
        }
      ]
    },
    {
      "cell_type": "markdown",
      "metadata": {
        "id": "VcO0_ym4up4v"
      },
      "source": [
        "The ``rpartition()`` method is similar, but searches from the right of the string.\n",
        "\n",
        "The ``split()`` method is perhaps more useful; it finds *all* instances of the split-point and returns the substrings in between.\n",
        "The default is to split on any whitespace, returning a list of the individual words in a string:"
      ]
    },
    {
      "cell_type": "code",
      "metadata": {
        "id": "WoJAJQ1Iup4v",
        "outputId": "211a4fc6-00ed-4897-8c87-e7a43de3cf0c",
        "colab": {
          "base_uri": "https://localhost:8080/"
        }
      },
      "source": [
        "line.split()"
      ],
      "execution_count": 29,
      "outputs": [
        {
          "output_type": "execute_result",
          "data": {
            "text/plain": [
              "['the', 'quick', 'brown', 'fox', 'jumped', 'over', 'a', 'lazy', 'dog']"
            ]
          },
          "metadata": {
            "tags": []
          },
          "execution_count": 29
        }
      ]
    },
    {
      "cell_type": "markdown",
      "metadata": {
        "id": "lifVhP6pup4x"
      },
      "source": [
        "A related method is ``splitlines()``, which splits on newline characters.\n",
        "Let's do this with a Haiku, popularly attributed to the 17th-century poet Matsuo Bashō:"
      ]
    },
    {
      "cell_type": "code",
      "metadata": {
        "id": "-YlI81HWup4y",
        "outputId": "e3dbf4ab-ec0d-4a4a-9594-a9ba77980796",
        "colab": {
          "base_uri": "https://localhost:8080/"
        }
      },
      "source": [
        "haiku = \"\"\"matsushima-ya\n",
        "aah matsushima-ya\n",
        "matsushima-ya\"\"\"\n",
        "\n",
        "haiku.splitlines()"
      ],
      "execution_count": 30,
      "outputs": [
        {
          "output_type": "execute_result",
          "data": {
            "text/plain": [
              "['matsushima-ya', 'aah matsushima-ya', 'matsushima-ya']"
            ]
          },
          "metadata": {
            "tags": []
          },
          "execution_count": 30
        }
      ]
    },
    {
      "cell_type": "markdown",
      "metadata": {
        "id": "Jphf7L4bup40"
      },
      "source": [
        "Note that if you would like to undo a ``split()``, you can use the ``join()`` method, which returns a string built from a splitpoint and an iterable:"
      ]
    },
    {
      "cell_type": "code",
      "metadata": {
        "id": "cL2zfhFvup41",
        "outputId": "4ceea9f1-b1b3-448e-ea52-4435f37667ba",
        "colab": {
          "base_uri": "https://localhost:8080/",
          "height": 36
        }
      },
      "source": [
        "'--'.join(['1', '2', '3'])"
      ],
      "execution_count": 31,
      "outputs": [
        {
          "output_type": "execute_result",
          "data": {
            "application/vnd.google.colaboratory.intrinsic+json": {
              "type": "string"
            },
            "text/plain": [
              "'1--2--3'"
            ]
          },
          "metadata": {
            "tags": []
          },
          "execution_count": 31
        }
      ]
    },
    {
      "cell_type": "markdown",
      "metadata": {
        "id": "BDoAOFEwup44"
      },
      "source": [
        "A common pattern is to use the special character ``\"\\n\"`` (newline) to join together lines that have been previously split, and recover the input:"
      ]
    },
    {
      "cell_type": "code",
      "metadata": {
        "id": "11SoJApgup45",
        "outputId": "a1453ebb-300b-43cc-a359-b44a298401f8",
        "colab": {
          "base_uri": "https://localhost:8080/"
        }
      },
      "source": [
        "print(\"\\n\".join(['matsushima-ya', 'aah matsushima-ya', 'matsushima-ya']))"
      ],
      "execution_count": 32,
      "outputs": [
        {
          "output_type": "stream",
          "text": [
            "matsushima-ya\n",
            "aah matsushima-ya\n",
            "matsushima-ya\n"
          ],
          "name": "stdout"
        }
      ]
    },
    {
      "cell_type": "markdown",
      "metadata": {
        "id": "4v4OR0Guup47"
      },
      "source": [
        "## Format Strings\n",
        "\n",
        "In the preceding methods, we have learned how to extract values from strings, and to manipulate strings themselves into desired formats.\n",
        "Another use of string methods is to manipulate string *representations* of values of other types.\n",
        "Of course, string representations can always be found using the ``str()`` function; for example:"
      ]
    },
    {
      "cell_type": "code",
      "metadata": {
        "id": "oS_gdOptup47",
        "outputId": "316f5f13-b121-44e0-f714-c4701fd2f88a",
        "colab": {
          "base_uri": "https://localhost:8080/",
          "height": 36
        }
      },
      "source": [
        "pi = 3.14159\n",
        "str(pi)"
      ],
      "execution_count": 33,
      "outputs": [
        {
          "output_type": "execute_result",
          "data": {
            "application/vnd.google.colaboratory.intrinsic+json": {
              "type": "string"
            },
            "text/plain": [
              "'3.14159'"
            ]
          },
          "metadata": {
            "tags": []
          },
          "execution_count": 33
        }
      ]
    },
    {
      "cell_type": "markdown",
      "metadata": {
        "id": "7TGL2Bxzup4-"
      },
      "source": [
        "For more complicated formats, you might be tempted to use string arithmetic as outlined in [Basic Python Semantics: Operators](04-Semantics-Operators.ipynb):"
      ]
    },
    {
      "cell_type": "code",
      "metadata": {
        "id": "XgX1V7mcup4-",
        "outputId": "7a0c9e48-a711-4588-f50b-601dee0cda7b",
        "colab": {
          "base_uri": "https://localhost:8080/",
          "height": 36
        }
      },
      "source": [
        "\"The value of pi is \" + str(pi)"
      ],
      "execution_count": 34,
      "outputs": [
        {
          "output_type": "execute_result",
          "data": {
            "application/vnd.google.colaboratory.intrinsic+json": {
              "type": "string"
            },
            "text/plain": [
              "'The value of pi is 3.14159'"
            ]
          },
          "metadata": {
            "tags": []
          },
          "execution_count": 34
        }
      ]
    },
    {
      "cell_type": "markdown",
      "metadata": {
        "id": "JOjnXzdfup5A"
      },
      "source": [
        "A more flexible way to do this is to use *format strings*, which are strings with special markers (noted by curly braces) into which string-formatted values will be inserted.\n",
        "Here is a basic example:"
      ]
    },
    {
      "cell_type": "code",
      "metadata": {
        "id": "rh-hZPE1up5A",
        "outputId": "9dec9f12-ed4e-405e-e733-24de16c8a5d7",
        "colab": {
          "base_uri": "https://localhost:8080/",
          "height": 36
        }
      },
      "source": [
        "\"The value of pi is {}\".format(pi)"
      ],
      "execution_count": 35,
      "outputs": [
        {
          "output_type": "execute_result",
          "data": {
            "application/vnd.google.colaboratory.intrinsic+json": {
              "type": "string"
            },
            "text/plain": [
              "'The value of pi is 3.14159'"
            ]
          },
          "metadata": {
            "tags": []
          },
          "execution_count": 35
        }
      ]
    },
    {
      "cell_type": "markdown",
      "metadata": {
        "id": "iehobCzeup5C"
      },
      "source": [
        "Inside the ``{}`` marker you can also include information on exactly *what* you would like to appear there.\n",
        "If you include a number, it will refer to the index of the argument to insert:"
      ]
    },
    {
      "cell_type": "code",
      "metadata": {
        "id": "cfIMeDFvup5D",
        "outputId": "06be4ef6-df06-44dd-f327-9daa21e4f294",
        "colab": {
          "base_uri": "https://localhost:8080/",
          "height": 36
        }
      },
      "source": [
        "\"\"\"First letter: {0}. Last letter: {1}.\"\"\".format('A', 'Z')"
      ],
      "execution_count": 36,
      "outputs": [
        {
          "output_type": "execute_result",
          "data": {
            "application/vnd.google.colaboratory.intrinsic+json": {
              "type": "string"
            },
            "text/plain": [
              "'First letter: A. Last letter: Z.'"
            ]
          },
          "metadata": {
            "tags": []
          },
          "execution_count": 36
        }
      ]
    },
    {
      "cell_type": "markdown",
      "metadata": {
        "id": "DlpuoTy5up5F"
      },
      "source": [
        "If you include a string, it will refer to the key of any keyword argument:"
      ]
    },
    {
      "cell_type": "code",
      "metadata": {
        "id": "eEGblrpfup5F",
        "outputId": "27866771-e6b2-4e4d-9b49-6302fff491b3",
        "colab": {
          "base_uri": "https://localhost:8080/",
          "height": 36
        }
      },
      "source": [
        "\"\"\"First letter: {first}. Last letter: {last}.\"\"\".format(last='Z', first='A')"
      ],
      "execution_count": 37,
      "outputs": [
        {
          "output_type": "execute_result",
          "data": {
            "application/vnd.google.colaboratory.intrinsic+json": {
              "type": "string"
            },
            "text/plain": [
              "'First letter: A. Last letter: Z.'"
            ]
          },
          "metadata": {
            "tags": []
          },
          "execution_count": 37
        }
      ]
    },
    {
      "cell_type": "markdown",
      "metadata": {
        "id": "L9I2Qw9Bup5J"
      },
      "source": [
        "Finally, for numerical inputs, you can include format codes which control how the value is converted to a string.\n",
        "For example, to print a number as a floating point with three digits after the decimal point, you can use the following:"
      ]
    },
    {
      "cell_type": "code",
      "metadata": {
        "id": "21CS_R07up5J",
        "outputId": "83d00da4-6940-45db-d1de-e9ed3790b3ea",
        "colab": {
          "base_uri": "https://localhost:8080/",
          "height": 36
        }
      },
      "source": [
        "\"pi = {0:.3f}\".format(pi)"
      ],
      "execution_count": 38,
      "outputs": [
        {
          "output_type": "execute_result",
          "data": {
            "application/vnd.google.colaboratory.intrinsic+json": {
              "type": "string"
            },
            "text/plain": [
              "'pi = 3.142'"
            ]
          },
          "metadata": {
            "tags": []
          },
          "execution_count": 38
        }
      ]
    },
    {
      "cell_type": "markdown",
      "metadata": {
        "id": "BYaqOpTXup5L"
      },
      "source": [
        "As before, here the \"``0``\" refers to the index of the value to be inserted.\n",
        "The \"``:``\" marks that format codes will follow.\n",
        "The \"``.3f``\" encodes the desired precision: three digits beyond the decimal point, floating-point format.\n",
        "\n",
        "This style of format specification is very flexible, and the examples here barely scratch the surface of the formatting options available.\n",
        "For more information on the syntax of these format strings, see the [Format Specification](https://docs.python.org/3/library/string.html#formatspec) section of Python's online documentation."
      ]
    },
    {
      "cell_type": "markdown",
      "metadata": {
        "id": "rrG5JDY-up5L"
      },
      "source": [
        "## Flexible Pattern Matching with Regular Expressions\n",
        "\n",
        "The methods of Python's ``str`` type give you a powerful set of tools for formatting, splitting, and manipulating string data.\n",
        "But even more powerful tools are available in Python's built-in *regular expression* module.\n",
        "Regular expressions are a huge topic; there are there are entire books written on the topic (including Jeffrey E.F. Friedl’s [*Mastering Regular Expressions, 3rd Edition*](http://shop.oreilly.com/product/9780596528126.do)), so it will be hard to do justice within just a single subsection.\n",
        "\n",
        "My goal here is to give you an idea of the types of problems that might be addressed using regular expressions, as well as a basic idea of how to use them in Python.\n",
        "I'll suggest some references for learning more in [Further Resources on Regular Expressions](#Further-Resources-on-Regular-Expressions).\n",
        "\n",
        "Fundamentally, regular expressions are a means of *flexible pattern matching* in strings.\n",
        "If you frequently use the command-line, you are probably familiar with this type of flexible matching with the \"``*``\" character, which acts as a wildcard.\n",
        "For example, we can list all the IPython notebooks (i.e., files with extension *.ipynb*) with \"Python\" in their filename by using the \"``*``\" wildcard to match any characters in between:"
      ]
    },
    {
      "cell_type": "code",
      "metadata": {
        "id": "RHGIuDyQup5M",
        "outputId": "19b98719-2152-4aec-bed2-d17f55708687",
        "colab": {
          "base_uri": "https://localhost:8080/"
        }
      },
      "source": [
        "!ls *Python*.ipynb"
      ],
      "execution_count": 39,
      "outputs": [
        {
          "output_type": "stream",
          "text": [
            "ls: cannot access '*Python*.ipynb': No such file or directory\n"
          ],
          "name": "stdout"
        }
      ]
    },
    {
      "cell_type": "markdown",
      "metadata": {
        "id": "WqBK3kZdup5Q"
      },
      "source": [
        "Regular expressions generalize this \"wildcard\" idea to a wide range of flexible string-matching sytaxes.\n",
        "The Python interface to regular expressions is contained in the built-in ``re`` module; as a simple example, let's use it to duplicate the functionality of the string ``split()`` method:"
      ]
    },
    {
      "cell_type": "code",
      "metadata": {
        "id": "kFleg4e-up5Q",
        "outputId": "40462502-5fdf-459a-a789-53822f089a77",
        "colab": {
          "base_uri": "https://localhost:8080/"
        }
      },
      "source": [
        "import re\n",
        "regex = re.compile('\\s+')\n",
        "regex.split(line)"
      ],
      "execution_count": 40,
      "outputs": [
        {
          "output_type": "execute_result",
          "data": {
            "text/plain": [
              "['the', 'quick', 'brown', 'fox', 'jumped', 'over', 'a', 'lazy', 'dog']"
            ]
          },
          "metadata": {
            "tags": []
          },
          "execution_count": 40
        }
      ]
    },
    {
      "cell_type": "markdown",
      "metadata": {
        "id": "KH-es12Xup5T"
      },
      "source": [
        "Here we've first *compiled* a regular expression, then used it to *split* a string.\n",
        "Just as Python's ``split()`` method returns a list of all substrings between whitespace, the regular expression ``split()`` method returns a list of all substrings between matches to the input pattern.\n",
        "\n",
        "In this case, the input is ``\"\\s+\"``: \"``\\s``\" is a special character that matches any whitespace (space, tab, newline, etc.), and the \"``+``\" is a character that indicates *one or more* of the entity preceding it.\n",
        "Thus, the regular expression matches any substring consisting of one or more spaces.\n",
        "\n",
        "The ``split()`` method here is basically a convenience routine built upon this *pattern matching* behavior; more fundamental is the ``match()`` method, which will tell you whether the beginning of a string matches the pattern:"
      ]
    },
    {
      "cell_type": "code",
      "metadata": {
        "id": "RPSIJVz7up5U",
        "outputId": "89c8bd6e-f4d7-479d-a2c3-d219366b52a8",
        "colab": {
          "base_uri": "https://localhost:8080/"
        }
      },
      "source": [
        "for s in [\"     \", \"abc  \", \"  abc\"]:\n",
        "    if regex.match(s):\n",
        "        print(repr(s), \"matches\")\n",
        "    else:\n",
        "        print(repr(s), \"does not match\")"
      ],
      "execution_count": 41,
      "outputs": [
        {
          "output_type": "stream",
          "text": [
            "'     ' matches\n",
            "'abc  ' does not match\n",
            "'  abc' matches\n"
          ],
          "name": "stdout"
        }
      ]
    },
    {
      "cell_type": "markdown",
      "metadata": {
        "id": "Y57xhY-Nup5X"
      },
      "source": [
        "Like ``split()``, there are similar convenience routines to find the first match (like ``str.index()`` or ``str.find()``) or to find and replace (like ``str.replace()``).\n",
        "We'll again use the line from before:"
      ]
    },
    {
      "cell_type": "code",
      "metadata": {
        "id": "ufv8b78wup5Y"
      },
      "source": [
        "line = 'the quick brown fox jumped over a lazy dog'"
      ],
      "execution_count": 42,
      "outputs": []
    },
    {
      "cell_type": "markdown",
      "metadata": {
        "id": "AytJNG0nup5a"
      },
      "source": [
        "With this, we can see that the ``regex.search()`` method operates a lot like ``str.index()`` or ``str.find()``:"
      ]
    },
    {
      "cell_type": "code",
      "metadata": {
        "id": "H0lLxh-Kup5a",
        "outputId": "90dde66e-1d3e-4bf4-8e9c-7bbe370ced40",
        "colab": {
          "base_uri": "https://localhost:8080/"
        }
      },
      "source": [
        "line.index('fox')"
      ],
      "execution_count": 43,
      "outputs": [
        {
          "output_type": "execute_result",
          "data": {
            "text/plain": [
              "16"
            ]
          },
          "metadata": {
            "tags": []
          },
          "execution_count": 43
        }
      ]
    },
    {
      "cell_type": "code",
      "metadata": {
        "id": "vTkfyF54up5d",
        "outputId": "c618ce41-8af6-4364-b197-8635ab137b02",
        "colab": {
          "base_uri": "https://localhost:8080/"
        }
      },
      "source": [
        "regex = re.compile('fox')\n",
        "match = regex.search(line)\n",
        "match.start()"
      ],
      "execution_count": 44,
      "outputs": [
        {
          "output_type": "execute_result",
          "data": {
            "text/plain": [
              "16"
            ]
          },
          "metadata": {
            "tags": []
          },
          "execution_count": 44
        }
      ]
    },
    {
      "cell_type": "markdown",
      "metadata": {
        "id": "GlB3StnQup5f"
      },
      "source": [
        "Similarly, the ``regex.sub()`` method operates much like ``str.replace()``:"
      ]
    },
    {
      "cell_type": "code",
      "metadata": {
        "id": "_Q-tlAy9up5g",
        "outputId": "a2aa30d7-e265-4893-c2fd-b35de31aa442",
        "colab": {
          "base_uri": "https://localhost:8080/",
          "height": 36
        }
      },
      "source": [
        "line.replace('fox', 'BEAR')"
      ],
      "execution_count": 45,
      "outputs": [
        {
          "output_type": "execute_result",
          "data": {
            "application/vnd.google.colaboratory.intrinsic+json": {
              "type": "string"
            },
            "text/plain": [
              "'the quick brown BEAR jumped over a lazy dog'"
            ]
          },
          "metadata": {
            "tags": []
          },
          "execution_count": 45
        }
      ]
    },
    {
      "cell_type": "code",
      "metadata": {
        "id": "oHF6Zcssup5j",
        "outputId": "df1bea26-cbbf-4156-bd1a-bec5f901b3ed",
        "colab": {
          "base_uri": "https://localhost:8080/",
          "height": 36
        }
      },
      "source": [
        "regex.sub('BEAR', line)"
      ],
      "execution_count": 46,
      "outputs": [
        {
          "output_type": "execute_result",
          "data": {
            "application/vnd.google.colaboratory.intrinsic+json": {
              "type": "string"
            },
            "text/plain": [
              "'the quick brown BEAR jumped over a lazy dog'"
            ]
          },
          "metadata": {
            "tags": []
          },
          "execution_count": 46
        }
      ]
    },
    {
      "cell_type": "markdown",
      "metadata": {
        "id": "7e7IBPZiup5l"
      },
      "source": [
        "With a bit of thought, other native string operations can also be cast as regular expressions."
      ]
    },
    {
      "cell_type": "markdown",
      "metadata": {
        "id": "YSib6co2up5l"
      },
      "source": [
        "### A more sophisticated example\n",
        "\n",
        "But, you might ask, why would you want to use the more complicated and verbose syntax of regular expressions rather than the more intuitive and simple string methods?\n",
        "The advantage is that regular expressions offer *far* more flexibility.\n",
        "\n",
        "Here we'll consider a more complicated example: the common task of matching email addresses.\n",
        "I'll start by simply writing a (somewhat indecipherable) regular expression, and then walk through what is going on.\n",
        "Here it goes:"
      ]
    },
    {
      "cell_type": "code",
      "metadata": {
        "id": "PuA5mcFTup5m"
      },
      "source": [
        "email = re.compile('\\w+@\\w+\\.[a-z]{3}')"
      ],
      "execution_count": 47,
      "outputs": []
    },
    {
      "cell_type": "markdown",
      "metadata": {
        "id": "1xrBnBMIup5p"
      },
      "source": [
        "Using this, if we're given a line from a document, we can quickly extract things that look like email addresses"
      ]
    },
    {
      "cell_type": "code",
      "metadata": {
        "id": "voGN2MOEup5p",
        "outputId": "c3161290-edbf-4723-a7b0-4270381f0361",
        "colab": {
          "base_uri": "https://localhost:8080/"
        }
      },
      "source": [
        "text = \"To email Guido, try guido@python.org or the older address guido@google.com.\"\n",
        "email.findall(text)"
      ],
      "execution_count": 48,
      "outputs": [
        {
          "output_type": "execute_result",
          "data": {
            "text/plain": [
              "['guido@python.org', 'guido@google.com']"
            ]
          },
          "metadata": {
            "tags": []
          },
          "execution_count": 48
        }
      ]
    },
    {
      "cell_type": "markdown",
      "metadata": {
        "id": "xEupgFfwup5r"
      },
      "source": [
        "(Note that these addresses are entirely made up; there are probably better ways to get in touch with Guido).\n",
        "\n",
        "We can do further operations, like replacing these email addresses with another string, perhaps to hide addresses in the output:"
      ]
    },
    {
      "cell_type": "code",
      "metadata": {
        "id": "NIXooTPzup5s",
        "outputId": "a144640b-4bf5-4d0e-faad-ddb2b8ecf22f",
        "colab": {
          "base_uri": "https://localhost:8080/",
          "height": 36
        }
      },
      "source": [
        "email.sub('--@--.--', text)"
      ],
      "execution_count": 49,
      "outputs": [
        {
          "output_type": "execute_result",
          "data": {
            "application/vnd.google.colaboratory.intrinsic+json": {
              "type": "string"
            },
            "text/plain": [
              "'To email Guido, try --@--.-- or the older address --@--.--.'"
            ]
          },
          "metadata": {
            "tags": []
          },
          "execution_count": 49
        }
      ]
    },
    {
      "cell_type": "markdown",
      "metadata": {
        "id": "FyEBSfJkup5u"
      },
      "source": [
        "Finally, note that if you really want to match *any* email address, the preceding regular expression is far too simple.\n",
        "For example, it only allows addresses made of alphanumeric characters that end in one of several common domain suffixes.\n",
        "So, for example, the period used here means that we only find part of the address:"
      ]
    },
    {
      "cell_type": "code",
      "metadata": {
        "id": "hUwq1D32up5u",
        "outputId": "bbdf975f-8650-49a3-8d09-a432c7802b41",
        "colab": {
          "base_uri": "https://localhost:8080/"
        }
      },
      "source": [
        "email.findall('barack.obama@whitehouse.gov')"
      ],
      "execution_count": 50,
      "outputs": [
        {
          "output_type": "execute_result",
          "data": {
            "text/plain": [
              "['obama@whitehouse.gov']"
            ]
          },
          "metadata": {
            "tags": []
          },
          "execution_count": 50
        }
      ]
    },
    {
      "cell_type": "markdown",
      "metadata": {
        "id": "0J1OLazVup5x"
      },
      "source": [
        "This goes to show how unforgiving regular expressions can be if you're not careful!\n",
        "If you search around online, you can find some suggestions for regular expressions that will match *all* valid emails, but beware: they are much more involved than the simple expression used here!"
      ]
    },
    {
      "cell_type": "markdown",
      "metadata": {
        "id": "UoNlT5ZWup5y"
      },
      "source": [
        "### Basics of regular expression syntax\n",
        "\n",
        "The syntax of regular expressions is much too large a topic for this short section.\n",
        "Still, a bit of familiarity can go a long way: I will walk through some of the basic constructs here, and then list some more complete resources from which you can learn more.\n",
        "My hope is that the following quick primer will enable you to use these resources effectively."
      ]
    },
    {
      "cell_type": "markdown",
      "metadata": {
        "id": "wq7aTdtnup5z"
      },
      "source": [
        "#### Simple strings are matched directly\n",
        "\n",
        "If you build a regular expression on a simple string of characters or digits, it will match that exact string:"
      ]
    },
    {
      "cell_type": "code",
      "metadata": {
        "id": "3APCkBW4up5z",
        "outputId": "2a1f9c92-3236-486e-935d-1712a063a61c",
        "colab": {
          "base_uri": "https://localhost:8080/"
        }
      },
      "source": [
        "regex = re.compile('ion')\n",
        "regex.findall('Great Expectations')"
      ],
      "execution_count": 51,
      "outputs": [
        {
          "output_type": "execute_result",
          "data": {
            "text/plain": [
              "['ion']"
            ]
          },
          "metadata": {
            "tags": []
          },
          "execution_count": 51
        }
      ]
    },
    {
      "cell_type": "markdown",
      "metadata": {
        "id": "cjaAp8Qsup52"
      },
      "source": [
        "#### Some characters have special meanings\n",
        "\n",
        "While simple letters or numbers are direct matches, there are a handful of characters that have special meanings within regular expressions. They are:\n",
        "```\n",
        ". ^ $ * + ? { } [ ] \\ | ( )\n",
        "```\n",
        "We will discuss the meaning of some of these momentarily.\n",
        "In the meantime, you should know that if you'd like to match any of these characters directly, you can *escape* them with a back-slash:"
      ]
    },
    {
      "cell_type": "code",
      "metadata": {
        "id": "vxWCGvffup52",
        "outputId": "a879aeca-4ab2-4fed-f2e4-c6ef7421c36a",
        "colab": {
          "base_uri": "https://localhost:8080/"
        }
      },
      "source": [
        "regex = re.compile(r'\\$')\n",
        "regex.findall(\"the cost is $20\")"
      ],
      "execution_count": 52,
      "outputs": [
        {
          "output_type": "execute_result",
          "data": {
            "text/plain": [
              "['$']"
            ]
          },
          "metadata": {
            "tags": []
          },
          "execution_count": 52
        }
      ]
    },
    {
      "cell_type": "markdown",
      "metadata": {
        "id": "eJz2msqVup54"
      },
      "source": [
        "The ``r`` preface in ``r'\\$'`` indicates a *raw string*; in standard Python strings, the backslash is used to indicate special characters.\n",
        "For example, a tab is indicated by ``\"\\t\"``:"
      ]
    },
    {
      "cell_type": "code",
      "metadata": {
        "id": "Df0zYgAgup54",
        "outputId": "03d85aac-90e0-452b-9ee6-3b69145531c6",
        "colab": {
          "base_uri": "https://localhost:8080/"
        }
      },
      "source": [
        "print('a\\tb\\tc')"
      ],
      "execution_count": 53,
      "outputs": [
        {
          "output_type": "stream",
          "text": [
            "a\tb\tc\n"
          ],
          "name": "stdout"
        }
      ]
    },
    {
      "cell_type": "markdown",
      "metadata": {
        "id": "TBO4LP89up56"
      },
      "source": [
        "Such substitutions are not made in a raw string:"
      ]
    },
    {
      "cell_type": "code",
      "metadata": {
        "id": "jYpvaCrMup57",
        "outputId": "c83e2a83-70fa-4e11-b486-0915c2528a6f",
        "colab": {
          "base_uri": "https://localhost:8080/"
        }
      },
      "source": [
        "print(r'a\\tb\\tc')"
      ],
      "execution_count": 54,
      "outputs": [
        {
          "output_type": "stream",
          "text": [
            "a\\tb\\tc\n"
          ],
          "name": "stdout"
        }
      ]
    },
    {
      "cell_type": "markdown",
      "metadata": {
        "id": "_cKojL6Aup59"
      },
      "source": [
        "For this reason, whenever you use backslashes in a regular expression, it is good practice to use a raw string."
      ]
    },
    {
      "cell_type": "markdown",
      "metadata": {
        "id": "EmeJoF74up59"
      },
      "source": [
        "#### Special characters can match character groups\n",
        "\n",
        "Just as the ``\"\\\"`` character within regular expressions can escape special characters, turning them into normal characters, it can also be used to give normal characters special meaning.\n",
        "These special characters match specified groups of characters, and we've seen them before.\n",
        "In the email address regexp from before, we used the character ``\"\\w\"``, which is a special marker matching *any alphanumeric character*. Similarly, in the simple ``split()`` example, we also saw ``\"\\s\"``, a special marker indicating *any whitespace character*.\n",
        "\n",
        "Putting these together, we can create a regular expression that will match *any two letters/digits with whitespace between them*:"
      ]
    },
    {
      "cell_type": "code",
      "metadata": {
        "id": "jcL8qPI9up59",
        "outputId": "cfdb5617-8fff-44a1-fcf9-5cd61ae67065",
        "colab": {
          "base_uri": "https://localhost:8080/"
        }
      },
      "source": [
        "regex = re.compile(r'\\w\\s\\w')\n",
        "regex.findall('the fox is 9 years old')"
      ],
      "execution_count": 55,
      "outputs": [
        {
          "output_type": "execute_result",
          "data": {
            "text/plain": [
              "['e f', 'x i', 's 9', 's o']"
            ]
          },
          "metadata": {
            "tags": []
          },
          "execution_count": 55
        }
      ]
    },
    {
      "cell_type": "markdown",
      "metadata": {
        "id": "8iogoXjnup6A"
      },
      "source": [
        "This example begins to hint at the power and flexibility of regular expressions."
      ]
    },
    {
      "cell_type": "markdown",
      "metadata": {
        "id": "raOSryyNup6A"
      },
      "source": [
        "The following table lists a few of these characters that are commonly useful:\n",
        "\n",
        "| Character | Description                 || Character | Description                     |\n",
        "|-----------|-----------------------------||-----------|---------------------------------|\n",
        "| ``\"\\d\"``  | Match any digit             || ``\"\\D\"``  | Match any non-digit             |\n",
        "| ``\"\\s\"``  | Match any whitespace        || ``\"\\S\"``  | Match any non-whitespace        |\n",
        "| ``\"\\w\"``  | Match any alphanumeric char || ``\"\\W\"``  | Match any non-alphanumeric char |\n",
        "\n",
        "This is *not* a comprehensive list or description; for more details, see Python's [regular expression syntax documentation](https://docs.python.org/3/library/re.html#re-syntax)."
      ]
    },
    {
      "cell_type": "markdown",
      "metadata": {
        "id": "tUkMR7-zup6A"
      },
      "source": [
        "#### Square brackets match custom character groups\n",
        "\n",
        "If the built-in character groups aren't specific enough for you, you can use square brackets to specify any set of characters you're interested in.\n",
        "For example, the following will match any lower-case vowel:"
      ]
    },
    {
      "cell_type": "code",
      "metadata": {
        "id": "2IeC6eQdup6A",
        "outputId": "d630b60d-7bab-429d-ccd1-25583ee560ad",
        "colab": {
          "base_uri": "https://localhost:8080/"
        }
      },
      "source": [
        "regex = re.compile('[aeiou]')\n",
        "regex.split('consequential')"
      ],
      "execution_count": 56,
      "outputs": [
        {
          "output_type": "execute_result",
          "data": {
            "text/plain": [
              "['c', 'ns', 'q', '', 'nt', '', 'l']"
            ]
          },
          "metadata": {
            "tags": []
          },
          "execution_count": 56
        }
      ]
    },
    {
      "cell_type": "markdown",
      "metadata": {
        "id": "hLbVs30Zup6L"
      },
      "source": [
        "Similarly, you can use a dash to specify a range: for example, ``\"[a-z]\"`` will match any lower-case letter, and ``\"[1-3]\"`` will match any of ``\"1\"``, ``\"2\"``, or ``\"3\"``.\n",
        "For instance, you may need to extract from a document specific numerical codes that consist of a capital letter followed by a digit. You could do this as follows:"
      ]
    },
    {
      "cell_type": "code",
      "metadata": {
        "id": "oRKZO3Izup6L",
        "outputId": "1a410218-c942-408c-d207-a0e317196607",
        "colab": {
          "base_uri": "https://localhost:8080/"
        }
      },
      "source": [
        "regex = re.compile('[A-Z][0-9]')\n",
        "regex.findall('1043879, G2, H6')"
      ],
      "execution_count": 57,
      "outputs": [
        {
          "output_type": "execute_result",
          "data": {
            "text/plain": [
              "['G2', 'H6']"
            ]
          },
          "metadata": {
            "tags": []
          },
          "execution_count": 57
        }
      ]
    },
    {
      "cell_type": "markdown",
      "metadata": {
        "id": "eyBcZFAcup6O"
      },
      "source": [
        "#### Wildcards match repeated characters\n",
        "\n",
        "If you would like to match a string with, say, three alphanumeric characters in a row, it is possible to write, for example, ``\"\\w\\w\\w\"``.\n",
        "Because this is such a common need, there is a specific syntax to match repetitions – curly braces with a number:"
      ]
    },
    {
      "cell_type": "code",
      "metadata": {
        "id": "8ujxO7aAup6O",
        "outputId": "3de4506a-4b4a-4095-f75d-45d80d71331c",
        "colab": {
          "base_uri": "https://localhost:8080/"
        }
      },
      "source": [
        "regex = re.compile(r'\\w{3}')\n",
        "regex.findall('The quick brown fox')"
      ],
      "execution_count": 58,
      "outputs": [
        {
          "output_type": "execute_result",
          "data": {
            "text/plain": [
              "['The', 'qui', 'bro', 'fox']"
            ]
          },
          "metadata": {
            "tags": []
          },
          "execution_count": 58
        }
      ]
    },
    {
      "cell_type": "markdown",
      "metadata": {
        "id": "rxIteF38up6Q"
      },
      "source": [
        "There are also markers available to match any number of repetitions – for example, the ``\"+\"`` character will match *one or more* repetitions of what precedes it:"
      ]
    },
    {
      "cell_type": "code",
      "metadata": {
        "id": "AyPaDrphup6Q",
        "outputId": "41fb2764-c3e4-4805-ca99-14266d4cb61d",
        "colab": {
          "base_uri": "https://localhost:8080/"
        }
      },
      "source": [
        "regex = re.compile(r'\\w+')\n",
        "regex.findall('The quick brown fox')"
      ],
      "execution_count": 59,
      "outputs": [
        {
          "output_type": "execute_result",
          "data": {
            "text/plain": [
              "['The', 'quick', 'brown', 'fox']"
            ]
          },
          "metadata": {
            "tags": []
          },
          "execution_count": 59
        }
      ]
    },
    {
      "cell_type": "markdown",
      "metadata": {
        "id": "vGhD7QxFup6V"
      },
      "source": [
        "The following is a table of the repetition markers available for use in regular expressions:\n",
        "\n",
        "| Character | Description | Example |\n",
        "|-----------|-------------|---------|\n",
        "| ``?`` | Match zero or one repetitions of preceding  | ``\"ab?\"`` matches ``\"a\"`` or ``\"ab\"`` |\n",
        "| ``*`` | Match zero or more repetitions of preceding | ``\"ab*\"`` matches ``\"a\"``, ``\"ab\"``, ``\"abb\"``, ``\"abbb\"``... |\n",
        "| ``+`` | Match one or more repetitions of preceding  | ``\"ab+\"`` matches ``\"ab\"``, ``\"abb\"``, ``\"abbb\"``... but not ``\"a\"`` |\n",
        "| ``{n}`` | Match ``n`` repetitions of preeeding | ``\"ab{2}\"`` matches ``\"abb\"`` |\n",
        "| ``{m,n}`` | Match between ``m`` and ``n`` repetitions of preceding | ``\"ab{2,3}\"`` matches ``\"abb\"`` or ``\"abbb\"`` |"
      ]
    },
    {
      "cell_type": "markdown",
      "metadata": {
        "id": "SEVPRvF6up6V"
      },
      "source": [
        "With these basics in mind, let's return to our email address matcher:"
      ]
    },
    {
      "cell_type": "code",
      "metadata": {
        "id": "LIhD5b2_up6W"
      },
      "source": [
        "email = re.compile(r'\\w+@\\w+\\.[a-z]{3}')"
      ],
      "execution_count": 60,
      "outputs": []
    },
    {
      "cell_type": "markdown",
      "metadata": {
        "id": "Htn2cpObup6X"
      },
      "source": [
        "We can now understand what this means: we want one or more alphanumeric character (``\"\\w+\"``) followed by the *at sign* (``\"@\"``), followed by one or more alphanumeric character (``\"\\w+\"``), followed by a period (``\"\\.\"`` – note the need for a backslash escape), followed by exactly three lower-case letters.\n",
        "\n",
        "If we want to now modify this so that the Obama email address matches, we can do so using the square-bracket notation:"
      ]
    },
    {
      "cell_type": "code",
      "metadata": {
        "id": "LyN1t7vaup6X",
        "outputId": "21709c90-3fb8-4fdd-81b3-dc38f817b325",
        "colab": {
          "base_uri": "https://localhost:8080/"
        }
      },
      "source": [
        "email2 = re.compile(r'[\\w.]+@\\w+\\.[a-z]{3}')\n",
        "email2.findall('barack.obama@whitehouse.gov')"
      ],
      "execution_count": 61,
      "outputs": [
        {
          "output_type": "execute_result",
          "data": {
            "text/plain": [
              "['barack.obama@whitehouse.gov']"
            ]
          },
          "metadata": {
            "tags": []
          },
          "execution_count": 61
        }
      ]
    },
    {
      "cell_type": "markdown",
      "metadata": {
        "id": "Y7ZwNwXeup6a"
      },
      "source": [
        "We have changed ``\"\\w+\"`` to ``\"[\\w.]+\"``, so we will match any alphanumeric character *or* a period.\n",
        "With this more flexible expression, we can match a wider range of email addresses (though still not all – can you identify other shortcomings of this expression?)."
      ]
    },
    {
      "cell_type": "markdown",
      "metadata": {
        "id": "v1ikezvyup6a"
      },
      "source": [
        "#### Parentheses indicate *groups* to extract\n",
        "\n",
        "For compound regular expressions like our email matcher, we often want to extract their components rather than the full match. This can be done using parentheses to *group* the results:"
      ]
    },
    {
      "cell_type": "code",
      "metadata": {
        "id": "n6LIM9R5up6a"
      },
      "source": [
        "email3 = re.compile(r'([\\w.]+)@(\\w+)\\.([a-z]{3})')"
      ],
      "execution_count": 62,
      "outputs": []
    },
    {
      "cell_type": "code",
      "metadata": {
        "id": "gfeccBlFup6c",
        "outputId": "db502d3a-5a55-47e0-bd29-cd046a9d6de5",
        "colab": {
          "base_uri": "https://localhost:8080/"
        }
      },
      "source": [
        "text = \"To email Guido, try guido@python.org or the older address guido@google.com.\"\n",
        "email3.findall(text)"
      ],
      "execution_count": 63,
      "outputs": [
        {
          "output_type": "execute_result",
          "data": {
            "text/plain": [
              "[('guido', 'python', 'org'), ('guido', 'google', 'com')]"
            ]
          },
          "metadata": {
            "tags": []
          },
          "execution_count": 63
        }
      ]
    },
    {
      "cell_type": "markdown",
      "metadata": {
        "id": "z1kGUGL9up6d"
      },
      "source": [
        "As we see, this grouping actually extracts a list of the sub-components of the email address.\n",
        "\n",
        "We can go a bit further and *name* the extracted components using the ``\"(?P<name> )\"`` syntax, in which case the groups can be extracted as a Python dictionary:"
      ]
    },
    {
      "cell_type": "code",
      "metadata": {
        "id": "dkFI-xmcup6e",
        "outputId": "22935df6-8b32-4f7b-ae4e-563a91def295",
        "colab": {
          "base_uri": "https://localhost:8080/"
        }
      },
      "source": [
        "email4 = re.compile(r'(?P<user>[\\w.]+)@(?P<domain>\\w+)\\.(?P<suffix>[a-z]{3})')\n",
        "match = email4.match('guido@python.org')\n",
        "match.groupdict()"
      ],
      "execution_count": 64,
      "outputs": [
        {
          "output_type": "execute_result",
          "data": {
            "text/plain": [
              "{'domain': 'python', 'suffix': 'org', 'user': 'guido'}"
            ]
          },
          "metadata": {
            "tags": []
          },
          "execution_count": 64
        }
      ]
    },
    {
      "cell_type": "markdown",
      "metadata": {
        "id": "Q45zQSfUup6g"
      },
      "source": [
        "Combining these ideas (as well as some of the powerful regexp syntax that we have not covered here) allows you to flexibly and quickly extract information from strings in Python."
      ]
    },
    {
      "cell_type": "markdown",
      "metadata": {
        "id": "JKhe2Almup6g"
      },
      "source": [
        "### Further Resources on Regular Expressions\n",
        "\n",
        "The above discussion is just a quick (and far from complete) treatment of this large topic.\n",
        "If you'd like to learn more, I recommend the following resources:\n",
        "\n",
        "- [Python's ``re`` package Documentation](https://docs.python.org/3/library/re.html): I find that I promptly forget how to use regular expressions just about every time I use them. Now that I have the basics down, I have found this page to be an incredibly valuable resource to recall what each specific character or sequence means within a regular expression.\n",
        "- [Python's official regular expression HOWTO](https://docs.python.org/3/howto/regex.html): a more narrative approach to regular expressions in Python.\n",
        "- [Mastering Regular Expressions (OReilly, 2006)](http://shop.oreilly.com/product/9780596528126.do) is a 500+ page book on the subject. If you want a really complete treatment of this topic, this is the resource for you.\n",
        "\n",
        "For some examples of string manipulation and regular expressions in action at a larger scale, see [Pandas: Labeled Column-oriented Data](15-Preview-of-Data-Science-Tools.ipynb#Pandas:-Labeled-Column-oriented-Data), where we look at applying these sorts of expressions across *tables* of string data within the Pandas package."
      ]
    },
    {
      "cell_type": "markdown",
      "metadata": {
        "id": "XOw77FBvup6g"
      },
      "source": [
        "<!--NAVIGATION-->\n",
        "< [Modules and Packages](13-Modules-and-Packages.ipynb) | [Contents](Index.ipynb) | [A Preview of Data Science Tools](15-Preview-of-Data-Science-Tools.ipynb) >"
      ]
    }
  ]
}
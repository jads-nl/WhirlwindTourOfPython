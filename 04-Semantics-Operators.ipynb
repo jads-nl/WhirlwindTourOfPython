{
  "nbformat": 4,
  "nbformat_minor": 0,
  "metadata": {
    "anaconda-cloud": {},
    "kernelspec": {
      "display_name": "Python 3",
      "language": "python",
      "name": "python3"
    },
    "language_info": {
      "codemirror_mode": {
        "name": "ipython",
        "version": 3
      },
      "file_extension": ".py",
      "mimetype": "text/x-python",
      "name": "python",
      "nbconvert_exporter": "python",
      "pygments_lexer": "ipython3",
      "version": "3.5.1"
    },
    "colab": {
      "name": "04-Semantics-Operators.ipynb",
      "provenance": [],
      "include_colab_link": true
    }
  },
  "cells": [
    {
      "cell_type": "markdown",
      "metadata": {
        "id": "view-in-github",
        "colab_type": "text"
      },
      "source": [
        "<a href=\"https://colab.research.google.com/github/jads-nl/WhirlwindTourOfPython/blob/master/04-Semantics-Operators.ipynb\" target=\"_parent\"><img src=\"https://colab.research.google.com/assets/colab-badge.svg\" alt=\"Open In Colab\"/></a>"
      ]
    },
    {
      "cell_type": "markdown",
      "metadata": {
        "id": "MEhjPnbqsTKS"
      },
      "source": [
        "<!--BOOK_INFORMATION-->\n",
        "<img align=\"left\" style=\"padding-right:10px;\" src=\"https://github.com/jads-nl/WhirlwindTourOfPython/blob/master/fig/cover-small.jpg?raw=1\">\n",
        "*This notebook contains an excerpt from the [Whirlwind Tour of Python](http://www.oreilly.com/programming/free/a-whirlwind-tour-of-python.csp) by Jake VanderPlas; the content is available [on GitHub](https://github.com/jakevdp/WhirlwindTourOfPython).*\n",
        "\n",
        "*The text and code are released under the [CC0](https://github.com/jakevdp/WhirlwindTourOfPython/blob/master/LICENSE) license; see also the companion project, the [Python Data Science Handbook](https://github.com/jakevdp/PythonDataScienceHandbook).*\n"
      ]
    },
    {
      "cell_type": "markdown",
      "metadata": {
        "id": "0Sdx_bgwsTKa"
      },
      "source": [
        "<!--NAVIGATION-->\n",
        "< [Basic Python Semantics: Variables and Objects](03-Semantics-Variables.ipynb) | [Contents](Index.ipynb) | [Built-In Types: Simple Values](05-Built-in-Scalar-Types.ipynb) >"
      ]
    },
    {
      "cell_type": "markdown",
      "metadata": {
        "id": "Vkk7gruRsTKe"
      },
      "source": [
        "# Basic Python Semantics: Operators"
      ]
    },
    {
      "cell_type": "markdown",
      "metadata": {
        "id": "wtoPZo1osTKl"
      },
      "source": [
        "In the previous section, we began to look at the semantics of Python variables and objects; here we'll dig into the semantics of the various *operators* included in the language.\n",
        "By the end of this section, you'll have the basic tools to begin comparing and operating on data in Python."
      ]
    },
    {
      "cell_type": "markdown",
      "metadata": {
        "id": "tg_0BB6IsTKo"
      },
      "source": [
        "## Arithmetic Operations\n",
        "Python implements seven basic binary arithmetic operators, two of which can double as unary operators.\n",
        "They are summarized in the following table:\n",
        "\n",
        "| Operator     | Name           | Description                                            |\n",
        "|--------------|----------------|--------------------------------------------------------|\n",
        "| ``a + b``    | Addition       | Sum of ``a`` and ``b``                                 |\n",
        "| ``a - b``    | Subtraction    | Difference of ``a`` and ``b``                          |\n",
        "| ``a * b``    | Multiplication | Product of ``a`` and ``b``                             |\n",
        "| ``a / b``    | True division  | Quotient of ``a`` and ``b``                            |\n",
        "| ``a // b``   | Floor division | Quotient of ``a`` and ``b``, removing fractional parts |\n",
        "| ``a % b``    | Modulus        | Integer remainder after division of ``a`` by ``b``     |\n",
        "| ``a ** b``   | Exponentiation | ``a`` raised to the power of ``b``                     |\n",
        "| ``-a``       | Negation       | The negative of ``a``                                  |\n",
        "| ``+a``       | Unary plus     | ``a`` unchanged (rarely used)                          |\n",
        "\n",
        "These operators can be used and combined in intuitive ways, using standard parentheses to group operations.\n",
        "For example:"
      ]
    },
    {
      "cell_type": "code",
      "metadata": {
        "id": "OhnGR8wUsTKq",
        "outputId": "39f22973-8008-4361-a852-3a4fc433f74b",
        "colab": {
          "base_uri": "https://localhost:8080/"
        }
      },
      "source": [
        "# addition, subtraction, multiplication\n",
        "(4 + 8) * (6.5 - 3)"
      ],
      "execution_count": 26,
      "outputs": [
        {
          "output_type": "execute_result",
          "data": {
            "text/plain": [
              "42.0"
            ]
          },
          "metadata": {
            "tags": []
          },
          "execution_count": 26
        }
      ]
    },
    {
      "cell_type": "markdown",
      "metadata": {
        "id": "XcfMC0bgsTK4"
      },
      "source": [
        "Floor division is true division with fractional parts truncated:"
      ]
    },
    {
      "cell_type": "code",
      "metadata": {
        "id": "LUTISRDisTK6",
        "outputId": "41e77829-921c-461b-f697-0573cfea8fed",
        "colab": {
          "base_uri": "https://localhost:8080/"
        }
      },
      "source": [
        "# True division\n",
        "print(11 / 2)"
      ],
      "execution_count": 27,
      "outputs": [
        {
          "output_type": "stream",
          "text": [
            "5.5\n"
          ],
          "name": "stdout"
        }
      ]
    },
    {
      "cell_type": "code",
      "metadata": {
        "id": "OYrazLZBsTLD",
        "outputId": "886e5d65-7bf8-41f6-f2e5-37ec50bc8122",
        "colab": {
          "base_uri": "https://localhost:8080/"
        }
      },
      "source": [
        "# Floor division\n",
        "print(11 // 2)"
      ],
      "execution_count": 28,
      "outputs": [
        {
          "output_type": "stream",
          "text": [
            "5\n"
          ],
          "name": "stdout"
        }
      ]
    },
    {
      "cell_type": "markdown",
      "metadata": {
        "id": "kgu4GdOksTLK"
      },
      "source": [
        "The floor division operator was added in Python 3; you should be aware if working in Python 2 that the standard division operator (``/``) acts like floor division for integers and like true division for floating-point numbers.\n",
        "\n",
        "Finally, I'll mention an eighth arithmetic operator that was added in Python 3.5: the ``a @ b`` operator, which is meant to indicate the *matrix product* of ``a`` and ``b``, for use in various linear algebra packages."
      ]
    },
    {
      "cell_type": "markdown",
      "metadata": {
        "id": "V31tT21ysTLM"
      },
      "source": [
        "## Bitwise Operations\n",
        "In addition to the standard numerical operations, Python includes operators to perform bitwise logical operations on integers.\n",
        "These are much less commonly used than the standard arithmetic operations, but it's useful to know that they exist.\n",
        "The six bitwise operators are summarized in the following table:\n",
        "\n",
        "| Operator     | Name            | Description                                 |\n",
        "|--------------|-----------------|---------------------------------------------|\n",
        "| ``a & b``    | Bitwise AND     | Bits defined in both ``a`` and ``b``        |\n",
        "| <code>a &#124; b</code>| Bitwise OR      | Bits defined in ``a`` or ``b`` or both      |\n",
        "| ``a ^ b``    | Bitwise XOR     | Bits defined in ``a`` or ``b`` but not both |\n",
        "| ``a << b``   | Bit shift left  | Shift bits of ``a`` left by ``b`` units     |\n",
        "| ``a >> b``   | Bit shift right | Shift bits of ``a`` right by ``b`` units    |\n",
        "| ``~a``       | Bitwise NOT     | Bitwise negation of ``a``                          |\n",
        "\n",
        "These bitwise operators only make sense in terms of the binary representation of numbers, which you can see using the built-in ``bin`` function:"
      ]
    },
    {
      "cell_type": "code",
      "metadata": {
        "id": "hdqc36HAsTLN",
        "outputId": "648cb638-2ab2-4ae5-af98-e9c4de08e2ba",
        "colab": {
          "base_uri": "https://localhost:8080/",
          "height": 36
        }
      },
      "source": [
        "bin(10)"
      ],
      "execution_count": 29,
      "outputs": [
        {
          "output_type": "execute_result",
          "data": {
            "application/vnd.google.colaboratory.intrinsic+json": {
              "type": "string"
            },
            "text/plain": [
              "'0b1010'"
            ]
          },
          "metadata": {
            "tags": []
          },
          "execution_count": 29
        }
      ]
    },
    {
      "cell_type": "markdown",
      "metadata": {
        "id": "LyGrrO8NsTLU"
      },
      "source": [
        "The result is prefixed with ``'0b'``, which indicates a binary representation.\n",
        "The rest of the digits indicate that the number 10 is expressed as the sum $1 \\cdot 2^3 + 0 \\cdot 2^2 + 1 \\cdot 2^1 + 0 \\cdot 2^0$.\n",
        "Similarly, we can write:"
      ]
    },
    {
      "cell_type": "code",
      "metadata": {
        "id": "n4TYx-GzsTLU",
        "outputId": "a9f65838-f73c-442b-a913-fbfeea7be132",
        "colab": {
          "base_uri": "https://localhost:8080/",
          "height": 36
        }
      },
      "source": [
        "bin(4)"
      ],
      "execution_count": 30,
      "outputs": [
        {
          "output_type": "execute_result",
          "data": {
            "application/vnd.google.colaboratory.intrinsic+json": {
              "type": "string"
            },
            "text/plain": [
              "'0b100'"
            ]
          },
          "metadata": {
            "tags": []
          },
          "execution_count": 30
        }
      ]
    },
    {
      "cell_type": "markdown",
      "metadata": {
        "id": "Ki3XnvHDsTLa"
      },
      "source": [
        "Now, using bitwise OR, we can find the number which combines the bits of 4 and 10:"
      ]
    },
    {
      "cell_type": "code",
      "metadata": {
        "id": "f1qL__3SsTLc",
        "outputId": "932c3b2a-3aad-4bd9-93df-5deb4e3767d2",
        "colab": {
          "base_uri": "https://localhost:8080/"
        }
      },
      "source": [
        "4 | 10"
      ],
      "execution_count": 31,
      "outputs": [
        {
          "output_type": "execute_result",
          "data": {
            "text/plain": [
              "14"
            ]
          },
          "metadata": {
            "tags": []
          },
          "execution_count": 31
        }
      ]
    },
    {
      "cell_type": "code",
      "metadata": {
        "id": "MzMh4_lysTLh",
        "outputId": "aa0f21db-b19a-45cb-f8c8-1a5b0458fbb3",
        "colab": {
          "base_uri": "https://localhost:8080/",
          "height": 36
        }
      },
      "source": [
        "bin(4 | 10)"
      ],
      "execution_count": 32,
      "outputs": [
        {
          "output_type": "execute_result",
          "data": {
            "application/vnd.google.colaboratory.intrinsic+json": {
              "type": "string"
            },
            "text/plain": [
              "'0b1110'"
            ]
          },
          "metadata": {
            "tags": []
          },
          "execution_count": 32
        }
      ]
    },
    {
      "cell_type": "markdown",
      "metadata": {
        "id": "Avs5cgucsTLm"
      },
      "source": [
        "These bitwise operators are not as immediately useful as the standard arithmetic operators, but it's helpful to see them at least once to understand what class of operation they perform.\n",
        "In particular, users from other languages are sometimes tempted to use XOR (i.e., ``a ^ b``) when they really mean exponentiation (i.e., ``a ** b``)."
      ]
    },
    {
      "cell_type": "markdown",
      "metadata": {
        "id": "gwGjWNtbsTLn"
      },
      "source": [
        "## Assignment Operations\n",
        "We've seen that variables can be assigned with the \"``=``\" operator, and the values stored for later use. For example:"
      ]
    },
    {
      "cell_type": "code",
      "metadata": {
        "id": "HQjR-JlasTLo",
        "outputId": "715f3bb3-1cea-4542-f57d-535957ad9e16",
        "colab": {
          "base_uri": "https://localhost:8080/"
        }
      },
      "source": [
        "a = 24\n",
        "print(a)"
      ],
      "execution_count": 33,
      "outputs": [
        {
          "output_type": "stream",
          "text": [
            "24\n"
          ],
          "name": "stdout"
        }
      ]
    },
    {
      "cell_type": "markdown",
      "metadata": {
        "id": "bIN8tbOOsTLu"
      },
      "source": [
        "We can use these variables in expressions with any of the operators mentioned earlier.\n",
        "For example, to add 2 to ``a`` we write:"
      ]
    },
    {
      "cell_type": "code",
      "metadata": {
        "id": "11R8BjX3sTLv",
        "outputId": "c7d08924-16ef-4b77-fd20-3f7962353ae6",
        "colab": {
          "base_uri": "https://localhost:8080/"
        }
      },
      "source": [
        "a + 2"
      ],
      "execution_count": 34,
      "outputs": [
        {
          "output_type": "execute_result",
          "data": {
            "text/plain": [
              "26"
            ]
          },
          "metadata": {
            "tags": []
          },
          "execution_count": 34
        }
      ]
    },
    {
      "cell_type": "markdown",
      "metadata": {
        "id": "ygtmV5qgsTL1"
      },
      "source": [
        "We might want to update the variable ``a`` with this new value; in this case, we could combine the addition and the assignment and write ``a = a + 2``.\n",
        "Because this type of combined operation and assignment is so common, Python includes built-in update operators for all of the arithmetic operations:"
      ]
    },
    {
      "cell_type": "code",
      "metadata": {
        "id": "6QLZqIujsTL2",
        "outputId": "4685eb5d-919c-4c02-f1a1-d0ba5185182a",
        "colab": {
          "base_uri": "https://localhost:8080/"
        }
      },
      "source": [
        "a += 2  # equivalent to a = a + 2\n",
        "print(a)"
      ],
      "execution_count": 35,
      "outputs": [
        {
          "output_type": "stream",
          "text": [
            "26\n"
          ],
          "name": "stdout"
        }
      ]
    },
    {
      "cell_type": "markdown",
      "metadata": {
        "id": "hEvVmBPtsTL8"
      },
      "source": [
        "There is an augmented assignment operator corresponding to each of the binary operators listed earlier; in brief, they are:\n",
        "\n",
        "|||||\n",
        "|-|-|\n",
        "|``a += b``| ``a -= b``|``a *= b``| ``a /= b``|\n",
        "|``a //= b``| ``a %= b``|``a **= b``|``a &= b``|\n",
        "|<code>a &#124;= b</code>| ``a ^= b``|``a <<= b``| ``a >>= b``|\n",
        "\n",
        "Each one is equivalent to the corresponding operation followed by assignment: that is, for any operator \"``■``\", the expression ``a ■= b`` is equivalent to ``a = a ■ b``, with a slight catch.\n",
        "For mutable objects like lists, arrays, or DataFrames, these augmented assignment operations are actually subtly different than their more verbose counterparts: they modify the contents of the original object rather than creating a new object to store the result."
      ]
    },
    {
      "cell_type": "markdown",
      "metadata": {
        "id": "FZztOE7psTL9"
      },
      "source": [
        "## Comparison Operations\n",
        "\n",
        "Another type of operation which can be very useful is comparison of different values.\n",
        "For this, Python implements standard comparison operators, which return Boolean values ``True`` and ``False``.\n",
        "The comparison operations are listed in the following table:\n",
        "\n",
        "| Operation     | Description                       || Operation     | Description                          |\n",
        "|---------------|-----------------------------------||---------------|--------------------------------------|\n",
        "| ``a == b``    | ``a`` equal to ``b``              || ``a != b``    | ``a`` not equal to ``b``             |\n",
        "| ``a < b``     | ``a`` less than ``b``             || ``a > b``     | ``a`` greater than ``b``             |\n",
        "| ``a <= b``    | ``a`` less than or equal to ``b`` || ``a >= b``    | ``a`` greater than or equal to ``b`` |\n",
        "\n",
        "These comparison operators can be combined with the arithmetic and bitwise operators to express a virtually limitless range of tests for the numbers.\n",
        "For example, we can check if a number is odd by checking that the modulus with 2 returns 1:"
      ]
    },
    {
      "cell_type": "code",
      "metadata": {
        "id": "91QZ0ebQsTL-",
        "outputId": "3a05dbb1-5b28-413f-9d0d-5d5a5c10707e",
        "colab": {
          "base_uri": "https://localhost:8080/"
        }
      },
      "source": [
        "# 25 is odd\n",
        "25 % 2 == 1"
      ],
      "execution_count": 36,
      "outputs": [
        {
          "output_type": "execute_result",
          "data": {
            "text/plain": [
              "True"
            ]
          },
          "metadata": {
            "tags": []
          },
          "execution_count": 36
        }
      ]
    },
    {
      "cell_type": "code",
      "metadata": {
        "id": "H79GTMm6sTMD",
        "outputId": "a0a1e0d4-dbf6-4045-c2c2-467103ba2a52",
        "colab": {
          "base_uri": "https://localhost:8080/"
        }
      },
      "source": [
        "# 66 is odd\n",
        "66 % 2 == 1"
      ],
      "execution_count": 37,
      "outputs": [
        {
          "output_type": "execute_result",
          "data": {
            "text/plain": [
              "False"
            ]
          },
          "metadata": {
            "tags": []
          },
          "execution_count": 37
        }
      ]
    },
    {
      "cell_type": "markdown",
      "metadata": {
        "id": "op8WZsSVsTMR"
      },
      "source": [
        "We can string-together multiple comparisons to check more complicated relationships:"
      ]
    },
    {
      "cell_type": "code",
      "metadata": {
        "id": "RbhMe7cusTMT",
        "outputId": "a9e95883-1dbb-4a76-bc8f-9cb4fa555426",
        "colab": {
          "base_uri": "https://localhost:8080/"
        }
      },
      "source": [
        "# check if a is between 15 and 30\n",
        "a = 25\n",
        "15 < a < 30"
      ],
      "execution_count": 38,
      "outputs": [
        {
          "output_type": "execute_result",
          "data": {
            "text/plain": [
              "True"
            ]
          },
          "metadata": {
            "tags": []
          },
          "execution_count": 38
        }
      ]
    },
    {
      "cell_type": "markdown",
      "metadata": {
        "id": "KwhDle8LsTMY"
      },
      "source": [
        "And, just to make your head hurt a bit, take a look at this comparison:"
      ]
    },
    {
      "cell_type": "code",
      "metadata": {
        "id": "wqrfa3I_sTMZ",
        "outputId": "d83ed9ac-c6fd-44a1-997d-15e319ed7614",
        "colab": {
          "base_uri": "https://localhost:8080/"
        }
      },
      "source": [
        "-1 == ~0"
      ],
      "execution_count": 39,
      "outputs": [
        {
          "output_type": "execute_result",
          "data": {
            "text/plain": [
              "True"
            ]
          },
          "metadata": {
            "tags": []
          },
          "execution_count": 39
        }
      ]
    },
    {
      "cell_type": "markdown",
      "metadata": {
        "id": "GGIoTGb9sTMe"
      },
      "source": [
        "Recall that ``~`` is the bit-flip operator, and evidently when you flip all the bits of zero you end up with -1.\n",
        "If you're curious as to why this is, look up the *two's complement* integer encoding scheme, which is what Python uses to encode signed integers, and think about what happens when you start flipping all the bits of integers encoded this way."
      ]
    },
    {
      "cell_type": "markdown",
      "metadata": {
        "id": "_KwQfwjEsTMg"
      },
      "source": [
        "## Boolean Operations\n",
        "When working with Boolean values, Python provides operators to combine the values using the standard concepts of \"and\", \"or\", and \"not\".\n",
        "Predictably, these operators are expressed using the words ``and``, ``or``, and ``not``:"
      ]
    },
    {
      "cell_type": "code",
      "metadata": {
        "id": "S04ugvRGsTMi",
        "outputId": "3fe0b21b-8e5a-4de6-b8cd-bbe666541a95",
        "colab": {
          "base_uri": "https://localhost:8080/"
        }
      },
      "source": [
        "x = 4\n",
        "(x < 6) and (x > 2)"
      ],
      "execution_count": 40,
      "outputs": [
        {
          "output_type": "execute_result",
          "data": {
            "text/plain": [
              "True"
            ]
          },
          "metadata": {
            "tags": []
          },
          "execution_count": 40
        }
      ]
    },
    {
      "cell_type": "code",
      "metadata": {
        "id": "1cHHtfU4sTMr",
        "outputId": "ea5392bd-80ae-4747-c601-c5d749de9eea",
        "colab": {
          "base_uri": "https://localhost:8080/"
        }
      },
      "source": [
        "(x > 10) or (x % 2 == 0)"
      ],
      "execution_count": 41,
      "outputs": [
        {
          "output_type": "execute_result",
          "data": {
            "text/plain": [
              "True"
            ]
          },
          "metadata": {
            "tags": []
          },
          "execution_count": 41
        }
      ]
    },
    {
      "cell_type": "code",
      "metadata": {
        "id": "iWdLE9gDsTMx",
        "outputId": "5dbcb08f-c981-4f28-a82a-a85617c98ea8",
        "colab": {
          "base_uri": "https://localhost:8080/"
        }
      },
      "source": [
        "not (x < 6)"
      ],
      "execution_count": 42,
      "outputs": [
        {
          "output_type": "execute_result",
          "data": {
            "text/plain": [
              "False"
            ]
          },
          "metadata": {
            "tags": []
          },
          "execution_count": 42
        }
      ]
    },
    {
      "cell_type": "markdown",
      "metadata": {
        "id": "0hka4Pg_sTM0"
      },
      "source": [
        "Boolean algebra aficionados might notice that the XOR operator is not included; this can of course be constructed in several ways from a compound statement of the other operators.\n",
        "Otherwise, a clever trick you can use for XOR of Boolean values is the following:"
      ]
    },
    {
      "cell_type": "code",
      "metadata": {
        "id": "cQS4vRuRsTM2",
        "outputId": "1bfbe27d-b17e-4f84-f051-c933251f428f",
        "colab": {
          "base_uri": "https://localhost:8080/"
        }
      },
      "source": [
        "# (x > 1) xor (x < 10)\n",
        "(x > 1) != (x < 10)"
      ],
      "execution_count": 43,
      "outputs": [
        {
          "output_type": "execute_result",
          "data": {
            "text/plain": [
              "False"
            ]
          },
          "metadata": {
            "tags": []
          },
          "execution_count": 43
        }
      ]
    },
    {
      "cell_type": "markdown",
      "metadata": {
        "id": "Dz2-J1CPsTM8"
      },
      "source": [
        "These sorts of Boolean operations will become extremely useful when we begin discussing *control flow statements* such as conditionals and loops.\n",
        "\n",
        "One sometimes confusing thing about the language is when to use Boolean operators (``and``, ``or``, ``not``), and when to use bitwise operations (``&``, ``|``, ``~``).\n",
        "The answer lies in their names: Boolean operators should be used when you want to compute *Boolean values (i.e., truth or falsehood) of entire statements*.\n",
        "Bitwise operations should be used when you want to *operate on individual bits or components of the objects in question*."
      ]
    },
    {
      "cell_type": "markdown",
      "metadata": {
        "id": "Yq02FVxKsTM9"
      },
      "source": [
        "## Identity and Membership Operators\n",
        "\n",
        "Like ``and``, ``or``, and ``not``, Python also contains prose-like operators  to check for identity and membership.\n",
        "They are the following:\n",
        "\n",
        "| Operator      | Description                                       |\n",
        "|---------------|---------------------------------------------------|\n",
        "| ``a is b``    | True if ``a`` and ``b`` are identical objects     |\n",
        "| ``a is not b``| True if ``a`` and ``b`` are not identical objects |\n",
        "| ``a in b``    | True if ``a`` is a member of ``b``                |\n",
        "| ``a not in b``| True if ``a`` is not a member of ``b``            |"
      ]
    },
    {
      "cell_type": "markdown",
      "metadata": {
        "id": "cWjkwNzpsTM-"
      },
      "source": [
        "### Identity Operators: \"``is``\" and \"``is not``\"\n",
        "\n",
        "The identity operators, \"``is``\" and \"``is not``\" check for *object identity*.\n",
        "Object identity is different than equality, as we can see here:"
      ]
    },
    {
      "cell_type": "code",
      "metadata": {
        "id": "3bEQaodasTM_"
      },
      "source": [
        "a = [1, 2, 3]\n",
        "b = [1, 2, 3]"
      ],
      "execution_count": 44,
      "outputs": []
    },
    {
      "cell_type": "code",
      "metadata": {
        "id": "VMsqhEYcsTND",
        "outputId": "28a6b4c3-bc19-4d3e-fcd1-3705c68558b1",
        "colab": {
          "base_uri": "https://localhost:8080/"
        }
      },
      "source": [
        "a == b"
      ],
      "execution_count": 45,
      "outputs": [
        {
          "output_type": "execute_result",
          "data": {
            "text/plain": [
              "True"
            ]
          },
          "metadata": {
            "tags": []
          },
          "execution_count": 45
        }
      ]
    },
    {
      "cell_type": "code",
      "metadata": {
        "id": "5JIcgq3DsTNI",
        "outputId": "2ee85efb-bf47-43f0-e1f3-4bb21d0e7464",
        "colab": {
          "base_uri": "https://localhost:8080/"
        }
      },
      "source": [
        "a is b"
      ],
      "execution_count": 46,
      "outputs": [
        {
          "output_type": "execute_result",
          "data": {
            "text/plain": [
              "False"
            ]
          },
          "metadata": {
            "tags": []
          },
          "execution_count": 46
        }
      ]
    },
    {
      "cell_type": "code",
      "metadata": {
        "id": "zjUlcQGqsTNM",
        "outputId": "70805fd1-8199-4f81-a46b-53ee0f268b91",
        "colab": {
          "base_uri": "https://localhost:8080/"
        }
      },
      "source": [
        "a is not b"
      ],
      "execution_count": 47,
      "outputs": [
        {
          "output_type": "execute_result",
          "data": {
            "text/plain": [
              "True"
            ]
          },
          "metadata": {
            "tags": []
          },
          "execution_count": 47
        }
      ]
    },
    {
      "cell_type": "markdown",
      "metadata": {
        "id": "v401H8ZysTNQ"
      },
      "source": [
        "What do identical objects look like? Here is an example:"
      ]
    },
    {
      "cell_type": "code",
      "metadata": {
        "id": "yJqx76ztsTNR",
        "outputId": "ca6e2ef7-e19c-437d-d852-bf0bcf42716c",
        "colab": {
          "base_uri": "https://localhost:8080/"
        }
      },
      "source": [
        "a = [1, 2, 3]\n",
        "b = a\n",
        "a is b"
      ],
      "execution_count": 48,
      "outputs": [
        {
          "output_type": "execute_result",
          "data": {
            "text/plain": [
              "True"
            ]
          },
          "metadata": {
            "tags": []
          },
          "execution_count": 48
        }
      ]
    },
    {
      "cell_type": "markdown",
      "metadata": {
        "id": "RnPT-K_hsTNU"
      },
      "source": [
        "The difference between the two cases here is that in the first, ``a`` and ``b`` point to *different objects*, while in the second they point to the *same object*.\n",
        "As we saw in the previous section, Python variables are pointers. The \"``is``\" operator checks whether the two variables are pointing to the same container (object), rather than referring to what the container contains.\n",
        "With this in mind, in most cases that a beginner is tempted to use \"``is``\" what they really mean is ``==``."
      ]
    },
    {
      "cell_type": "markdown",
      "metadata": {
        "id": "PwIr-9EOsTNU"
      },
      "source": [
        "### Membership operators\n",
        "Membership operators check for membership within compound objects.\n",
        "So, for example, we can write:"
      ]
    },
    {
      "cell_type": "code",
      "metadata": {
        "id": "XAohQNaKsTNV",
        "outputId": "0ee97ab8-08f0-4330-a704-eb203ca45489",
        "colab": {
          "base_uri": "https://localhost:8080/"
        }
      },
      "source": [
        "1 in [1, 2, 3]"
      ],
      "execution_count": 49,
      "outputs": [
        {
          "output_type": "execute_result",
          "data": {
            "text/plain": [
              "True"
            ]
          },
          "metadata": {
            "tags": []
          },
          "execution_count": 49
        }
      ]
    },
    {
      "cell_type": "code",
      "metadata": {
        "id": "ffI-ynaXsTNY",
        "outputId": "01f729dd-84e1-4327-beee-99ca5f70c17c",
        "colab": {
          "base_uri": "https://localhost:8080/"
        }
      },
      "source": [
        "2 not in [1, 2, 3]"
      ],
      "execution_count": 50,
      "outputs": [
        {
          "output_type": "execute_result",
          "data": {
            "text/plain": [
              "False"
            ]
          },
          "metadata": {
            "tags": []
          },
          "execution_count": 50
        }
      ]
    },
    {
      "cell_type": "markdown",
      "metadata": {
        "id": "OF1pPmfGsTNc"
      },
      "source": [
        "These membership operations are an example of what makes Python so easy to use compared to lower-level languages such as C.\n",
        "In C, membership would generally be determined by manually constructing a loop over the list and checking for equality of each value.\n",
        "In Python, you just type what you want to know, in a manner reminiscent of straightforward English prose."
      ]
    },
    {
      "cell_type": "markdown",
      "metadata": {
        "id": "QmRqF2LksTNc"
      },
      "source": [
        "<!--NAVIGATION-->\n",
        "< [Basic Python Semantics: Variables and Objects](03-Semantics-Variables.ipynb) | [Contents](Index.ipynb) | [Built-In Types: Simple Values](05-Built-in-Scalar-Types.ipynb) >"
      ]
    }
  ]
}
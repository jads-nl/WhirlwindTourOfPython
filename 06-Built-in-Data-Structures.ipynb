{
  "nbformat": 4,
  "nbformat_minor": 0,
  "metadata": {
    "anaconda-cloud": {},
    "kernelspec": {
      "display_name": "Python 3",
      "language": "python",
      "name": "python3"
    },
    "language_info": {
      "codemirror_mode": {
        "name": "ipython",
        "version": 3
      },
      "file_extension": ".py",
      "mimetype": "text/x-python",
      "name": "python",
      "nbconvert_exporter": "python",
      "pygments_lexer": "ipython3",
      "version": "3.5.1"
    },
    "colab": {
      "name": "06-Built-in-Data-Structures.ipynb",
      "provenance": [],
      "include_colab_link": true
    }
  },
  "cells": [
    {
      "cell_type": "markdown",
      "metadata": {
        "id": "view-in-github",
        "colab_type": "text"
      },
      "source": [
        "<a href=\"https://colab.research.google.com/github/jads-nl/WhirlwindTourOfPython/blob/master/06-Built-in-Data-Structures.ipynb\" target=\"_parent\"><img src=\"https://colab.research.google.com/assets/colab-badge.svg\" alt=\"Open In Colab\"/></a>"
      ]
    },
    {
      "cell_type": "markdown",
      "metadata": {
        "id": "YkWxizImsu_t"
      },
      "source": [
        "<!--BOOK_INFORMATION-->\n",
        "<img align=\"left\" style=\"padding-right:10px;\" src=\"https://github.com/jads-nl/WhirlwindTourOfPython/blob/master/fig/cover-small.jpg?raw=1\">\n",
        "*This notebook contains an excerpt from the [Whirlwind Tour of Python](http://www.oreilly.com/programming/free/a-whirlwind-tour-of-python.csp) by Jake VanderPlas; the content is available [on GitHub](https://github.com/jakevdp/WhirlwindTourOfPython).*\n",
        "\n",
        "*The text and code are released under the [CC0](https://github.com/jakevdp/WhirlwindTourOfPython/blob/master/LICENSE) license; see also the companion project, the [Python Data Science Handbook](https://github.com/jakevdp/PythonDataScienceHandbook).*\n"
      ]
    },
    {
      "cell_type": "markdown",
      "metadata": {
        "id": "McpQNgcZsu_z"
      },
      "source": [
        "<!--NAVIGATION-->\n",
        "< [Built-In Types: Simple Values](05-Built-in-Scalar-Types.ipynb) | [Contents](Index.ipynb) | [Control Flow](07-Control-Flow-Statements.ipynb) >"
      ]
    },
    {
      "cell_type": "markdown",
      "metadata": {
        "id": "Dz5HKQ5Rsu_1"
      },
      "source": [
        "# Built-In Data Structures"
      ]
    },
    {
      "cell_type": "markdown",
      "metadata": {
        "id": "WslBeezmsu_6"
      },
      "source": [
        "We have seen Python's simple types: ``int``, ``float``, ``complex``, ``bool``, ``str``, and so on.\n",
        "Python also has several built-in compound types, which act as containers for other types.\n",
        "These compound types are:\n",
        "\n",
        "| Type Name | Example                   |Description                            |\n",
        "|-----------|---------------------------|---------------------------------------|\n",
        "| ``list``  | ``[1, 2, 3]``             | Ordered collection                    |\n",
        "| ``tuple`` | ``(1, 2, 3)``             | Immutable ordered collection          |\n",
        "| ``dict``  | ``{'a':1, 'b':2, 'c':3}`` | Unordered (key,value) mapping         |\n",
        "| ``set``   | ``{1, 2, 3}``             | Unordered collection of unique values |\n",
        "\n",
        "As you can see, round, square, and curly brackets have distinct meanings when it comes to the type of collection produced.\n",
        "We'll take a quick tour of these data structures here."
      ]
    },
    {
      "cell_type": "markdown",
      "metadata": {
        "id": "ZcpQ2X6Psu_8"
      },
      "source": [
        "## Lists\n",
        "Lists are the basic *ordered* and *mutable* data collection type in Python.\n",
        "They can be defined with comma-separated values between square brackets; for example, here is a list of the first several prime numbers:"
      ]
    },
    {
      "cell_type": "code",
      "metadata": {
        "id": "YEGDUjRGsu_-"
      },
      "source": [
        "L = [2, 3, 5, 7]"
      ],
      "execution_count": 1,
      "outputs": []
    },
    {
      "cell_type": "markdown",
      "metadata": {
        "id": "-mlGSsnNsvAJ"
      },
      "source": [
        "Lists have a number of useful properties and methods available to them.\n",
        "Here we'll take a quick look at some of the more common and useful ones:"
      ]
    },
    {
      "cell_type": "code",
      "metadata": {
        "id": "_xFRKRTasvAL",
        "outputId": "c02b2754-97cf-44df-b38f-3bdceecf967e",
        "colab": {
          "base_uri": "https://localhost:8080/"
        }
      },
      "source": [
        "# Length of a list\n",
        "len(L)"
      ],
      "execution_count": 2,
      "outputs": [
        {
          "output_type": "execute_result",
          "data": {
            "text/plain": [
              "4"
            ]
          },
          "metadata": {
            "tags": []
          },
          "execution_count": 2
        }
      ]
    },
    {
      "cell_type": "code",
      "metadata": {
        "id": "IrNzAep4svAT",
        "outputId": "eddfc889-5ae6-439b-c7b9-75191850b845",
        "colab": {
          "base_uri": "https://localhost:8080/"
        }
      },
      "source": [
        "# Append a value to the end\n",
        "L.append(11)\n",
        "L"
      ],
      "execution_count": 3,
      "outputs": [
        {
          "output_type": "execute_result",
          "data": {
            "text/plain": [
              "[2, 3, 5, 7, 11]"
            ]
          },
          "metadata": {
            "tags": []
          },
          "execution_count": 3
        }
      ]
    },
    {
      "cell_type": "code",
      "metadata": {
        "id": "Gcn4FapdsvAY",
        "outputId": "de4553b2-38ed-456d-9b65-8bfb0919ff1f",
        "colab": {
          "base_uri": "https://localhost:8080/"
        }
      },
      "source": [
        "# Addition concatenates lists\n",
        "L + [13, 17, 19]"
      ],
      "execution_count": 4,
      "outputs": [
        {
          "output_type": "execute_result",
          "data": {
            "text/plain": [
              "[2, 3, 5, 7, 11, 13, 17, 19]"
            ]
          },
          "metadata": {
            "tags": []
          },
          "execution_count": 4
        }
      ]
    },
    {
      "cell_type": "code",
      "metadata": {
        "id": "ny0i2dOSsvAf",
        "outputId": "d3152d9a-1de6-4bd0-86c5-51ccc49d207f",
        "colab": {
          "base_uri": "https://localhost:8080/"
        }
      },
      "source": [
        "# sort() method sorts in-place\n",
        "L = [2, 5, 1, 6, 3, 4]\n",
        "L.sort()\n",
        "L"
      ],
      "execution_count": 5,
      "outputs": [
        {
          "output_type": "execute_result",
          "data": {
            "text/plain": [
              "[1, 2, 3, 4, 5, 6]"
            ]
          },
          "metadata": {
            "tags": []
          },
          "execution_count": 5
        }
      ]
    },
    {
      "cell_type": "markdown",
      "metadata": {
        "id": "24788_5JsvAk"
      },
      "source": [
        "In addition, there are many more built-in list methods; they are well-covered in Python's [online documentation](https://docs.python.org/3/tutorial/datastructures.html).\n",
        "\n",
        "While we've been demonstrating lists containing values of a single type, one of the powerful features of Python's compound objects is that they can contain objects of *any* type, or even a mix of types. For example:"
      ]
    },
    {
      "cell_type": "code",
      "metadata": {
        "id": "sk1rI1wtsvAn"
      },
      "source": [
        "L = [1, 'two', 3.14, [0, 3, 5]]"
      ],
      "execution_count": 6,
      "outputs": []
    },
    {
      "cell_type": "markdown",
      "metadata": {
        "id": "o7IMR4K9svAr"
      },
      "source": [
        "This flexibility is a consequence of Python's dynamic type system.\n",
        "Creating such a mixed sequence in a statically-typed language like C can be much more of a headache!\n",
        "We see that lists can even contain other lists as elements.\n",
        "Such type flexibility is an essential piece of what makes Python code relatively quick and easy to write.\n",
        "\n",
        "So far we've been considering manipulations of lists as a whole; another essential piece is the accessing of individual elements.\n",
        "This is done in Python via *indexing* and *slicing*, which we'll explore next."
      ]
    },
    {
      "cell_type": "markdown",
      "metadata": {
        "id": "YY45H_ABsvAs"
      },
      "source": [
        "### List indexing and slicing\n",
        "Python provides access to elements in compound types through *indexing* for single elements, and *slicing* for multiple elements.\n",
        "As we'll see, both are indicated by a square-bracket syntax.\n",
        "Suppose we return to our list of the first several primes:"
      ]
    },
    {
      "cell_type": "code",
      "metadata": {
        "id": "Qaofd16psvAs"
      },
      "source": [
        "L = [2, 3, 5, 7, 11]"
      ],
      "execution_count": 7,
      "outputs": []
    },
    {
      "cell_type": "markdown",
      "metadata": {
        "id": "IfJv8szcsvAx"
      },
      "source": [
        "Python uses *zero-based* indexing, so we can access the first and second element in using the following syntax:"
      ]
    },
    {
      "cell_type": "code",
      "metadata": {
        "id": "Ga6wTfmcsvAx",
        "outputId": "458ba574-ccdc-4eac-daf5-0ea839ae6cb5",
        "colab": {
          "base_uri": "https://localhost:8080/"
        }
      },
      "source": [
        "L[0]"
      ],
      "execution_count": 8,
      "outputs": [
        {
          "output_type": "execute_result",
          "data": {
            "text/plain": [
              "2"
            ]
          },
          "metadata": {
            "tags": []
          },
          "execution_count": 8
        }
      ]
    },
    {
      "cell_type": "code",
      "metadata": {
        "id": "HUFprMyxsvA2",
        "outputId": "0241bcf8-8a63-49d8-f445-01446fab3440",
        "colab": {
          "base_uri": "https://localhost:8080/"
        }
      },
      "source": [
        "L[1]"
      ],
      "execution_count": 9,
      "outputs": [
        {
          "output_type": "execute_result",
          "data": {
            "text/plain": [
              "3"
            ]
          },
          "metadata": {
            "tags": []
          },
          "execution_count": 9
        }
      ]
    },
    {
      "cell_type": "markdown",
      "metadata": {
        "id": "tUNkW3jhsvA7"
      },
      "source": [
        "Elements at the end of the list can be accessed with negative numbers, starting from -1:"
      ]
    },
    {
      "cell_type": "code",
      "metadata": {
        "id": "y_tYKKGdsvA8",
        "outputId": "7f1041e7-b8b6-4309-da94-bc30a99c052a",
        "colab": {
          "base_uri": "https://localhost:8080/"
        }
      },
      "source": [
        "L[-1]"
      ],
      "execution_count": 10,
      "outputs": [
        {
          "output_type": "execute_result",
          "data": {
            "text/plain": [
              "11"
            ]
          },
          "metadata": {
            "tags": []
          },
          "execution_count": 10
        }
      ]
    },
    {
      "cell_type": "code",
      "metadata": {
        "id": "lcnC-PFysvBA",
        "outputId": "bc24fb39-31f7-41d2-c0a1-ab0a82786da3",
        "colab": {
          "base_uri": "https://localhost:8080/"
        }
      },
      "source": [
        "L[-2]"
      ],
      "execution_count": 11,
      "outputs": [
        {
          "output_type": "execute_result",
          "data": {
            "text/plain": [
              "7"
            ]
          },
          "metadata": {
            "tags": []
          },
          "execution_count": 11
        }
      ]
    },
    {
      "cell_type": "markdown",
      "metadata": {
        "id": "ZGnDGEYJsvBG"
      },
      "source": [
        "You can visualize this indexing scheme this way:"
      ]
    },
    {
      "cell_type": "markdown",
      "metadata": {
        "collapsed": false,
        "id": "jEzrA1EnsvBH"
      },
      "source": [
        "![List Indexing Figure](https://github.com/jads-nl/WhirlwindTourOfPython/blob/master/fig/list-indexing.png?raw=1)"
      ]
    },
    {
      "cell_type": "markdown",
      "metadata": {
        "id": "ejSQJsuwsvBI"
      },
      "source": [
        "Here values in the list are represented by large numbers in the squares; list indices are represented by small numbers above and below.\n",
        "In this case, ``L[2]`` returns ``5``, because that is the next value at index ``2``."
      ]
    },
    {
      "cell_type": "markdown",
      "metadata": {
        "id": "ENUbuUHksvBJ"
      },
      "source": [
        "Where *indexing* is a means of fetching a single value from the list, *slicing* is a means of accessing multiple values in sub-lists.\n",
        "It uses a colon to indicate the start point (inclusive) and end point (non-inclusive) of the sub-array.\n",
        "For example, to get the first three elements of the list, we can write:"
      ]
    },
    {
      "cell_type": "code",
      "metadata": {
        "id": "tHsM_aWYsvBJ",
        "outputId": "f24043d4-760d-41d9-cba0-bb78c48e45de",
        "colab": {
          "base_uri": "https://localhost:8080/"
        }
      },
      "source": [
        "L[0:3]"
      ],
      "execution_count": 12,
      "outputs": [
        {
          "output_type": "execute_result",
          "data": {
            "text/plain": [
              "[2, 3, 5]"
            ]
          },
          "metadata": {
            "tags": []
          },
          "execution_count": 12
        }
      ]
    },
    {
      "cell_type": "markdown",
      "metadata": {
        "id": "gxA3mKdCsvBN"
      },
      "source": [
        "Notice where ``0`` and ``3`` lie in the preceding diagram, and how the slice takes just the values between the indices.\n",
        "If we leave out the first index, ``0`` is assumed, so we can equivalently write:"
      ]
    },
    {
      "cell_type": "code",
      "metadata": {
        "id": "OhFAGasosvBO",
        "outputId": "255402e7-1b30-4c2c-f08a-d3fd23c3bb29",
        "colab": {
          "base_uri": "https://localhost:8080/"
        }
      },
      "source": [
        "L[:3]"
      ],
      "execution_count": 13,
      "outputs": [
        {
          "output_type": "execute_result",
          "data": {
            "text/plain": [
              "[2, 3, 5]"
            ]
          },
          "metadata": {
            "tags": []
          },
          "execution_count": 13
        }
      ]
    },
    {
      "cell_type": "markdown",
      "metadata": {
        "id": "Qn0ivTR5svBa"
      },
      "source": [
        "Similarly, if we leave out the last index, it defaults to the length of the list.\n",
        "Thus, the last three elements can be accessed as follows:"
      ]
    },
    {
      "cell_type": "code",
      "metadata": {
        "id": "ZqNmuQ0SsvBa",
        "outputId": "deb399b5-ea0f-4545-8a8a-27497c3e7952",
        "colab": {
          "base_uri": "https://localhost:8080/"
        }
      },
      "source": [
        "L[-3:]"
      ],
      "execution_count": 14,
      "outputs": [
        {
          "output_type": "execute_result",
          "data": {
            "text/plain": [
              "[5, 7, 11]"
            ]
          },
          "metadata": {
            "tags": []
          },
          "execution_count": 14
        }
      ]
    },
    {
      "cell_type": "markdown",
      "metadata": {
        "id": "iuknjVNOsvBe"
      },
      "source": [
        "Finally, it is possible to specify a third integer that represents the step size; for example, to select every second element of the list, we can write:"
      ]
    },
    {
      "cell_type": "code",
      "metadata": {
        "id": "Sr5Etx9VsvBf",
        "outputId": "2f10c29c-a2bc-4903-f9d5-60b71cb1fb3f",
        "colab": {
          "base_uri": "https://localhost:8080/"
        }
      },
      "source": [
        "L[::2]  # equivalent to L[0:len(L):2]"
      ],
      "execution_count": 15,
      "outputs": [
        {
          "output_type": "execute_result",
          "data": {
            "text/plain": [
              "[2, 5, 11]"
            ]
          },
          "metadata": {
            "tags": []
          },
          "execution_count": 15
        }
      ]
    },
    {
      "cell_type": "markdown",
      "metadata": {
        "id": "H30xouYosvBj"
      },
      "source": [
        "A particularly useful version of this is to specify a negative step, which will reverse the array:"
      ]
    },
    {
      "cell_type": "code",
      "metadata": {
        "id": "vYxiO2j4svBk",
        "outputId": "c0ee1e19-c795-41f6-d7ea-9ff8344982a4",
        "colab": {
          "base_uri": "https://localhost:8080/"
        }
      },
      "source": [
        "L[::-1]"
      ],
      "execution_count": 16,
      "outputs": [
        {
          "output_type": "execute_result",
          "data": {
            "text/plain": [
              "[11, 7, 5, 3, 2]"
            ]
          },
          "metadata": {
            "tags": []
          },
          "execution_count": 16
        }
      ]
    },
    {
      "cell_type": "markdown",
      "metadata": {
        "id": "0JL8KHXnsvBo"
      },
      "source": [
        "Both indexing and slicing can be used to set elements as well as access them.\n",
        "The syntax is as you would expect:"
      ]
    },
    {
      "cell_type": "code",
      "metadata": {
        "id": "foMQvx8vsvBo",
        "outputId": "4ba91049-4515-4690-af93-f15b397bd02f",
        "colab": {
          "base_uri": "https://localhost:8080/"
        }
      },
      "source": [
        "L[0] = 100\n",
        "print(L)"
      ],
      "execution_count": 17,
      "outputs": [
        {
          "output_type": "stream",
          "text": [
            "[100, 3, 5, 7, 11]\n"
          ],
          "name": "stdout"
        }
      ]
    },
    {
      "cell_type": "code",
      "metadata": {
        "id": "W8Oln0oCsvBt",
        "outputId": "93377821-214d-4dc2-b180-756f6d3ecd12",
        "colab": {
          "base_uri": "https://localhost:8080/"
        }
      },
      "source": [
        "L[1:3] = [55, 56]\n",
        "print(L)"
      ],
      "execution_count": 18,
      "outputs": [
        {
          "output_type": "stream",
          "text": [
            "[100, 55, 56, 7, 11]\n"
          ],
          "name": "stdout"
        }
      ]
    },
    {
      "cell_type": "markdown",
      "metadata": {
        "id": "Lam-vrdLsvBy"
      },
      "source": [
        "A very similar slicing syntax is also used in many data science-oriented packages, including NumPy and Pandas (mentioned in the introduction).\n",
        "\n",
        "Now that we have seen Python lists and how to access elements in ordered compound types, let's take a look at the other three standard compound data types mentioned earlier."
      ]
    },
    {
      "cell_type": "markdown",
      "metadata": {
        "id": "7qlVVnp-svB0"
      },
      "source": [
        "## Tuples\n",
        "Tuples are in many ways similar to lists, but they are defined with parentheses rather than square brackets:"
      ]
    },
    {
      "cell_type": "code",
      "metadata": {
        "id": "v-X7t3ZfsvB2"
      },
      "source": [
        "t = (1, 2, 3)"
      ],
      "execution_count": 19,
      "outputs": []
    },
    {
      "cell_type": "markdown",
      "metadata": {
        "id": "lfpQ4LutsvB5"
      },
      "source": [
        "They can also be defined without any brackets at all:"
      ]
    },
    {
      "cell_type": "code",
      "metadata": {
        "id": "k034cP_jsvB6",
        "outputId": "0bfe62e9-eb50-451f-99be-4e9d9c00ddc5",
        "colab": {
          "base_uri": "https://localhost:8080/"
        }
      },
      "source": [
        "t = 1, 2, 3\n",
        "print(t)"
      ],
      "execution_count": 20,
      "outputs": [
        {
          "output_type": "stream",
          "text": [
            "(1, 2, 3)\n"
          ],
          "name": "stdout"
        }
      ]
    },
    {
      "cell_type": "markdown",
      "metadata": {
        "id": "iRmqpKBksvB9"
      },
      "source": [
        "Like the lists discussed before, tuples have a length, and individual elements can be extracted using square-bracket indexing:"
      ]
    },
    {
      "cell_type": "code",
      "metadata": {
        "id": "IV9mAhdGsvB-",
        "outputId": "e33d00cb-107d-4ab5-f566-72c5b39a45fb",
        "colab": {
          "base_uri": "https://localhost:8080/"
        }
      },
      "source": [
        "len(t)"
      ],
      "execution_count": 21,
      "outputs": [
        {
          "output_type": "execute_result",
          "data": {
            "text/plain": [
              "3"
            ]
          },
          "metadata": {
            "tags": []
          },
          "execution_count": 21
        }
      ]
    },
    {
      "cell_type": "code",
      "metadata": {
        "id": "eaTZS8BcsvCC",
        "outputId": "e14e8916-b99e-4a93-e267-9045a0fdc394",
        "colab": {
          "base_uri": "https://localhost:8080/"
        }
      },
      "source": [
        "t[0]"
      ],
      "execution_count": 22,
      "outputs": [
        {
          "output_type": "execute_result",
          "data": {
            "text/plain": [
              "1"
            ]
          },
          "metadata": {
            "tags": []
          },
          "execution_count": 22
        }
      ]
    },
    {
      "cell_type": "markdown",
      "metadata": {
        "id": "Xjzka3x_svCG"
      },
      "source": [
        "The main distinguishing feature of tuples is that they are *immutable*: this means that once they are created, their size and contents cannot be changed:"
      ]
    },
    {
      "cell_type": "code",
      "metadata": {
        "id": "TE2QtDDusvCI",
        "outputId": "0f1bd035-1be3-4019-a031-44cc9c06d7b2",
        "colab": {
          "base_uri": "https://localhost:8080/",
          "height": 165
        }
      },
      "source": [
        "t[1] = 4"
      ],
      "execution_count": 23,
      "outputs": [
        {
          "output_type": "error",
          "ename": "TypeError",
          "evalue": "ignored",
          "traceback": [
            "\u001b[0;31m---------------------------------------------------------------------------\u001b[0m",
            "\u001b[0;31mTypeError\u001b[0m                                 Traceback (most recent call last)",
            "\u001b[0;32m<ipython-input-23-87b0f225887f>\u001b[0m in \u001b[0;36m<module>\u001b[0;34m()\u001b[0m\n\u001b[0;32m----> 1\u001b[0;31m \u001b[0mt\u001b[0m\u001b[0;34m[\u001b[0m\u001b[0;36m1\u001b[0m\u001b[0;34m]\u001b[0m \u001b[0;34m=\u001b[0m \u001b[0;36m4\u001b[0m\u001b[0;34m\u001b[0m\u001b[0;34m\u001b[0m\u001b[0m\n\u001b[0m",
            "\u001b[0;31mTypeError\u001b[0m: 'tuple' object does not support item assignment"
          ]
        }
      ]
    },
    {
      "cell_type": "code",
      "metadata": {
        "id": "9G86mvJwsvCK",
        "outputId": "8f215e82-f19d-4554-9115-1243b02e7a22",
        "colab": {
          "base_uri": "https://localhost:8080/",
          "height": 165
        }
      },
      "source": [
        "t.append(4)"
      ],
      "execution_count": 24,
      "outputs": [
        {
          "output_type": "error",
          "ename": "AttributeError",
          "evalue": "ignored",
          "traceback": [
            "\u001b[0;31m---------------------------------------------------------------------------\u001b[0m",
            "\u001b[0;31mAttributeError\u001b[0m                            Traceback (most recent call last)",
            "\u001b[0;32m<ipython-input-24-ada7ed8a579e>\u001b[0m in \u001b[0;36m<module>\u001b[0;34m()\u001b[0m\n\u001b[0;32m----> 1\u001b[0;31m \u001b[0mt\u001b[0m\u001b[0;34m.\u001b[0m\u001b[0mappend\u001b[0m\u001b[0;34m(\u001b[0m\u001b[0;36m4\u001b[0m\u001b[0;34m)\u001b[0m\u001b[0;34m\u001b[0m\u001b[0;34m\u001b[0m\u001b[0m\n\u001b[0m",
            "\u001b[0;31mAttributeError\u001b[0m: 'tuple' object has no attribute 'append'"
          ]
        }
      ]
    },
    {
      "cell_type": "markdown",
      "metadata": {
        "id": "gR8i1QSgsvCM"
      },
      "source": [
        "Tuples are often used in a Python program; a particularly common case is in functions that have multiple return values.\n",
        "For example, the ``as_integer_ratio()`` method of floating-point objects returns a numerator and a denominator; this dual return value comes in the form of a tuple:"
      ]
    },
    {
      "cell_type": "code",
      "metadata": {
        "id": "N7KlFZXQsvCN",
        "outputId": "18d1e2de-8fa6-4a54-ec4d-104c40eca629",
        "colab": {
          "base_uri": "https://localhost:8080/"
        }
      },
      "source": [
        "x = 0.125\n",
        "x.as_integer_ratio()"
      ],
      "execution_count": 25,
      "outputs": [
        {
          "output_type": "execute_result",
          "data": {
            "text/plain": [
              "(1, 8)"
            ]
          },
          "metadata": {
            "tags": []
          },
          "execution_count": 25
        }
      ]
    },
    {
      "cell_type": "markdown",
      "metadata": {
        "id": "AMDbWHf8svCQ"
      },
      "source": [
        "These multiple return values can be individually assigned as follows:"
      ]
    },
    {
      "cell_type": "code",
      "metadata": {
        "id": "YGtqoLNFsvCR",
        "outputId": "a4272b64-6077-4502-a931-790199d5d985",
        "colab": {
          "base_uri": "https://localhost:8080/"
        }
      },
      "source": [
        "numerator, denominator = x.as_integer_ratio()\n",
        "print(numerator / denominator)"
      ],
      "execution_count": 26,
      "outputs": [
        {
          "output_type": "stream",
          "text": [
            "0.125\n"
          ],
          "name": "stdout"
        }
      ]
    },
    {
      "cell_type": "markdown",
      "metadata": {
        "id": "Imv7l9QjsvCU"
      },
      "source": [
        "The indexing and slicing logic covered earlier for lists works for tuples as well, along with a host of other methods.\n",
        "Refer to the online [Python documentation](https://docs.python.org/3/tutorial/datastructures.html) for a more complete list of these."
      ]
    },
    {
      "cell_type": "markdown",
      "metadata": {
        "id": "-8Th1WmzsvCU"
      },
      "source": [
        "## Dictionaries\n",
        "Dictionaries are extremely flexible mappings of keys to values, and form the basis of much of Python's internal implementation.\n",
        "They can be created via a comma-separated list of ``key:value`` pairs within curly braces:"
      ]
    },
    {
      "cell_type": "code",
      "metadata": {
        "id": "tUlfW6CSsvCV"
      },
      "source": [
        "numbers = {'one':1, 'two':2, 'three':3}"
      ],
      "execution_count": 27,
      "outputs": []
    },
    {
      "cell_type": "markdown",
      "metadata": {
        "id": "FHTHL22TsvCX"
      },
      "source": [
        "Items are accessed and set via the indexing syntax used for lists and tuples, except here the index is not a zero-based order but valid key in the dictionary:"
      ]
    },
    {
      "cell_type": "code",
      "metadata": {
        "id": "M55Ug8AfsvCY",
        "outputId": "b5153e45-cec4-4a6b-9881-60e2fd5d014d",
        "colab": {
          "base_uri": "https://localhost:8080/"
        }
      },
      "source": [
        "# Access a value via the key\n",
        "numbers['two']"
      ],
      "execution_count": 28,
      "outputs": [
        {
          "output_type": "execute_result",
          "data": {
            "text/plain": [
              "2"
            ]
          },
          "metadata": {
            "tags": []
          },
          "execution_count": 28
        }
      ]
    },
    {
      "cell_type": "markdown",
      "metadata": {
        "id": "tG775GltsvCZ"
      },
      "source": [
        "New items can be added to the dictionary using indexing as well:"
      ]
    },
    {
      "cell_type": "code",
      "metadata": {
        "id": "sEb8HphIsvCa",
        "outputId": "fcb31906-1930-4751-dca0-21ca1b566930",
        "colab": {
          "base_uri": "https://localhost:8080/"
        }
      },
      "source": [
        "# Set a new key:value pair\n",
        "numbers['ninety'] = 90\n",
        "print(numbers)"
      ],
      "execution_count": 29,
      "outputs": [
        {
          "output_type": "stream",
          "text": [
            "{'one': 1, 'two': 2, 'three': 3, 'ninety': 90}\n"
          ],
          "name": "stdout"
        }
      ]
    },
    {
      "cell_type": "markdown",
      "metadata": {
        "id": "_XFVoPYCsvCd"
      },
      "source": [
        "Keep in mind that dictionaries do not maintain any sense of order for the input parameters; this is by design.\n",
        "This lack of ordering allows dictionaries to be implemented very efficiently, so that random element access is very fast, regardless of the size of the dictionary (if you're curious how this works, read about the concept of a *hash table*).\n",
        "The [python documentation](https://docs.python.org/3/library/stdtypes.html) has a complete list of the methods available for dictionaries."
      ]
    },
    {
      "cell_type": "markdown",
      "metadata": {
        "id": "F2HAQXbDsvCf"
      },
      "source": [
        "## Sets\n",
        "\n",
        "The fourth basic collection is the set, which contains unordered collections of unique items.\n",
        "They are defined much like lists and tuples, except they use the curly brackets of dictionaries:"
      ]
    },
    {
      "cell_type": "code",
      "metadata": {
        "id": "EAXLCzD7svCf"
      },
      "source": [
        "primes = {2, 3, 5, 7}\n",
        "odds = {1, 3, 5, 7, 9}"
      ],
      "execution_count": 30,
      "outputs": []
    },
    {
      "cell_type": "markdown",
      "metadata": {
        "id": "2LyP3pNfsvCh"
      },
      "source": [
        "If you're familiar with the mathematics of sets, you'll be familiar with operations like the union, intersection, difference, symmetric difference, and others.\n",
        "Python's sets have all of these operations built-in, via methods or operators.\n",
        "For each, we'll show the two equivalent methods:"
      ]
    },
    {
      "cell_type": "code",
      "metadata": {
        "id": "ZtUnhQHmsvCh",
        "outputId": "98f4ce77-4737-47d6-f5fd-16fc9740952a",
        "colab": {
          "base_uri": "https://localhost:8080/"
        }
      },
      "source": [
        "# union: items appearing in either\n",
        "primes | odds      # with an operator\n",
        "primes.union(odds) # equivalently with a method"
      ],
      "execution_count": 31,
      "outputs": [
        {
          "output_type": "execute_result",
          "data": {
            "text/plain": [
              "{1, 2, 3, 5, 7, 9}"
            ]
          },
          "metadata": {
            "tags": []
          },
          "execution_count": 31
        }
      ]
    },
    {
      "cell_type": "code",
      "metadata": {
        "id": "uzQ3CQ3GsvCk",
        "outputId": "d84c7ce1-9a1f-45be-865c-36cd2444bb87",
        "colab": {
          "base_uri": "https://localhost:8080/"
        }
      },
      "source": [
        "# intersection: items appearing in both\n",
        "primes & odds             # with an operator\n",
        "primes.intersection(odds) # equivalently with a method"
      ],
      "execution_count": 32,
      "outputs": [
        {
          "output_type": "execute_result",
          "data": {
            "text/plain": [
              "{3, 5, 7}"
            ]
          },
          "metadata": {
            "tags": []
          },
          "execution_count": 32
        }
      ]
    },
    {
      "cell_type": "code",
      "metadata": {
        "id": "Fg4i-W0zsvCm",
        "outputId": "02bd2ed7-9931-4412-fcdb-2d851f870c89",
        "colab": {
          "base_uri": "https://localhost:8080/"
        }
      },
      "source": [
        "# difference: items in primes but not in odds\n",
        "primes - odds           # with an operator\n",
        "primes.difference(odds) # equivalently with a method"
      ],
      "execution_count": 34,
      "outputs": [
        {
          "output_type": "execute_result",
          "data": {
            "text/plain": [
              "{2}"
            ]
          },
          "metadata": {
            "tags": []
          },
          "execution_count": 34
        }
      ]
    },
    {
      "cell_type": "code",
      "metadata": {
        "id": "9oewB5u4svCn",
        "outputId": "00ef0d0b-0604-4864-b1e0-4b59af891172",
        "colab": {
          "base_uri": "https://localhost:8080/"
        }
      },
      "source": [
        "# symmetric difference: items appearing in only one set\n",
        "primes ^ odds                     # with an operator\n",
        "primes.symmetric_difference(odds) # equivalently with a method"
      ],
      "execution_count": 35,
      "outputs": [
        {
          "output_type": "execute_result",
          "data": {
            "text/plain": [
              "{1, 2, 9}"
            ]
          },
          "metadata": {
            "tags": []
          },
          "execution_count": 35
        }
      ]
    },
    {
      "cell_type": "markdown",
      "metadata": {
        "id": "GHbvwdBWsvCq"
      },
      "source": [
        "Many more set methods and operations are available.\n",
        "You've probably already guessed what I'll say next: refer to Python's [online documentation](https://docs.python.org/3/library/stdtypes.html) for a complete reference."
      ]
    },
    {
      "cell_type": "markdown",
      "metadata": {
        "id": "py0MAhd2svCq"
      },
      "source": [
        "## More Specialized Data Structures\n",
        "\n",
        "Python contains several other data structures that you might find useful; these can generally be found in the built-in ``collections`` module.\n",
        "The collections module is fully-documented in [Python's online documentation](https://docs.python.org/3/library/collections.html), and you can read more about the various objects available there.\n",
        "\n",
        "In particular, I've found the following very useful on occasion:\n",
        "\n",
        "- ``collections.namedtuple``: Like a tuple, but each value has a name\n",
        "- ``collections.defaultdict``: Like a dictionary, but unspecified keys have a user-specified default value\n",
        "- ``collections.OrderedDict``: Like a dictionary, but the order of keys is maintained\n",
        "\n",
        "Once you've seen the standard built-in collection types, the use of these extended functionalities is very intuitive, and I'd suggest [reading about their use](https://docs.python.org/3/library/collections.html)."
      ]
    },
    {
      "cell_type": "markdown",
      "metadata": {
        "id": "1Zi_T83ysvCq"
      },
      "source": [
        "<!--NAVIGATION-->\n",
        "< [Built-In Types: Simple Values](05-Built-in-Scalar-Types.ipynb) | [Contents](Index.ipynb) | [Control Flow](07-Control-Flow-Statements.ipynb) >"
      ]
    }
  ]
}
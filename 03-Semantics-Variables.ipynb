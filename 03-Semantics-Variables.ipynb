{
  "nbformat": 4,
  "nbformat_minor": 0,
  "metadata": {
    "anaconda-cloud": {},
    "kernelspec": {
      "display_name": "Python 3",
      "language": "python",
      "name": "python3"
    },
    "language_info": {
      "codemirror_mode": {
        "name": "ipython",
        "version": 3
      },
      "file_extension": ".py",
      "mimetype": "text/x-python",
      "name": "python",
      "nbconvert_exporter": "python",
      "pygments_lexer": "ipython3",
      "version": "3.5.1"
    },
    "colab": {
      "name": "03-Semantics-Variables.ipynb",
      "provenance": [],
      "include_colab_link": true
    }
  },
  "cells": [
    {
      "cell_type": "markdown",
      "metadata": {
        "id": "view-in-github",
        "colab_type": "text"
      },
      "source": [
        "<a href=\"https://colab.research.google.com/github/jads-nl/WhirlwindTourOfPython/blob/master/03-Semantics-Variables.ipynb\" target=\"_parent\"><img src=\"https://colab.research.google.com/assets/colab-badge.svg\" alt=\"Open In Colab\"/></a>"
      ]
    },
    {
      "cell_type": "markdown",
      "metadata": {
        "id": "qtEvC4ZrsFQa"
      },
      "source": [
        "<!--BOOK_INFORMATION-->\n",
        "<img align=\"left\" style=\"padding-right:10px;\" src=\"https://github.com/jads-nl/WhirlwindTourOfPython/blob/master/fig/cover-small.jpg?raw=1\">\n",
        "*This notebook contains an excerpt from the [Whirlwind Tour of Python](http://www.oreilly.com/programming/free/a-whirlwind-tour-of-python.csp) by Jake VanderPlas; the content is available [on GitHub](https://github.com/jakevdp/WhirlwindTourOfPython).*\n",
        "\n",
        "*The text and code are released under the [CC0](https://github.com/jakevdp/WhirlwindTourOfPython/blob/master/LICENSE) license; see also the companion project, the [Python Data Science Handbook](https://github.com/jakevdp/PythonDataScienceHandbook).*\n"
      ]
    },
    {
      "cell_type": "markdown",
      "metadata": {
        "id": "aeyF4qxMsFQj"
      },
      "source": [
        "<!--NAVIGATION-->\n",
        "< [A Quick Tour of Python Language Syntax](02-Basic-Python-Syntax.ipynb) | [Contents](Index.ipynb) | [Basic Python Semantics: Operators](04-Semantics-Operators.ipynb) >"
      ]
    },
    {
      "cell_type": "markdown",
      "metadata": {
        "id": "72fKZGLCsFQn"
      },
      "source": [
        "# Basic Python Semantics: Variables and Objects"
      ]
    },
    {
      "cell_type": "markdown",
      "metadata": {
        "id": "BnQQTWERsFQw"
      },
      "source": [
        "This section will begin to cover the basic semantics of the Python language.\n",
        "As opposed to the *syntax* covered in the previous section, the *semantics* of a language involve the meaning of the statements.\n",
        "As with our discussion of syntax, here we'll preview a few of the essential semantic constructions in Python to give you a better frame of reference for understanding the code in the following sections.\n",
        "\n",
        "This section will cover the semantics of *variables* and *objects*, which are the main ways you store, reference, and operate on data within a Python script."
      ]
    },
    {
      "cell_type": "markdown",
      "metadata": {
        "id": "IecnVD3IsFQ2"
      },
      "source": [
        "## Python Variables Are Pointers\n",
        "\n",
        "Assigning variables in Python is as easy as putting a variable name to the left of the equals (``=``) sign:\n",
        "\n",
        "```python\n",
        "# assign 4 to the variable x\n",
        "x = 4\n",
        "```\n",
        "\n",
        "This may seem straightforward, but if you have the wrong mental model of what this operation does, the way Python works may seem confusing.\n",
        "We'll briefly dig into that here.\n",
        "\n",
        "In many programming languages, variables are best thought of as containers or buckets into which you put data.\n",
        "So in C, for example, when you write\n",
        "\n",
        "```C\n",
        "// C code\n",
        "int x = 4;\n",
        "```\n",
        "\n",
        "you are essentially defining a \"memory bucket\" named ``x``, and putting the value ``4`` into it.\n",
        "In Python, by contrast, variables are best thought of not as containers but as pointers.\n",
        "So in Python, when you write\n",
        "\n",
        "```python\n",
        "x = 4\n",
        "```\n",
        "\n",
        "you are essentially defining a *pointer* named ``x`` that points to some other bucket containing the value ``4``.\n",
        "Note one consequence of this: because Python variables just point to various objects, there is no need to \"declare\" the variable, or even require the variable to always point to information of the same type!\n",
        "This is the sense in which people say Python is *dynamically-typed*: variable names can point to objects of any type.\n",
        "So in Python, you can do things like this:"
      ]
    },
    {
      "cell_type": "code",
      "metadata": {
        "id": "ipknh_ySsFQ5"
      },
      "source": [
        "x = 1         # x is an integer\n",
        "x = 'hello'   # now x is a string\n",
        "x = [1, 2, 3] # now x is a list"
      ],
      "execution_count": 1,
      "outputs": []
    },
    {
      "cell_type": "markdown",
      "metadata": {
        "id": "C88yznXYsFRL"
      },
      "source": [
        "While users of statically-typed languages might miss the type-safety that comes with declarations like those found in C,\n",
        "\n",
        "```C\n",
        "int x = 4;\n",
        "```\n",
        "\n",
        "this dynamic typing is one of the pieces that makes Python so quick to write and easy to read.\n",
        "\n",
        "There is a consequence of this \"variable as pointer\" approach that you need to be aware of.\n",
        "If we have two variable names pointing to the same *mutable* object, then changing one will change the other as well!\n",
        "For example, let's create and modify a list:"
      ]
    },
    {
      "cell_type": "code",
      "metadata": {
        "id": "HVSixiWSsFRP"
      },
      "source": [
        "x = [1, 2, 3]\n",
        "y = x"
      ],
      "execution_count": 2,
      "outputs": []
    },
    {
      "cell_type": "markdown",
      "metadata": {
        "id": "vd2HKczysFRe"
      },
      "source": [
        "We've created two variables ``x`` and ``y`` which both point to the same object.\n",
        "Because of this, if we modify the list via one of its names, we'll see that the \"other\" list will be modified as well:"
      ]
    },
    {
      "cell_type": "code",
      "metadata": {
        "id": "-8FurkJIsFRg",
        "outputId": "1c5d8be5-28d1-4cb8-e397-67aaf8ee3e44",
        "colab": {
          "base_uri": "https://localhost:8080/"
        }
      },
      "source": [
        "print(y)"
      ],
      "execution_count": 3,
      "outputs": [
        {
          "output_type": "stream",
          "text": [
            "[1, 2, 3]\n"
          ],
          "name": "stdout"
        }
      ]
    },
    {
      "cell_type": "code",
      "metadata": {
        "id": "ZW2dYYBhsFRr",
        "outputId": "5ea67dfd-eb34-4ac3-eeb7-44382fb18e0c",
        "colab": {
          "base_uri": "https://localhost:8080/"
        }
      },
      "source": [
        "x.append(4) # append 4 to the list pointed to by x\n",
        "print(y) # y's list is modified as well!"
      ],
      "execution_count": 4,
      "outputs": [
        {
          "output_type": "stream",
          "text": [
            "[1, 2, 3, 4]\n"
          ],
          "name": "stdout"
        }
      ]
    },
    {
      "cell_type": "markdown",
      "metadata": {
        "id": "EQg7xActsFR2"
      },
      "source": [
        "This behavior might seem confusing if you're wrongly thinking of variables as buckets that contain data.\n",
        "But if you're correctly thinking of variables as pointers to objects, then this behavior makes sense.\n",
        "\n",
        "Note also that if we use \"``=``\" to assign another value to ``x``, this will not affect the value of ``y`` – assignment is simply a change of what object the variable points to:"
      ]
    },
    {
      "cell_type": "code",
      "metadata": {
        "id": "HO-C8lTQsFR3",
        "outputId": "5021c5f9-be69-4d77-ff43-885ed6bdf8bc",
        "colab": {
          "base_uri": "https://localhost:8080/"
        }
      },
      "source": [
        "x = 'something else'\n",
        "print(y)  # y is unchanged"
      ],
      "execution_count": 5,
      "outputs": [
        {
          "output_type": "stream",
          "text": [
            "[1, 2, 3, 4]\n"
          ],
          "name": "stdout"
        }
      ]
    },
    {
      "cell_type": "markdown",
      "metadata": {
        "id": "1vP62tqjsFSE"
      },
      "source": [
        "Again, this makes perfect sense if you think of ``x`` and ``y`` as pointers, and the \"``=``\" operator as an operation that changes what the name points to.\n",
        "\n",
        "You might wonder whether this pointer idea makes arithmetic operations in Python difficult to track, but Python is set up so that this is not an issue. Numbers, strings, and other *simple types* are immutable: you can't change their value – you can only change what values the variables point to.\n",
        "So, for example, it's perfectly safe to do operations like the following:"
      ]
    },
    {
      "cell_type": "code",
      "metadata": {
        "id": "Yz3c1oE9sFSG",
        "outputId": "ae2127a9-5360-4b90-802e-3046bfbd91af",
        "colab": {
          "base_uri": "https://localhost:8080/"
        }
      },
      "source": [
        "x = 10\n",
        "y = x\n",
        "x += 5  # add 5 to x's value, and assign it to x\n",
        "print(\"x =\", x)\n",
        "print(\"y =\", y)"
      ],
      "execution_count": 6,
      "outputs": [
        {
          "output_type": "stream",
          "text": [
            "x = 15\n",
            "y = 10\n"
          ],
          "name": "stdout"
        }
      ]
    },
    {
      "cell_type": "markdown",
      "metadata": {
        "id": "9Wt3mEqhsFSU"
      },
      "source": [
        "When we call ``x += 5``, we are not modifying the value of the ``10`` object pointed to by ``x``; we are rather changing the variable ``x`` so that it points to a new integer object with value ``15``.\n",
        "For this reason, the value of ``y`` is not affected by the operation."
      ]
    },
    {
      "cell_type": "markdown",
      "metadata": {
        "id": "OARCyTXgsFSW"
      },
      "source": [
        "## Everything Is an Object\n",
        "\n",
        "Python is an object-oriented programming language, and in Python everything is an object.\n",
        "\n",
        "Let's flesh-out what this means. Earlier we saw that variables are simply pointers, and the variable names themselves have no attached type information.\n",
        "This leads some to claim erroneously that Python is a type-free language. But this is not the case!\n",
        "Consider the following:"
      ]
    },
    {
      "cell_type": "code",
      "metadata": {
        "id": "UinIaOtesFSX",
        "outputId": "3119959c-2f62-4d56-d98a-cdb9eb721c75",
        "colab": {
          "base_uri": "https://localhost:8080/"
        }
      },
      "source": [
        "x = 4\n",
        "type(x)"
      ],
      "execution_count": 7,
      "outputs": [
        {
          "output_type": "execute_result",
          "data": {
            "text/plain": [
              "int"
            ]
          },
          "metadata": {
            "tags": []
          },
          "execution_count": 7
        }
      ]
    },
    {
      "cell_type": "code",
      "metadata": {
        "id": "aku3hMOzsFSe",
        "outputId": "13a54d19-c387-45bf-890e-5a8e1018a091",
        "colab": {
          "base_uri": "https://localhost:8080/"
        }
      },
      "source": [
        "x = 'hello'\n",
        "type(x)"
      ],
      "execution_count": 8,
      "outputs": [
        {
          "output_type": "execute_result",
          "data": {
            "text/plain": [
              "str"
            ]
          },
          "metadata": {
            "tags": []
          },
          "execution_count": 8
        }
      ]
    },
    {
      "cell_type": "code",
      "metadata": {
        "id": "8P1meelTsFSl",
        "outputId": "032b43d7-9b7f-4c40-a77e-5c6e50771f5d",
        "colab": {
          "base_uri": "https://localhost:8080/"
        }
      },
      "source": [
        "x = 3.14159\n",
        "type(x)"
      ],
      "execution_count": 9,
      "outputs": [
        {
          "output_type": "execute_result",
          "data": {
            "text/plain": [
              "float"
            ]
          },
          "metadata": {
            "tags": []
          },
          "execution_count": 9
        }
      ]
    },
    {
      "cell_type": "markdown",
      "metadata": {
        "id": "Ae2crag0sFSr"
      },
      "source": [
        "Python has types; however, the types are linked not to the variable names but *to the objects themselves*.\n",
        "\n",
        "In object-oriented programming languages like Python, an *object* is an entity that contains data along with associated metadata and/or functionality.\n",
        "In Python everything is an object, which means every entity has some metadata (called *attributes*) and associated functionality (called *methods*).\n",
        "These attributes and methods are accessed via the dot syntax.\n",
        "\n",
        "For example, before we saw that lists have an ``append`` method, which adds an item to the list, and is accessed via the dot (\"``.``\") syntax:"
      ]
    },
    {
      "cell_type": "code",
      "metadata": {
        "id": "VQ8foJ_XsFSs",
        "outputId": "08ec1843-8f65-499a-d85f-48166934f254",
        "colab": {
          "base_uri": "https://localhost:8080/"
        }
      },
      "source": [
        "L = [1, 2, 3]\n",
        "L.append(100)\n",
        "print(L)"
      ],
      "execution_count": 10,
      "outputs": [
        {
          "output_type": "stream",
          "text": [
            "[1, 2, 3, 100]\n"
          ],
          "name": "stdout"
        }
      ]
    },
    {
      "cell_type": "markdown",
      "metadata": {
        "id": "AhuLYdEUsFSy"
      },
      "source": [
        "While it might be expected for compound objects like lists to have attributes and methods, what is sometimes unexpected is that in Python even simple types have attached attributes and methods.\n",
        "For example, numerical types have a ``real`` and ``imag`` attribute that returns the real and imaginary part of the value, if viewed as a complex number:"
      ]
    },
    {
      "cell_type": "code",
      "metadata": {
        "id": "EeEAzN7nsFSz",
        "outputId": "1e1a0c2b-def3-41e9-c1d2-7c589b1737da",
        "colab": {
          "base_uri": "https://localhost:8080/"
        }
      },
      "source": [
        "x = 4.5\n",
        "print(x.real, \"+\", x.imag, 'i')"
      ],
      "execution_count": 11,
      "outputs": [
        {
          "output_type": "stream",
          "text": [
            "4.5 + 0.0 i\n"
          ],
          "name": "stdout"
        }
      ]
    },
    {
      "cell_type": "markdown",
      "metadata": {
        "id": "GnSLWt5MsFS5"
      },
      "source": [
        "Methods are like attributes, except they are functions that you can call using opening and closing parentheses.\n",
        "For example, floating point numbers have a method called ``is_integer`` that checks whether the value is an integer:"
      ]
    },
    {
      "cell_type": "code",
      "metadata": {
        "id": "sgWiULzRsFS6",
        "outputId": "d5559545-072e-45d4-e40e-76e77c810afd",
        "colab": {
          "base_uri": "https://localhost:8080/"
        }
      },
      "source": [
        "x = 4.5\n",
        "x.is_integer()"
      ],
      "execution_count": 12,
      "outputs": [
        {
          "output_type": "execute_result",
          "data": {
            "text/plain": [
              "False"
            ]
          },
          "metadata": {
            "tags": []
          },
          "execution_count": 12
        }
      ]
    },
    {
      "cell_type": "code",
      "metadata": {
        "id": "dSoO7JL9sFS-",
        "outputId": "4dedaa4e-8e6a-40c3-9e1f-0c8aacb5c986",
        "colab": {
          "base_uri": "https://localhost:8080/"
        }
      },
      "source": [
        "x = 4.0\n",
        "x.is_integer()"
      ],
      "execution_count": 13,
      "outputs": [
        {
          "output_type": "execute_result",
          "data": {
            "text/plain": [
              "True"
            ]
          },
          "metadata": {
            "tags": []
          },
          "execution_count": 13
        }
      ]
    },
    {
      "cell_type": "markdown",
      "metadata": {
        "id": "R5hKuxeKsFTE"
      },
      "source": [
        "When we say that everything in Python is an object, we really mean that *everything* is an object – even the attributes and methods of objects are themselves objects with their own ``type`` information:"
      ]
    },
    {
      "cell_type": "code",
      "metadata": {
        "id": "9VDV6ksesFTE",
        "outputId": "51cd66c4-c785-47b7-cfe9-799506fc3f30",
        "colab": {
          "base_uri": "https://localhost:8080/"
        }
      },
      "source": [
        "type(x.is_integer)"
      ],
      "execution_count": 14,
      "outputs": [
        {
          "output_type": "execute_result",
          "data": {
            "text/plain": [
              "builtin_function_or_method"
            ]
          },
          "metadata": {
            "tags": []
          },
          "execution_count": 14
        }
      ]
    },
    {
      "cell_type": "markdown",
      "metadata": {
        "id": "gpTf1NxHsFTP"
      },
      "source": [
        "We'll find that the everything-is-object design choice of Python allows for some very convenient language constructs."
      ]
    },
    {
      "cell_type": "markdown",
      "metadata": {
        "id": "1JnIp9ibsFTQ"
      },
      "source": [
        "<!--NAVIGATION-->\n",
        "< [A Quick Tour of Python Language Syntax](02-Basic-Python-Syntax.ipynb) | [Contents](Index.ipynb) | [Basic Python Semantics: Operators](04-Semantics-Operators.ipynb) >"
      ]
    }
  ]
}